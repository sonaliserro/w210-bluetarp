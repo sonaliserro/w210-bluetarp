{
 "cells": [
  {
   "cell_type": "code",
   "execution_count": null,
   "metadata": {},
   "outputs": [],
   "source": [
    "import json\n",
    "\n",
    "import matplotlib.pyplot as plt\n",
    "\n",
    "import pandas as pd\n",
    "import numpy as np"
   ]
  },
  {
   "cell_type": "markdown",
   "metadata": {},
   "source": [
    "### Read the csv/json file that was downloaded into a pandas dataframe"
   ]
  },
  {
   "cell_type": "code",
   "execution_count": null,
   "metadata": {},
   "outputs": [],
   "source": [
    "femaLargeDf = pd.read_csv('../data/FEMA-Large-DR-4339-PR.csv', encoding='utf-8')"
   ]
  },
  {
   "cell_type": "code",
   "execution_count": null,
   "metadata": {
    "scrolled": true
   },
   "outputs": [],
   "source": [
    "# Read from JSON\n",
    "with open('../data/open-fema/FEMA-DR-4339-PR.json','r') as f:\n",
    "    femaData = json.loads(f.read())\n",
    "femaDf = pd.json_normalize(femaData['fema_open_api'])\n",
    "\n",
    "# Read from CSV\n",
    "# femaDf = pd.read_csv('../data/open-fema/FEMA-DR-4339-PR.csv', encoding='utf-8')"
   ]
  },
  {
   "cell_type": "code",
   "execution_count": null,
   "metadata": {},
   "outputs": [],
   "source": [
    "print('Found {} records'.format(len(femaDf)))"
   ]
  },
  {
   "cell_type": "code",
   "execution_count": null,
   "metadata": {},
   "outputs": [],
   "source": [
    "# Look at few lines\n",
    "femaDf.head()"
   ]
  },
  {
   "cell_type": "code",
   "execution_count": null,
   "metadata": {},
   "outputs": [],
   "source": [
    "femaDf.columns.tolist()"
   ]
  },
  {
   "cell_type": "markdown",
   "metadata": {},
   "source": [
    "### Aggregate 'haStatus' column across all counties - Top 20 reasons"
   ]
  },
  {
   "cell_type": "code",
   "execution_count": null,
   "metadata": {},
   "outputs": [],
   "source": [
    "femaDf.groupby(['haStatus'])['haStatus'].count().nlargest(30)"
   ]
  },
  {
   "cell_type": "markdown",
   "metadata": {},
   "source": [
    "### Aggregate 'inspnReturned' column, grouped by county - Top 20 counties with lowest rates of inspection"
   ]
  },
  {
   "cell_type": "code",
   "execution_count": null,
   "metadata": {},
   "outputs": [],
   "source": [
    "femaDf.groupby(['county'])['inspnReturned'].mean().nsmallest(20)*100"
   ]
  },
  {
   "cell_type": "markdown",
   "metadata": {},
   "source": [
    "### Aggregate 'ihpAmount' column, grouped by county - Top 20 counties"
   ]
  },
  {
   "cell_type": "code",
   "execution_count": null,
   "metadata": {},
   "outputs": [],
   "source": [
    "# View aggregated ihpAmount, grouped by county\n",
    "femaDf.groupby(['county'])['ihpAmount'].agg('sum').nlargest(20)"
   ]
  },
  {
   "cell_type": "markdown",
   "metadata": {},
   "source": [
    "### Aggregate 'roofDamage' column, grouped by county - Top 20 counties with most roof damage"
   ]
  },
  {
   "cell_type": "code",
   "execution_count": null,
   "metadata": {},
   "outputs": [],
   "source": [
    "# View aggregated ihpAmount, grouped by county\n",
    "femaDf.groupby(['county'])['roofDamage'].mean().nlargest(20)*100"
   ]
  },
  {
   "cell_type": "markdown",
   "metadata": {},
   "source": [
    "### Aggregate registrations by county"
   ]
  },
  {
   "cell_type": "code",
   "execution_count": null,
   "metadata": {},
   "outputs": [],
   "source": [
    "femaDf['tsaEligible'].value_counts()"
   ]
  },
  {
   "cell_type": "markdown",
   "metadata": {},
   "source": [
    "### Some stats around inspnReturned, homeOwnersInsurance, floodInsurance, ihpEligible, inspnIssued"
   ]
  },
  {
   "cell_type": "code",
   "execution_count": null,
   "metadata": {},
   "outputs": [],
   "source": [
    "femaDf['inspnReturned'].value_counts()"
   ]
  },
  {
   "cell_type": "code",
   "execution_count": null,
   "metadata": {},
   "outputs": [],
   "source": [
    "femaDf['homeOwnersInsurance'].value_counts()"
   ]
  },
  {
   "cell_type": "code",
   "execution_count": null,
   "metadata": {},
   "outputs": [],
   "source": [
    "femaDf['floodInsurance'].value_counts()"
   ]
  },
  {
   "cell_type": "code",
   "execution_count": null,
   "metadata": {},
   "outputs": [],
   "source": [
    "femaDf['roofDamage'].mean()"
   ]
  },
  {
   "cell_type": "code",
   "execution_count": null,
   "metadata": {},
   "outputs": [],
   "source": [
    "femaDf['homeDamage'].value_counts()"
   ]
  },
  {
   "cell_type": "code",
   "execution_count": null,
   "metadata": {},
   "outputs": [],
   "source": [
    "femaDf['utilitiesOut'].mean()"
   ]
  },
  {
   "cell_type": "code",
   "execution_count": null,
   "metadata": {},
   "outputs": [],
   "source": [
    "femaDf['homeDamage'].mean()"
   ]
  },
  {
   "cell_type": "code",
   "execution_count": null,
   "metadata": {},
   "outputs": [],
   "source": [
    "len(femaDf[(femaDf['ihpAmount'] == 0) & (femaDf['homeDamage'])])"
   ]
  },
  {
   "cell_type": "markdown",
   "metadata": {},
   "source": [
    "### Importing PR county data (../data/county-demographics.csv)"
   ]
  },
  {
   "cell_type": "code",
   "execution_count": null,
   "metadata": {
    "scrolled": true
   },
   "outputs": [],
   "source": [
    "import unidecode\n",
    "\n",
    "# Load county data scraped from Wikipedia\n",
    "countyDemographicsDf = pd.read_csv('../data/county-demographics.csv', delimiter=',')\n",
    "\n",
    "# Format the county column\n",
    "countyDemographicsDf['county_name'] = countyDemographicsDf.apply(lambda row: unidecode.unidecode(row['county_name']), axis=1)\n",
    "countyDemographicsDf['county_name'] = countyDemographicsDf.apply(lambda row: row['county_name'].split(' Municipio')[0], axis=1)\n",
    "\n",
    "countyDemographicsDf.head(20)"
   ]
  },
  {
   "cell_type": "markdown",
   "metadata": {},
   "source": [
    "### Merge the data sources"
   ]
  },
  {
   "cell_type": "code",
   "execution_count": null,
   "metadata": {
    "scrolled": true
   },
   "outputs": [],
   "source": [
    "# Extract the aggregated ihpAmounts per county\n",
    "ihpAndIncomePerCapitaDf = femaDf.groupby(['county'])['ihpAmount'].agg('sum').reset_index()\n",
    "\n",
    "# Drop the Statewide row\n",
    "ihpAndIncomePerCapitaDf = ihpAndIncomePerCapitaDf[ihpAndIncomePerCapitaDf['county'] != 'Statewide']\n",
    "\n",
    "# Format the county column\n",
    "ihpAndIncomePerCapitaDf['county'] = ihpAndIncomePerCapitaDf.county.str.extract('(.+?) \\(')\n",
    "\n",
    "ihpAndIncomePerCapitaDf = pd.merge(ihpAndIncomePerCapitaDf, \n",
    "                                   countyDemographicsDf[['county_name','pop_estimates_2019', 'per_capita_income_past_year', 'fips_code']],\n",
    "                                   left_on='county', right_on='county_name', how='inner')\n",
    "\n",
    "# Calculate the ihpAmount per capita\n",
    "ihpAndIncomePerCapitaDf['ihpAmountPerCapita'] = np.round(ihpAndIncomePerCapitaDf['ihpAmount']/ihpAndIncomePerCapitaDf['pop_estimates_2019']*100,decimals=2)\n",
    "\n",
    "ihpAndIncomePerCapitaDf.head(20)"
   ]
  },
  {
   "cell_type": "code",
   "execution_count": null,
   "metadata": {},
   "outputs": [],
   "source": [
    "femaDf.groupby(['county'])['haAmount'].agg('sum')"
   ]
  },
  {
   "cell_type": "code",
   "execution_count": null,
   "metadata": {
    "scrolled": true
   },
   "outputs": [],
   "source": [
    "# Extract the aggregated registrations per county\n",
    "registrationsPerCountyDf = femaDf['county'].value_counts().reset_index()\n",
    "#registrationsPerCountyDf = femaDf[femaDf['homeDamage'] == True]['county'].value_counts().reset_index()\n",
    "\n",
    "registrationsPerCountyDf.rename(columns={'index': 'county', 'county': 'registrations'}, inplace=True)\n",
    "\n",
    "# Drop the Statewide row\n",
    "registrationsPerCountyDf = registrationsPerCountyDf[registrationsPerCountyDf['county'] != 'Statewide']\n",
    "\n",
    "# Format the county column\n",
    "registrationsPerCountyDf['county'] = registrationsPerCountyDf.county.str.extract('(.+?) \\(')\n",
    "\n",
    "registrationsPerCountyDf = pd.merge(registrationsPerCountyDf, \n",
    "                                   countyDemographicsDf[['county_name','pop_estimates_2019', 'fips_code']],\n",
    "                                   left_on='county', right_on='county_name', how='inner')\n",
    "\n",
    "# Calculate the ihpAmount per capita\n",
    "registrationsPerCountyDf['registrationsPerCapita'] = np.round(registrationsPerCountyDf['registrations']/registrationsPerCountyDf['pop_estimates_2019']*100,decimals=2)\n",
    "\n",
    "registrationsPerCountyDf.head(20)"
   ]
  },
  {
   "cell_type": "markdown",
   "metadata": {},
   "source": [
    "### Choropleth Map using plotly (https://plotly.com/python/county-choropleth/#single-state)"
   ]
  },
  {
   "cell_type": "code",
   "execution_count": null,
   "metadata": {},
   "outputs": [],
   "source": [
    "# Install plotly dependencies\n",
    "#!pip install plotly\n",
    "#!pip install plotly-geo\n",
    "#!pip install geopandas==0.3.0\n",
    "#!pip install pyshp==1.2.10\n",
    "#!pip install shapely==1.6.3\n",
    "import plotly.figure_factory as ff"
   ]
  },
  {
   "cell_type": "code",
   "execution_count": null,
   "metadata": {},
   "outputs": [],
   "source": [
    "# Per Capita Income (2019) by county\n",
    "values = ihpAndIncomePerCapitaDf['per_capita_income_past_year'].tolist()\n",
    "fips = ihpAndIncomePerCapitaDf['fips_code'].tolist()\n",
    "\n",
    "endpts = list(np.mgrid[min(values):max(values):5j])\n",
    "colorscale = [\n",
    "    'rgb(193, 193, 193)',\n",
    "    'rgb(239,239,239)',\n",
    "    'rgb(195, 196, 222)',\n",
    "    'rgb(144,148,194)',\n",
    "    'rgb(101,104,168)',\n",
    "    'rgb(65, 53, 132)'\n",
    "]\n",
    "incomePerCapitaFig = ff.create_choropleth(\n",
    "    fips=fips, values=values, scope=['PR'], show_state_data=True,\n",
    "    colorscale=colorscale, binning_endpoints=endpts, round_legend_values=True,\n",
    "    plot_bgcolor='rgb(229,229,229)',\n",
    "    paper_bgcolor='rgb(229,229,229)',\n",
    "    legend_title='Income Per Capita by County',\n",
    "    county_outline={'color': 'rgb(255,255,255)', 'width': 0.25},    \n",
    "    exponent_format=True,\n",
    ")\n",
    "incomePerCapitaFig.layout.template = None\n",
    "incomePerCapitaFig.show()"
   ]
  },
  {
   "cell_type": "code",
   "execution_count": null,
   "metadata": {},
   "outputs": [],
   "source": [
    "# ihp Amount Per Capita by County\n",
    "values = ihpAndIncomePerCapitaDf['ihpAmountPerCapita'].tolist()\n",
    "fips = ihpAndIncomePerCapitaDf['fips_code'].tolist()\n",
    "\n",
    "endpts = list(np.mgrid[min(values):max(values):5j])\n",
    "colorscale = [\n",
    "    'rgb(193, 193, 193)',\n",
    "    'rgb(239,239,239)',\n",
    "    'rgb(195, 196, 222)',\n",
    "    'rgb(144,148,194)',\n",
    "    'rgb(101,104,168)',\n",
    "    'rgb(65, 53, 132)'\n",
    "]\n",
    "ihpPerCapitaFig = ff.create_choropleth(\n",
    "    fips=fips, values=values, scope=['PR'], show_state_data=True,\n",
    "    colorscale=colorscale, binning_endpoints=endpts, round_legend_values=True,\n",
    "    plot_bgcolor='rgb(229,229,229)',\n",
    "    paper_bgcolor='rgb(229,229,229)',\n",
    "    legend_title='IHP Amount Awarded Per Capita by County',\n",
    "    county_outline={'color': 'rgb(255,255,255)', 'width': 0.25},\n",
    "    exponent_format=True,\n",
    ")\n",
    "ihpPerCapitaFig.layout.template = None\n",
    "ihpPerCapitaFig.show()"
   ]
  },
  {
   "cell_type": "code",
   "execution_count": null,
   "metadata": {
    "scrolled": true
   },
   "outputs": [],
   "source": [
    "# Registrations Per Capita by County\n",
    "values = registrationsPerCountyDf['registrationsPerCapita'].tolist()\n",
    "fips = registrationsPerCountyDf['fips_code'].tolist()\n",
    "\n",
    "endpts = list(np.mgrid[min(values):max(values):5j])\n",
    "colorscale = [\n",
    "    'rgb(193, 193, 193)',\n",
    "    'rgb(239,239,239)',\n",
    "    'rgb(195, 196, 222)',\n",
    "    'rgb(144,148,194)',\n",
    "    'rgb(101,104,168)',\n",
    "    'rgb(65, 53, 132)'\n",
    "]\n",
    "registrationsPerCapitaFig = ff.create_choropleth(\n",
    "    fips=fips, values=values, scope=['PR'], show_state_data=True,\n",
    "    colorscale=colorscale, binning_endpoints=endpts, round_legend_values=True,\n",
    "    plot_bgcolor='rgb(229,229,229)',\n",
    "    paper_bgcolor='rgb(229,229,229)',\n",
    "    legend_title='Applications Per Capita by County',\n",
    "    county_outline={'color': 'rgb(255,255,255)', 'width': 0.25},\n",
    "    exponent_format=True,\n",
    ")\n",
    "registrationsPerCapitaFig.layout.template = None\n",
    "registrationsPerCapitaFig.show()"
   ]
  },
  {
   "cell_type": "markdown",
   "metadata": {},
   "source": [
    "### haStatus codes for denied applications"
   ]
  },
  {
   "cell_type": "code",
   "execution_count": null,
   "metadata": {},
   "outputs": [],
   "source": [
    "from collections import defaultdict\n",
    "haStatusCodes = defaultdict(int)\n",
    "\n",
    "statusCodes = femaDf[(femaDf['ihpAmount'] == 0) & (femaDf['haStatus'] != 'TSA - Transitional Sheltering Assistance') & (femaDf.haStatus.notnull())]['haStatus'].str.extract('(.+?)\\s?-')[0].str.split(',')\n",
    "#statusCodes = femaDf[(femaDf.haStatus.notnull())]['haStatus'].str.extract('(.+?)\\s?-')[0].str.split(',')\n",
    "statusCodes = statusCodes.dropna()\n",
    "for index, value in statusCodes.items(): \n",
    "    for statusCode in value:\n",
    "        haStatusCodes[statusCode] = haStatusCodes.get(statusCode, 0) + 1\n",
    "        \n",
    "haStatusCodesDf = pd.DataFrame(list(haStatusCodes.items()), columns=['statusCode', 'Count'])\n",
    "haStatusCodesDf = haStatusCodesDf.sort_values('Count', ascending=True)"
   ]
  },
  {
   "cell_type": "code",
   "execution_count": null,
   "metadata": {},
   "outputs": [],
   "source": [
    "import plotly.express as px\n",
    "\n",
    "fig = px.pie(haStatusCodesDf, values='Count', names='statusCode', \n",
    "             color_discrete_sequence=px.colors.sequential.tempo)\n",
    "fig.update_traces(hoverinfo='label+percent+name',textposition='inside', textinfo='label+percent')\n",
    "fig.update(layout_title_text='Housing Assistance Status Codes for Denied Applications',\n",
    "           layout_showlegend=False)\n",
    "fig.show()"
   ]
  },
  {
   "cell_type": "code",
   "execution_count": null,
   "metadata": {},
   "outputs": [],
   "source": [
    "import plotly.express as px\n",
    "\n",
    "fig = px.bar(haStatusCodesDf, y='Count', x='statusCode', text='Count', color_continuous_scale = \"darkmint\")\n",
    "fig.update_traces(texttemplate='%{text:.2s}', textposition='outside')\n",
    "fig.update_layout(uniformtext_minsize=8, uniformtext_mode='hide', plot_bgcolor='rgb(229,229,229)')\n",
    "fig.update_traces(marker_color='rgb(158,202,225)', marker_line_color='rgb(8,48,107)',\n",
    "                  marker_line_width=1.5, opacity=0.6)\n",
    "fig.show()"
   ]
  },
  {
   "cell_type": "code",
   "execution_count": null,
   "metadata": {},
   "outputs": [],
   "source": [
    "femaDf.columns"
   ]
  },
  {
   "cell_type": "code",
   "execution_count": null,
   "metadata": {},
   "outputs": [],
   "source": [
    "X = femaDf[['accessFunctionalNeeds', 'applicantAge', 'autoDamage', 'county',\n",
    "       'damagedCity', 'damagedStateAbbreviation', 'damagedZipCode', 'destroyed', \n",
    "        'emergencyNeeds', 'floodDamage', 'floodInsurance', 'foodNeed', 'foundationDamage', \n",
    "        'grossIncome', 'habitabilityRepairsRequired', 'homeDamage',\n",
    "       'homeOwnersInsurance', 'householdComposition', 'incidentType', 'occupants19to64', 'occupants2to5',\n",
    "       'occupants65andOver', 'occupants6to18', 'occupantsUnderTwo', 'roofDamage', 'utilitiesOut', 'shelterNeed']]"
   ]
  },
  {
   "cell_type": "code",
   "execution_count": null,
   "metadata": {},
   "outputs": [],
   "source": [
    "X = pd.get_dummies(data=X, drop_first=True)"
   ]
  },
  {
   "cell_type": "code",
   "execution_count": null,
   "metadata": {},
   "outputs": [],
   "source": [
    "Y = femaDf[['inspnIssued']]"
   ]
  },
  {
   "cell_type": "code",
   "execution_count": null,
   "metadata": {},
   "outputs": [],
   "source": [
    "X.head()"
   ]
  },
  {
   "cell_type": "code",
   "execution_count": null,
   "metadata": {},
   "outputs": [],
   "source": [
    "from sklearn import linear_model\n",
    "from sklearn.model_selection import train_test_split\n",
    "\n",
    "X_train, X_test, Y_train, Y_test = train_test_split(X, Y, test_size = .20, random_state = 40)\n",
    "\n",
    "regr = linear_model.LinearRegression()\n",
    "regr.fit(X_train, Y_train)\n",
    "predicted = regr.predict(X_test)"
   ]
  },
  {
   "cell_type": "code",
   "execution_count": null,
   "metadata": {},
   "outputs": [],
   "source": []
  }
 ],
 "metadata": {
  "kernelspec": {
   "display_name": "Python 3",
   "language": "python",
   "name": "python3"
  },
  "language_info": {
   "codemirror_mode": {
    "name": "ipython",
    "version": 3
   },
   "file_extension": ".py",
   "mimetype": "text/x-python",
   "name": "python",
   "nbconvert_exporter": "python",
   "pygments_lexer": "ipython3",
   "version": "3.6.10"
  }
 },
 "nbformat": 4,
 "nbformat_minor": 4
}
