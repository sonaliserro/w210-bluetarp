{
 "cells": [
  {
   "cell_type": "code",
   "execution_count": 1,
   "metadata": {},
   "outputs": [],
   "source": [
    "# Basic libraries\n",
    "import geopandas as gpd\n",
    "import pandas as pd\n",
    "import numpy as np"
   ]
  },
  {
   "cell_type": "markdown",
   "metadata": {},
   "source": [
    "### Load the FEMA data for PR"
   ]
  },
  {
   "cell_type": "code",
   "execution_count": 2,
   "metadata": {},
   "outputs": [
    {
     "name": "stderr",
     "output_type": "stream",
     "text": [
      "/Users/nitinserro/anaconda3/lib/python3.6/site-packages/IPython/core/interactiveshell.py:3072: DtypeWarning: Columns (35) have mixed types.Specify dtype option on import or set low_memory=False.\n",
      "  interactivity=interactivity, compiler=compiler, result=result)\n"
     ]
    },
    {
     "name": "stdout",
     "output_type": "stream",
     "text": [
      "There are 1122568 records in the dataframe.\n"
     ]
    }
   ],
   "source": [
    "femaDf = pd.read_csv(\"../data/open-fema/FEMA-Large-DR-4339-PR.csv\")\n",
    "print(f\"There are {len(femaDf)} records in the dataframe.\")"
   ]
  },
  {
   "cell_type": "code",
   "execution_count": 3,
   "metadata": {},
   "outputs": [
    {
     "name": "stdout",
     "output_type": "stream",
     "text": [
      "There are 1122568 records after dropping any duplicates.\n"
     ]
    }
   ],
   "source": [
    "femaDf.drop_duplicates(inplace=True)\n",
    "print(f\"There are {len(femaDf)} records after dropping any duplicates.\")"
   ]
  },
  {
   "cell_type": "code",
   "execution_count": 4,
   "metadata": {},
   "outputs": [
    {
     "name": "stdout",
     "output_type": "stream",
     "text": [
      "habitabilityRepairsRequired datatype: bool\n",
      "primaryResidence datatype: bool\n",
      "censusBlockId datatype: object\n"
     ]
    }
   ],
   "source": [
    "# Change incorrect datatype\n",
    "femaDf['habitabilityRepairsRequired'] = femaDf['habitabilityRepairsRequired'].astype('bool')\n",
    "femaDf['primaryResidence'] = femaDf['primaryResidence'].astype('bool')\n",
    "femaDf['censusBlockId'] = femaDf['censusBlockId'].astype('str').replace('\\.0', '', regex=True)\n",
    "print(f\"habitabilityRepairsRequired datatype: {femaDf['habitabilityRepairsRequired'].dtype}\")\n",
    "print(f\"primaryResidence datatype: {femaDf['primaryResidence'].dtype}\")\n",
    "print(f\"censusBlockId datatype: {femaDf['censusBlockId'].dtype}\")"
   ]
  },
  {
   "cell_type": "code",
   "execution_count": 5,
   "metadata": {},
   "outputs": [
    {
     "data": {
      "text/html": [
       "<div>\n",
       "<style scoped>\n",
       "    .dataframe tbody tr th:only-of-type {\n",
       "        vertical-align: middle;\n",
       "    }\n",
       "\n",
       "    .dataframe tbody tr th {\n",
       "        vertical-align: top;\n",
       "    }\n",
       "\n",
       "    .dataframe thead th {\n",
       "        text-align: right;\n",
       "    }\n",
       "</style>\n",
       "<table border=\"1\" class=\"dataframe\">\n",
       "  <thead>\n",
       "    <tr style=\"text-align: right;\">\n",
       "      <th></th>\n",
       "      <th>censusBlockId</th>\n",
       "      <th>censusTractId</th>\n",
       "      <th>county_fips</th>\n",
       "    </tr>\n",
       "  </thead>\n",
       "  <tbody>\n",
       "    <tr>\n",
       "      <th>0</th>\n",
       "      <td>nan</td>\n",
       "      <td>nan</td>\n",
       "      <td>nan</td>\n",
       "    </tr>\n",
       "    <tr>\n",
       "      <th>1</th>\n",
       "      <td>720310510021022</td>\n",
       "      <td>72031051002</td>\n",
       "      <td>72031</td>\n",
       "    </tr>\n",
       "    <tr>\n",
       "      <th>2</th>\n",
       "      <td>721031704003001</td>\n",
       "      <td>72103170400</td>\n",
       "      <td>72103</td>\n",
       "    </tr>\n",
       "    <tr>\n",
       "      <th>3</th>\n",
       "      <td>721390604042000</td>\n",
       "      <td>72139060404</td>\n",
       "      <td>72139</td>\n",
       "    </tr>\n",
       "    <tr>\n",
       "      <th>4</th>\n",
       "      <td>720439539002080</td>\n",
       "      <td>72043953900</td>\n",
       "      <td>72043</td>\n",
       "    </tr>\n",
       "  </tbody>\n",
       "</table>\n",
       "</div>"
      ],
      "text/plain": [
       "     censusBlockId censusTractId county_fips\n",
       "0              nan           nan         nan\n",
       "1  720310510021022   72031051002       72031\n",
       "2  721031704003001   72103170400       72103\n",
       "3  721390604042000   72139060404       72139\n",
       "4  720439539002080   72043953900       72043"
      ]
     },
     "execution_count": 5,
     "metadata": {},
     "output_type": "execute_result"
    }
   ],
   "source": [
    "# Create census tract IDs for FEMA dataset\n",
    "femaDf['censusTractId'] = femaDf.apply(lambda row: row.censusBlockId[0:11], axis=1)\n",
    "femaDf['county_fips'] = femaDf.apply(lambda row: row.censusBlockId[0:5], axis=1)\n",
    "femaDf[['censusBlockId', 'censusTractId', 'county_fips']].head()"
   ]
  },
  {
   "cell_type": "code",
   "execution_count": 6,
   "metadata": {},
   "outputs": [],
   "source": [
    "# Define all dollar amount columns, set them to zero if null\n",
    "amountCols = ['foundationDamageAmount', 'roofDamageAmount', 'rentalAssistanceAmount', \n",
    "              'replacementAmount', 'repairAmount', 'rpfvl', 'ppfvl']\n",
    "\n",
    "femaDf[amountCols] = femaDf[amountCols].fillna(0)"
   ]
  },
  {
   "cell_type": "code",
   "execution_count": 7,
   "metadata": {},
   "outputs": [],
   "source": [
    "# Convert boolean columns to int\n",
    "bool_cols = ['specialNeeds', 'homeOwnersInsurance', 'floodInsurance', 'inspected', 'destroyed', \n",
    "             'habitabilityRepairsRequired', 'floodDamage', 'foundationDamage', 'roofDamage', \n",
    "             'tsaEligible', 'rentalAssistanceEligible', 'repairAssistanceEligible', \n",
    "             'replacementAssistanceEligible', 'sbaEligible', 'primaryResidence']\n",
    "femaDf[bool_cols] = femaDf[bool_cols].astype(int)"
   ]
  },
  {
   "cell_type": "markdown",
   "metadata": {},
   "source": [
    "### Load demographics data"
   ]
  },
  {
   "cell_type": "code",
   "execution_count": 8,
   "metadata": {},
   "outputs": [
    {
     "name": "stdout",
     "output_type": "stream",
     "text": [
      "There are 12650 records in the dataframe.\n"
     ]
    }
   ],
   "source": [
    "# Load demographics data\n",
    "demoDf = pd.read_csv(\"../data/census-tract/census-tract-demographics.csv\")\n",
    "print(f\"There are {len(demoDf)} records in the dataframe.\")"
   ]
  },
  {
   "cell_type": "code",
   "execution_count": 9,
   "metadata": {},
   "outputs": [
    {
     "name": "stdout",
     "output_type": "stream",
     "text": [
      "tractid datatype: object\n"
     ]
    }
   ],
   "source": [
    "# Change to tractid datatype to string\n",
    "demoDf['tractid'] = demoDf['tractid'].astype('str')\n",
    "print(f\"tractid datatype: {demoDf['tractid'].dtype}\")"
   ]
  },
  {
   "cell_type": "code",
   "execution_count": 10,
   "metadata": {},
   "outputs": [],
   "source": [
    "# Select subset of variables\n",
    "demoDf = demoDf[['censusid', 'tractid', 'tractname', 'county', 'state', 'total_population', 'below_poverty_rate', 'median_earnings_total',\n",
    "                 'unemployed_labor_rate', 'built_1979_or_earlier_rate', 'owner_occupied_rate']]"
   ]
  },
  {
   "cell_type": "markdown",
   "metadata": {},
   "source": [
    "### Merge femaDf and demoDf"
   ]
  },
  {
   "cell_type": "code",
   "execution_count": 11,
   "metadata": {},
   "outputs": [
    {
     "name": "stdout",
     "output_type": "stream",
     "text": [
      "There are 1067075 records in the merged dataset.\n",
      "This is a 55493 difference b/w the original dataset and the merged.\n"
     ]
    }
   ],
   "source": [
    "# Merge demographics and FEMA datasets\n",
    "df = pd.merge(femaDf, demoDf, left_on='censusTractId', right_on='tractid')\n",
    "print(f\"There are {len(df)} records in the merged dataset.\")\n",
    "print(f\"This is a {len(femaDf) - len(df)} difference b/w the original dataset and the merged.\")"
   ]
  },
  {
   "cell_type": "markdown",
   "metadata": {},
   "source": [
    "### Load wind-speed data for Hurricane Maria PR"
   ]
  },
  {
   "cell_type": "code",
   "execution_count": 12,
   "metadata": {},
   "outputs": [
    {
     "name": "stdout",
     "output_type": "stream",
     "text": [
      "There are 7647 records in the dataframe.\n"
     ]
    }
   ],
   "source": [
    "windDataDf = pd.read_csv('../data/hurricane/ARA-wind-data/maria-wind-data-county.csv')\n",
    "print(f\"There are {len(windDataDf)} records in the dataframe.\")"
   ]
  },
  {
   "cell_type": "code",
   "execution_count": 13,
   "metadata": {},
   "outputs": [
    {
     "name": "stdout",
     "output_type": "stream",
     "text": [
      "tractid datatype: object\n"
     ]
    }
   ],
   "source": [
    "# Change to tractid datatype to string\n",
    "windDataDf['tract_id'] = windDataDf['tract_id'].astype('str')\n",
    "print(f\"tractid datatype: {windDataDf['tract_id'].dtype}\")\n",
    "windDataDf.rename(columns={'Vg (mph)': 'pwg_mph'}, inplace=True)"
   ]
  },
  {
   "cell_type": "code",
   "execution_count": 14,
   "metadata": {},
   "outputs": [],
   "source": [
    "# Create county averages \n",
    "windDataCountyDf = windDataDf.groupby(['county_fips']).agg(pwg_county_avg_mph=('pwg_mph', 'mean')).reset_index()\n",
    "windDataCountyDf['county_fips'] = windDataCountyDf['county_fips'].astype('str')"
   ]
  },
  {
   "cell_type": "markdown",
   "metadata": {},
   "source": [
    "### Merge femaDf and windDataDf"
   ]
  },
  {
   "cell_type": "code",
   "execution_count": 15,
   "metadata": {},
   "outputs": [],
   "source": [
    "# Merge FEMA dataset and wind-data\n",
    "df = df.merge(windDataDf.loc[:, ['tract_id', 'pwg_mph']], left_on='censusTractId', right_on='tract_id', how='left')\n",
    "df.drop('tract_id', inplace=True, axis=1)"
   ]
  },
  {
   "cell_type": "code",
   "execution_count": 16,
   "metadata": {},
   "outputs": [
    {
     "name": "stdout",
     "output_type": "stream",
     "text": [
      "There are 117135 missing wind-data observations.\n",
      "Here is a breakdown by county,\n"
     ]
    },
    {
     "data": {
      "text/plain": [
       "San Juan Municipio         42936\n",
       "Bayamón Municipio          14359\n",
       "Carolina Municipio         11549\n",
       "Caguas Municipio            7163\n",
       "Cataño Municipio            5450\n",
       "Ponce Municipio             5410\n",
       "Guaynabo Municipio          4739\n",
       "Toa Baja Municipio          3527\n",
       "Trujillo Alto Municipio     3126\n",
       "Camuy Municipio             2505\n",
       "Yabucoa Municipio           2227\n",
       "Coamo Municipio             1964\n",
       "Mayagüez Municipio          1953\n",
       "Arecibo Municipio           1802\n",
       "Aguadilla Municipio         1670\n",
       "Yauco Municipio             1170\n",
       "Cayey Municipio              935\n",
       "Vega Baja Municipio          799\n",
       "Fajardo Municipio            780\n",
       "Loíza Municipio              768\n",
       "Guánica Municipio            617\n",
       "Guayama Municipio            537\n",
       "Añasco Municipio             456\n",
       "Hormigueros Municipio        390\n",
       "Gurabo Municipio             299\n",
       "Palm Beach County              1\n",
       "Pinellas County                1\n",
       "Ceiba Municipio                1\n",
       "Polk County                    1\n",
       "Name: county, dtype: int64"
      ]
     },
     "execution_count": 16,
     "metadata": {},
     "output_type": "execute_result"
    }
   ],
   "source": [
    "print(f\"There are {df['pwg_mph'].isna().sum()} missing wind-data observations.\")\n",
    "print(f\"Here is a breakdown by county,\")\n",
    "df[df['pwg_mph'].isna()]['county'].value_counts()"
   ]
  },
  {
   "cell_type": "markdown",
   "metadata": {},
   "source": [
    "### Use the county average wind speed for missing tracts"
   ]
  },
  {
   "cell_type": "code",
   "execution_count": 17,
   "metadata": {},
   "outputs": [],
   "source": [
    "# Merge FEMA dataset and wind-data\n",
    "df = df.merge(windDataCountyDf.loc[:, ['county_fips', 'pwg_county_avg_mph']], on='county_fips', how='left')"
   ]
  },
  {
   "cell_type": "markdown",
   "metadata": {},
   "source": [
    "### Drop uneeded columns and save results"
   ]
  },
  {
   "cell_type": "code",
   "execution_count": 18,
   "metadata": {},
   "outputs": [],
   "source": [
    "df.drop(['renterDamageLevel', 'rentalAssistanceEndDate', 'rentalResourceCity',\n",
    "       'rentalResourceStateAbbreviation', 'rentalResourceZipCode', 'censusBlockId', 'censusid', 'tractid'], inplace=True, axis=1)"
   ]
  },
  {
   "cell_type": "code",
   "execution_count": 21,
   "metadata": {},
   "outputs": [
    {
     "data": {
      "text/plain": [
       "Index(['disasterNumber', 'damagedCity', 'damagedStateAbbreviation',\n",
       "       'damagedZipCode', 'householdComposition', 'grossIncome', 'specialNeeds',\n",
       "       'ownRent', 'residenceType', 'homeOwnersInsurance', 'floodInsurance',\n",
       "       'inspected', 'rpfvl', 'habitabilityRepairsRequired', 'destroyed',\n",
       "       'waterLevel', 'floodDamage', 'foundationDamage',\n",
       "       'foundationDamageAmount', 'roofDamage', 'roofDamageAmount',\n",
       "       'tsaEligible', 'tsaCheckedIn', 'rentalAssistanceEligible',\n",
       "       'rentalAssistanceAmount', 'repairAssistanceEligible', 'repairAmount',\n",
       "       'replacementAssistanceEligible', 'replacementAmount', 'sbaEligible',\n",
       "       'primaryResidence', 'personalPropertyEligible', 'ppfvl', 'censusYear',\n",
       "       'id', 'censusTractId', 'county_fips', 'tractname', 'county', 'state',\n",
       "       'total_population', 'below_poverty_rate', 'median_earnings_total',\n",
       "       'unemployed_labor_rate', 'built_1979_or_earlier_rate',\n",
       "       'owner_occupied_rate', 'pwg_mph', 'pwg_county_avg_mph'],\n",
       "      dtype='object')"
      ]
     },
     "execution_count": 21,
     "metadata": {},
     "output_type": "execute_result"
    }
   ],
   "source": [
    "df.columns"
   ]
  },
  {
   "cell_type": "code",
   "execution_count": 22,
   "metadata": {},
   "outputs": [
    {
     "name": "stdout",
     "output_type": "stream",
     "text": [
      "10211619 rows saved to: ../data/open-fema/FEMA-Large-Demographics-WindSpeed-PR.csv\n"
     ]
    }
   ],
   "source": [
    "df.to_csv('../data/open-fema/FEMA-Large-Demographics-WindSpeed-PR.csv', index=False, encoding='utf-8')\n",
    "print('{} rows saved to: {}'.format(len(df), '../data/open-fema/FEMA-Large-Demographics-WindSpeed-PR.csv'))"
   ]
  }
 ],
 "metadata": {
  "kernelspec": {
   "display_name": "Python 3",
   "language": "python",
   "name": "python3"
  },
  "language_info": {
   "codemirror_mode": {
    "name": "ipython",
    "version": 3
   },
   "file_extension": ".py",
   "mimetype": "text/x-python",
   "name": "python",
   "nbconvert_exporter": "python",
   "pygments_lexer": "ipython3",
   "version": "3.6.10"
  }
 },
 "nbformat": 4,
 "nbformat_minor": 4
}
