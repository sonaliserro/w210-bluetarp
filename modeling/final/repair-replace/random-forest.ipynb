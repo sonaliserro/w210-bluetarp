{
 "cells": [
  {
   "cell_type": "code",
   "execution_count": 28,
   "metadata": {},
   "outputs": [],
   "source": [
    "# Importing libraries and packages\n",
    "import geopandas as gpd\n",
    "import pandas as pd\n",
    "import numpy as np\n",
    "import json\n",
    "\n",
    "# Visualization\n",
    "import matplotlib.pyplot as plt\n",
    "\n",
    "# Modeling\n",
    "from sklearn.ensemble import RandomForestRegressor\n",
    "\n",
    "from sklearn.model_selection import train_test_split\n",
    "from sklearn.model_selection import GridSearchCV\n",
    "\n",
    "# Metrics\n",
    "from sklearn import metrics\n",
    "\n",
    "# Save models\n",
    "import pickle"
   ]
  },
  {
   "cell_type": "code",
   "execution_count": 29,
   "metadata": {},
   "outputs": [],
   "source": [
    "# Display Options\n",
    "pd.set_option('display.max_columns', None)"
   ]
  },
  {
   "cell_type": "markdown",
   "metadata": {},
   "source": [
    "## Random Forest Model trained on Fema Large without Outliers, without rentalAssistanceAmount"
   ]
  },
  {
   "cell_type": "markdown",
   "metadata": {},
   "source": [
    "### Load the Training and Test Datasets - FL/TX and PR/NC"
   ]
  },
  {
   "cell_type": "code",
   "execution_count": 30,
   "metadata": {},
   "outputs": [
    {
     "name": "stderr",
     "output_type": "stream",
     "text": [
      "/Users/nitinserro/anaconda3/lib/python3.6/site-packages/IPython/core/interactiveshell.py:3072: DtypeWarning: Columns (29,30,31) have mixed types.Specify dtype option on import or set low_memory=False.\n",
      "  interactivity=interactivity, compiler=compiler, result=result)\n"
     ]
    },
    {
     "name": "stdout",
     "output_type": "stream",
     "text": [
      "There are 3187285 records in our training dataset.\n"
     ]
    }
   ],
   "source": [
    "femaTrainData = pd.read_csv('../../../data/open-fema/repair-replace/FEMA-Large-Demographics-FL-TX-clean.csv')\n",
    "print('There are {} records in our training dataset.'.format(len(femaTrainData)))"
   ]
  },
  {
   "cell_type": "code",
   "execution_count": 31,
   "metadata": {},
   "outputs": [
    {
     "data": {
      "text/plain": [
       "Index(['disasterNumber', 'damagedCity', 'damagedStateAbbreviation',\n",
       "       'damagedZipCode', 'householdComposition', 'grossIncome', 'specialNeeds',\n",
       "       'homeOwnersInsurance', 'floodInsurance', 'inspected', 'rpfvl',\n",
       "       'habitabilityRepairsRequired', 'destroyed', 'waterLevel', 'floodDamage',\n",
       "       'foundationDamage', 'foundationDamageAmount', 'roofDamage',\n",
       "       'roofDamageAmount', 'tsaEligible', 'tsaCheckedIn',\n",
       "       'rentalAssistanceEligible', 'rentalAssistanceAmount',\n",
       "       'repairAssistanceEligible', 'repairAmount',\n",
       "       'replacementAssistanceEligible', 'replacementAmount', 'sbaEligible',\n",
       "       'renterDamageLevel', 'rentalAssistanceEndDate', 'rentalResourceCity',\n",
       "       'rentalResourceStateAbbreviation', 'rentalResourceZipCode',\n",
       "       'primaryResidence', 'personalPropertyEligible', 'ppfvl',\n",
       "       'censusBlockId', 'censusYear', 'id', 'censusTractId', 'censusid',\n",
       "       'tractid', 'tractname', 'county', 'state', 'below_poverty_rate',\n",
       "       'median_earnings_total', 'unemployed_labor_rate',\n",
       "       'built_1979_or_earlier_rate', 'owner_occupied_rate', 'haAmount',\n",
       "       'repairReplacementAmount', 'ownRent_Owner', 'ownRent_Renter',\n",
       "       'ownRent_Unknown', 'residenceType_Apartment',\n",
       "       'residenceType_Assisted Living Facility', 'residenceType_Boat',\n",
       "       'residenceType_College Dorm', 'residenceType_Condo',\n",
       "       'residenceType_Correctional Facility', 'residenceType_House/Duplex',\n",
       "       'residenceType_Military Housing', 'residenceType_Mobile Home',\n",
       "       'residenceType_Other', 'residenceType_Townhouse',\n",
       "       'residenceType_Travel Trailer', 'residenceType_Unknown'],\n",
       "      dtype='object')"
      ]
     },
     "execution_count": 31,
     "metadata": {},
     "output_type": "execute_result"
    }
   ],
   "source": [
    "femaTrainData.columns"
   ]
  },
  {
   "cell_type": "code",
   "execution_count": 35,
   "metadata": {},
   "outputs": [
    {
     "name": "stdout",
     "output_type": "stream",
     "text": [
      "There are 1041745 records in our PR test dataset.\n"
     ]
    }
   ],
   "source": [
    "femaTestData = pd.read_csv('../../../data/open-fema/repair-replace/FEMA-Large-Demographics-PR-clean.csv')\n",
    "print('There are {} records in our PR test dataset.'.format(len(femaTestData)))"
   ]
  },
  {
   "cell_type": "code",
   "execution_count": 36,
   "metadata": {},
   "outputs": [
    {
     "data": {
      "text/plain": [
       "Index(['disasterNumber', 'damagedCity', 'damagedStateAbbreviation',\n",
       "       'damagedZipCode', 'householdComposition', 'grossIncome', 'specialNeeds',\n",
       "       'homeOwnersInsurance', 'floodInsurance', 'inspected', 'rpfvl',\n",
       "       'habitabilityRepairsRequired', 'destroyed', 'waterLevel', 'floodDamage',\n",
       "       'foundationDamage', 'foundationDamageAmount', 'roofDamage',\n",
       "       'roofDamageAmount', 'tsaEligible', 'tsaCheckedIn',\n",
       "       'rentalAssistanceEligible', 'rentalAssistanceAmount',\n",
       "       'repairAssistanceEligible', 'repairAmount',\n",
       "       'replacementAssistanceEligible', 'replacementAmount', 'sbaEligible',\n",
       "       'renterDamageLevel', 'rentalAssistanceEndDate', 'rentalResourceCity',\n",
       "       'rentalResourceStateAbbreviation', 'rentalResourceZipCode',\n",
       "       'primaryResidence', 'personalPropertyEligible', 'ppfvl',\n",
       "       'censusBlockId', 'censusYear', 'id', 'censusTractId', 'censusid',\n",
       "       'tractid', 'tractname', 'county', 'state', 'below_poverty_rate',\n",
       "       'median_earnings_total', 'unemployed_labor_rate',\n",
       "       'built_1979_or_earlier_rate', 'owner_occupied_rate', 'haAmount',\n",
       "       'repairReplacementAmount', 'ownRent_Owner', 'ownRent_Renter',\n",
       "       'ownRent_Unknown', 'residenceType_Apartment',\n",
       "       'residenceType_Assisted Living Facility', 'residenceType_Boat',\n",
       "       'residenceType_College Dorm', 'residenceType_Condo',\n",
       "       'residenceType_Correctional Facility', 'residenceType_House/Duplex',\n",
       "       'residenceType_Military Housing', 'residenceType_Mobile Home',\n",
       "       'residenceType_Other', 'residenceType_Townhouse',\n",
       "       'residenceType_Travel Trailer', 'residenceType_Unknown'],\n",
       "      dtype='object')"
      ]
     },
     "execution_count": 36,
     "metadata": {},
     "output_type": "execute_result"
    }
   ],
   "source": [
    "femaTestData.columns"
   ]
  },
  {
   "cell_type": "code",
   "execution_count": 38,
   "metadata": {},
   "outputs": [
    {
     "name": "stdout",
     "output_type": "stream",
     "text": [
      "There are 132336 records in our NC test dataset.\n"
     ]
    }
   ],
   "source": [
    "femaNCTestData = pd.read_csv('../../../data/open-fema/repair-replace/FEMA-Large-Demographics-NC-clean.csv')\n",
    "print('There are {} records in our NC test dataset.'.format(len(femaNCTestData)))"
   ]
  },
  {
   "cell_type": "markdown",
   "metadata": {},
   "source": [
    "### Define a subset of columns\n",
    "\n",
    "IHP: https://docs.google.com/document/d/1nu0yENGAWnoiMcTufxYnH7xwdh8NfFum9ni9IYiSIdk/edit#\n",
    "\n",
    "Demographics: https://docs.google.com/document/d/1cpznnaIb5CE21I2RO8y2xRvZKS8StcP_JeXDW2mUIis/edit?ts=60319d34#heading=h.j8u0tgugtaw"
   ]
  },
  {
   "cell_type": "code",
   "execution_count": 39,
   "metadata": {},
   "outputs": [],
   "source": [
    "ihp_exclude_cols = ['disasterNumber', \n",
    "                    'damagedCity', \n",
    "                    'damagedStateAbbreviation',\n",
    "                    'damagedZipCode',\n",
    "                    'grossIncome',\n",
    "                    'foundationDamageAmount',\n",
    "                    'roofDamageAmount',\n",
    "                    'tsaCheckedIn',\n",
    "                    'rentalAssistanceAmount',\n",
    "                    'rentalAssistanceEligible',\n",
    "                    'repairAmount',\n",
    "                    'replacementAmount',\n",
    "                    'haAmount',\n",
    "                    'renterDamageLevel', \n",
    "                    'rentalAssistanceEndDate', \n",
    "                    'rentalResourceCity',\n",
    "                    'rentalResourceStateAbbreviation', \n",
    "                    'rentalResourceZipCode',\n",
    "                    'personalPropertyEligible', \n",
    "                    'ppfvl',\n",
    "                    'censusBlockId', \n",
    "                    'censusYear', \n",
    "                    'id']\n",
    "demo_exclude_cols = ['censusTractId', \n",
    "                     'censusid',\n",
    "                     'tractid', \n",
    "                     'tractname', \n",
    "                     'county', \n",
    "                     'state',\n",
    "                     'median_earnings_total',]\n",
    "demo_dvi_col = ['dvi']\n",
    "demo_rate_cols = ['below_poverty_rate',\n",
    "                  'unemployed_labor_rate',\n",
    "                  'built_1979_or_earlier_rate', \n",
    "                  'owner_occupied_rate']"
   ]
  },
  {
   "cell_type": "markdown",
   "metadata": {},
   "source": [
    "### RandomForest\n",
    "\n",
    "https://machinelearningmastery.com/random-forest-ensemble-in-python/\n",
    "\n",
    "- The “max_samples” argument can be set to a float between 0 and 1 to control the percentage of the size of the training dataset to make the bootstrap sample used to train each decision tree.\n",
    "- max_features argument and defaults to the square root of the number of input features. \n",
    "- The number of trees can be set via the “n_estimators” argument and defaults to 100.\n",
    "- The maximum tree depth can be specified via the max_depth argument and is set to None (no maximum depth) by default."
   ]
  },
  {
   "cell_type": "code",
   "execution_count": 40,
   "metadata": {},
   "outputs": [],
   "source": [
    "def run_rf(df, frac, max_depth, max_samples, n_estimators, min_samples_leaf):\n",
    "    # Sample the dataset\n",
    "    df_train = df.sample(frac=frac) if frac < 1.0 else df    \n",
    "        \n",
    "    # Create test/train split\n",
    "    X = df_train.loc[:, df_train.columns != 'repairReplacementAmount']\n",
    "    y = df_train.loc[:, 'repairReplacementAmount']    \n",
    "    X_train, X_test, y_train, y_test = train_test_split(X, y, test_size = 0.2, shuffle = True, random_state = 42) \n",
    "  \n",
    "    print('Shape of Training and Test inputs')\n",
    "    print(X_train.shape, y_train.shape)\n",
    "    print(X_test.shape, y_test.shape)\n",
    "    \n",
    "    # Define the model\n",
    "    model_rf = RandomForestRegressor(max_depth = max_depth, max_samples = max_samples, n_estimators = n_estimators, \n",
    "                                     min_samples_leaf = min_samples_leaf, random_state = 42)\n",
    "    \n",
    "    # Fit the model\n",
    "    model_rf.fit(X_train, y_train)\n",
    "    \n",
    "    return (model_rf, model_rf.predict(X_test), y_test)"
   ]
  },
  {
   "cell_type": "code",
   "execution_count": 41,
   "metadata": {},
   "outputs": [],
   "source": [
    "def run_rf_grid_search(df, frac, scoring):\n",
    "    # Sample the dataset\n",
    "    df_train = df.sample(frac=frac) if frac < 1.0 else df    \n",
    "        \n",
    "    # Create test/train split\n",
    "    X = df_train.loc[:, df_train.columns != 'repairReplacementAmount']\n",
    "    y = df_train.loc[:, 'repairReplacementAmount']    \n",
    "    X_train, X_test, y_train, y_test = train_test_split(X, y, test_size = 0.2, shuffle = True, random_state = 42)\n",
    "    \n",
    "    print('Shape of Training and Test inputs')\n",
    "    print(X_train.shape, y_train.shape)\n",
    "    print(X_test.shape, y_test.shape)\n",
    "    \n",
    "    # RandomForestRegressor default model\n",
    "    model_rf = RandomForestRegressor(random_state = 42)\n",
    "    \n",
    "    # Create the parameter grid\n",
    "    param_grid_rf = {\n",
    "        'bootstrap': [True],\n",
    "        'max_samples': [0.8, 0.9, None],\n",
    "        'max_depth': [8, 9, 10],\n",
    "        'n_estimators': [75, 100, 125],\n",
    "        'min_samples_leaf': [1, 5, 10]\n",
    "    }\n",
    "    \n",
    "    # Instantiate the grid search model\n",
    "    grid_search_rf = GridSearchCV(estimator = model_rf, param_grid = param_grid_rf, \n",
    "                                  scoring = scoring, cv = 3, n_jobs = -1, verbose = 2)\n",
    "    \n",
    "    # Fit the grid search to the data\n",
    "    grid_search_rf.fit(X_train, y_train)\n",
    "    \n",
    "    print('Best params:\\n', grid_search_rf.best_params_)\n",
    "    \n",
    "    # Predict using best model\n",
    "    model_rf_best = grid_search_rf.best_estimator_\n",
    "    \n",
    "    return (model_rf_best, model_rf_best.predict(X_test), y_test)"
   ]
  },
  {
   "cell_type": "code",
   "execution_count": 42,
   "metadata": {},
   "outputs": [],
   "source": [
    "def evaluate(y_test, y_pred):\n",
    "    print('Mean Absolute Error:', metrics.mean_absolute_error(y_test, y_pred))\n",
    "    print('Mean Squared Error:', metrics.mean_squared_error(y_test, y_pred))\n",
    "    print('Root Mean Squared Error:', np.sqrt(metrics.mean_squared_error(y_test, y_pred)))\n",
    "    print('R-squared:', metrics.r2_score(y_test, y_pred))\n",
    "    print('\\n')\n",
    "    print('Total HA repair-replace amount actual:    ${:,.2f}'.format(y_test.sum()))\n",
    "    print('Total HA repair-replace amount predicted: ${:,.2f}'.format(y_pred.sum()))\n",
    "    print('\\n')\n",
    "    \n",
    "    # Calculate the number of observations that are off by more than 20%\n",
    "    results_df = pd.DataFrame({'actual': y_test, 'predicted': y_pred})\n",
    "    results_df['diff'] = results_df['predicted'] - results_df['actual']    \n",
    "    results_df['percent_diff'] = (abs(abs(results_df['predicted'] / (results_df['actual'])) - 1) * 100).where(results_df['actual'] > 0, 0)    \n",
    "    print('Percentage of predictions that are off by more than 20%: {:.2f}'.format( \n",
    "          len(results_df[results_df['percent_diff'] > 20])/len(results_df) * 100))   "
   ]
  },
  {
   "cell_type": "code",
   "execution_count": 43,
   "metadata": {},
   "outputs": [],
   "source": [
    "def predict(df, model):\n",
    "    X_test = df.loc[:, df.columns != 'repairReplacementAmount']\n",
    "    y_test = df.loc[:, 'repairReplacementAmount']    \n",
    "  \n",
    "    print('Shape of Training and Test inputs')    \n",
    "    print(X_test.shape, y_test.shape)\n",
    "    \n",
    "    return (model.predict(X_test), y_test)  "
   ]
  },
  {
   "cell_type": "markdown",
   "metadata": {},
   "source": [
    "### Create IHP-only Train and Test Datasets"
   ]
  },
  {
   "cell_type": "code",
   "execution_count": 44,
   "metadata": {},
   "outputs": [],
   "source": [
    "femaTrainDf = femaTrainData[femaTrainData.columns[~femaTrainData.columns.isin(\n",
    "    ihp_exclude_cols + demo_exclude_cols + demo_dvi_col + demo_rate_cols)]]"
   ]
  },
  {
   "cell_type": "code",
   "execution_count": 45,
   "metadata": {},
   "outputs": [
    {
     "data": {
      "text/plain": [
       "Index(['householdComposition', 'specialNeeds', 'homeOwnersInsurance',\n",
       "       'floodInsurance', 'inspected', 'rpfvl', 'habitabilityRepairsRequired',\n",
       "       'destroyed', 'waterLevel', 'floodDamage', 'foundationDamage',\n",
       "       'roofDamage', 'tsaEligible', 'repairAssistanceEligible',\n",
       "       'replacementAssistanceEligible', 'sbaEligible', 'primaryResidence',\n",
       "       'repairReplacementAmount', 'ownRent_Owner', 'ownRent_Renter',\n",
       "       'ownRent_Unknown', 'residenceType_Apartment',\n",
       "       'residenceType_Assisted Living Facility', 'residenceType_Boat',\n",
       "       'residenceType_College Dorm', 'residenceType_Condo',\n",
       "       'residenceType_Correctional Facility', 'residenceType_House/Duplex',\n",
       "       'residenceType_Military Housing', 'residenceType_Mobile Home',\n",
       "       'residenceType_Other', 'residenceType_Townhouse',\n",
       "       'residenceType_Travel Trailer', 'residenceType_Unknown'],\n",
       "      dtype='object')"
      ]
     },
     "execution_count": 45,
     "metadata": {},
     "output_type": "execute_result"
    }
   ],
   "source": [
    "femaTrainDf.columns"
   ]
  },
  {
   "cell_type": "code",
   "execution_count": 46,
   "metadata": {},
   "outputs": [],
   "source": [
    "femaTestDf = femaTestData[femaTestData.columns[~femaTestData.columns.isin(\n",
    "    ihp_exclude_cols + demo_exclude_cols + demo_dvi_col + demo_rate_cols)]]"
   ]
  },
  {
   "cell_type": "code",
   "execution_count": 47,
   "metadata": {},
   "outputs": [
    {
     "data": {
      "text/plain": [
       "Index(['householdComposition', 'specialNeeds', 'homeOwnersInsurance',\n",
       "       'floodInsurance', 'inspected', 'rpfvl', 'habitabilityRepairsRequired',\n",
       "       'destroyed', 'waterLevel', 'floodDamage', 'foundationDamage',\n",
       "       'roofDamage', 'tsaEligible', 'repairAssistanceEligible',\n",
       "       'replacementAssistanceEligible', 'sbaEligible', 'primaryResidence',\n",
       "       'repairReplacementAmount', 'ownRent_Owner', 'ownRent_Renter',\n",
       "       'ownRent_Unknown', 'residenceType_Apartment',\n",
       "       'residenceType_Assisted Living Facility', 'residenceType_Boat',\n",
       "       'residenceType_College Dorm', 'residenceType_Condo',\n",
       "       'residenceType_Correctional Facility', 'residenceType_House/Duplex',\n",
       "       'residenceType_Military Housing', 'residenceType_Mobile Home',\n",
       "       'residenceType_Other', 'residenceType_Townhouse',\n",
       "       'residenceType_Travel Trailer', 'residenceType_Unknown'],\n",
       "      dtype='object')"
      ]
     },
     "execution_count": 47,
     "metadata": {},
     "output_type": "execute_result"
    }
   ],
   "source": [
    "femaTestDf.columns"
   ]
  },
  {
   "cell_type": "code",
   "execution_count": 48,
   "metadata": {},
   "outputs": [],
   "source": [
    "femaNCTestDf = femaNCTestData[femaNCTestData.columns[~femaNCTestData.columns.isin(\n",
    "    ihp_exclude_cols + demo_exclude_cols + demo_dvi_col + demo_rate_cols)]]"
   ]
  },
  {
   "cell_type": "markdown",
   "metadata": {},
   "source": [
    "### Grid Search\n",
    "Parameter Grid:\n",
    "\n",
    "    param_grid_rf = {\n",
    "        'bootstrap': [True],\n",
    "        'max_samples': [0.8, 0.9, None],\n",
    "        'max_depth': [8, 9, 10],\n",
    "        'n_estimators': [75, 100, 125],\n",
    "        'min_samples_leaf': [1, 5, 10]\n",
    "    }\n",
    "    \n",
    "Grid Search Params:\n",
    "\n",
    "    scoring='neg_mean_squared_error'\n",
    "    cv = 3    "
   ]
  },
  {
   "cell_type": "code",
   "execution_count": 17,
   "metadata": {},
   "outputs": [
    {
     "name": "stdout",
     "output_type": "stream",
     "text": [
      "Shape of Training and Test inputs\n",
      "(2827910, 33) (2827910,)\n",
      "(706978, 33) (706978,)\n",
      "Fitting 3 folds for each of 81 candidates, totalling 243 fits\n",
      "Best params:\n",
      " {'bootstrap': True, 'max_depth': 9, 'max_samples': 0.8, 'min_samples_leaf': 5, 'n_estimators': 125}\n"
     ]
    }
   ],
   "source": [
    "model_rf_best, y_pred, y_test = run_rf_grid_search(femaTrainDf, frac = 1.0, scoring = 'neg_mean_squared_error')"
   ]
  },
  {
   "cell_type": "code",
   "execution_count": 18,
   "metadata": {},
   "outputs": [
    {
     "name": "stdout",
     "output_type": "stream",
     "text": [
      "Mean Absolute Error: 26.7803822903206\n",
      "Mean Squared Error: 188147.74399838116\n",
      "Root Mean Squared Error: 433.76000737548543\n",
      "R-squared: 0.9622043125642697\n",
      "\n",
      "\n",
      "Total HA Amount actual:    $221,268,210.44\n",
      "Total HA Amount predicted: $221,320,822.97\n",
      "\n",
      "\n",
      "Percentage of predictions that are off by more than 20%: 0.94\n"
     ]
    }
   ],
   "source": [
    "evaluate(y_test, y_pred)"
   ]
  },
  {
   "cell_type": "code",
   "execution_count": 19,
   "metadata": {},
   "outputs": [
    {
     "data": {
      "text/html": [
       "<div>\n",
       "<style scoped>\n",
       "    .dataframe tbody tr th:only-of-type {\n",
       "        vertical-align: middle;\n",
       "    }\n",
       "\n",
       "    .dataframe tbody tr th {\n",
       "        vertical-align: top;\n",
       "    }\n",
       "\n",
       "    .dataframe thead th {\n",
       "        text-align: right;\n",
       "    }\n",
       "</style>\n",
       "<table border=\"1\" class=\"dataframe\">\n",
       "  <thead>\n",
       "    <tr style=\"text-align: right;\">\n",
       "      <th></th>\n",
       "      <th>count</th>\n",
       "      <th>mean</th>\n",
       "      <th>std</th>\n",
       "      <th>min</th>\n",
       "      <th>25%</th>\n",
       "      <th>50%</th>\n",
       "      <th>75%</th>\n",
       "      <th>max</th>\n",
       "    </tr>\n",
       "  </thead>\n",
       "  <tbody>\n",
       "    <tr>\n",
       "      <th>actual</th>\n",
       "      <td>706978.0</td>\n",
       "      <td>312.977505</td>\n",
       "      <td>2231.149597</td>\n",
       "      <td>0.000000</td>\n",
       "      <td>0.0</td>\n",
       "      <td>0.0</td>\n",
       "      <td>0.0</td>\n",
       "      <td>33300.000000</td>\n",
       "    </tr>\n",
       "    <tr>\n",
       "      <th>predicted</th>\n",
       "      <td>706978.0</td>\n",
       "      <td>313.051924</td>\n",
       "      <td>2185.125245</td>\n",
       "      <td>0.000000</td>\n",
       "      <td>0.0</td>\n",
       "      <td>0.0</td>\n",
       "      <td>0.0</td>\n",
       "      <td>31024.726161</td>\n",
       "    </tr>\n",
       "    <tr>\n",
       "      <th>errors</th>\n",
       "      <td>706978.0</td>\n",
       "      <td>0.074419</td>\n",
       "      <td>433.760308</td>\n",
       "      <td>-32106.262813</td>\n",
       "      <td>0.0</td>\n",
       "      <td>0.0</td>\n",
       "      <td>0.0</td>\n",
       "      <td>29747.467553</td>\n",
       "    </tr>\n",
       "  </tbody>\n",
       "</table>\n",
       "</div>"
      ],
      "text/plain": [
       "              count        mean          std           min  25%  50%  75%  \\\n",
       "actual     706978.0  312.977505  2231.149597      0.000000  0.0  0.0  0.0   \n",
       "predicted  706978.0  313.051924  2185.125245      0.000000  0.0  0.0  0.0   \n",
       "errors     706978.0    0.074419   433.760308 -32106.262813  0.0  0.0  0.0   \n",
       "\n",
       "                    max  \n",
       "actual     33300.000000  \n",
       "predicted  31024.726161  \n",
       "errors     29747.467553  "
      ]
     },
     "execution_count": 19,
     "metadata": {},
     "output_type": "execute_result"
    }
   ],
   "source": [
    "# Look at the distribution of predictions/actuals/errors\n",
    "results_df = pd.DataFrame({'actual': y_test, 'predicted': y_pred})\n",
    "results_df['errors'] = results_df['predicted'] - results_df['actual']\n",
    "results_df.describe().transpose()"
   ]
  },
  {
   "cell_type": "code",
   "execution_count": 21,
   "metadata": {},
   "outputs": [],
   "source": [
    "# Save the model\n",
    "pickle.dump(model_rf_best, open('./models/random_forest.sav', 'wb'))"
   ]
  },
  {
   "cell_type": "code",
   "execution_count": 22,
   "metadata": {},
   "outputs": [
    {
     "data": {
      "text/plain": [
       "{'bootstrap': True,\n",
       " 'ccp_alpha': 0.0,\n",
       " 'criterion': 'mse',\n",
       " 'max_depth': 9,\n",
       " 'max_features': 'auto',\n",
       " 'max_leaf_nodes': None,\n",
       " 'max_samples': 0.8,\n",
       " 'min_impurity_decrease': 0.0,\n",
       " 'min_impurity_split': None,\n",
       " 'min_samples_leaf': 5,\n",
       " 'min_samples_split': 2,\n",
       " 'min_weight_fraction_leaf': 0.0,\n",
       " 'n_estimators': 125,\n",
       " 'n_jobs': None,\n",
       " 'oob_score': False,\n",
       " 'random_state': 42,\n",
       " 'verbose': 0,\n",
       " 'warm_start': False}"
      ]
     },
     "execution_count": 22,
     "metadata": {},
     "output_type": "execute_result"
    }
   ],
   "source": [
    "# Load saved model\n",
    "model_rf_sav = pickle.load(open('./models/random_forest.sav', 'rb'))\n",
    "model_rf_sav.get_params()"
   ]
  },
  {
   "cell_type": "markdown",
   "metadata": {},
   "source": [
    "### RandomForest Model - Hyperparameters based on grid search\n",
    "    max_depth = 9, max_samples = 0.8, n_estimators = 125, \n",
    "    min_samples_leaf = 5, random_state = 42"
   ]
  },
  {
   "cell_type": "code",
   "execution_count": 16,
   "metadata": {},
   "outputs": [
    {
     "name": "stdout",
     "output_type": "stream",
     "text": [
      "Shape of Training and Test inputs\n",
      "(2549828, 33) (2549828,)\n",
      "(637457, 33) (637457,)\n"
     ]
    }
   ],
   "source": [
    "model_rf, y_pred, y_test = run_rf(femaTrainDf, frac = 1.0, max_depth = 9, max_samples = 0.8, \n",
    "                                  n_estimators = 125, min_samples_leaf = 5)"
   ]
  },
  {
   "cell_type": "code",
   "execution_count": 17,
   "metadata": {},
   "outputs": [
    {
     "name": "stdout",
     "output_type": "stream",
     "text": [
      "Mean Absolute Error: 29.014254828243384\n",
      "Mean Squared Error: 205733.0373221685\n",
      "Root Mean Squared Error: 453.5780388446607\n",
      "R-squared: 0.961829224734453\n",
      "\n",
      "\n",
      "Total HA repair-replace amount actual:    $217,284,763.35\n",
      "Total HA repair-replace amount predicted: $216,980,986.66\n",
      "\n",
      "\n",
      "Percentage of predictions that are off by more than 20%: 1.03\n"
     ]
    }
   ],
   "source": [
    "evaluate(y_test, y_pred)"
   ]
  },
  {
   "cell_type": "code",
   "execution_count": 18,
   "metadata": {},
   "outputs": [
    {
     "data": {
      "text/html": [
       "<div>\n",
       "<style scoped>\n",
       "    .dataframe tbody tr th:only-of-type {\n",
       "        vertical-align: middle;\n",
       "    }\n",
       "\n",
       "    .dataframe tbody tr th {\n",
       "        vertical-align: top;\n",
       "    }\n",
       "\n",
       "    .dataframe thead th {\n",
       "        text-align: right;\n",
       "    }\n",
       "</style>\n",
       "<table border=\"1\" class=\"dataframe\">\n",
       "  <thead>\n",
       "    <tr style=\"text-align: right;\">\n",
       "      <th></th>\n",
       "      <th>count</th>\n",
       "      <th>mean</th>\n",
       "      <th>std</th>\n",
       "      <th>min</th>\n",
       "      <th>25%</th>\n",
       "      <th>50%</th>\n",
       "      <th>75%</th>\n",
       "      <th>max</th>\n",
       "    </tr>\n",
       "  </thead>\n",
       "  <tbody>\n",
       "    <tr>\n",
       "      <th>actual</th>\n",
       "      <td>637457.0</td>\n",
       "      <td>340.861836</td>\n",
       "      <td>2321.597189</td>\n",
       "      <td>0.000000</td>\n",
       "      <td>0.0</td>\n",
       "      <td>0.0</td>\n",
       "      <td>0.0</td>\n",
       "      <td>33300.000000</td>\n",
       "    </tr>\n",
       "    <tr>\n",
       "      <th>predicted</th>\n",
       "      <td>637457.0</td>\n",
       "      <td>340.385291</td>\n",
       "      <td>2271.401395</td>\n",
       "      <td>0.000000</td>\n",
       "      <td>0.0</td>\n",
       "      <td>0.0</td>\n",
       "      <td>0.0</td>\n",
       "      <td>30807.577915</td>\n",
       "    </tr>\n",
       "    <tr>\n",
       "      <th>errors</th>\n",
       "      <td>637457.0</td>\n",
       "      <td>-0.476545</td>\n",
       "      <td>453.578144</td>\n",
       "      <td>-32068.137934</td>\n",
       "      <td>0.0</td>\n",
       "      <td>0.0</td>\n",
       "      <td>0.0</td>\n",
       "      <td>30286.179613</td>\n",
       "    </tr>\n",
       "  </tbody>\n",
       "</table>\n",
       "</div>"
      ],
      "text/plain": [
       "              count        mean          std           min  25%  50%  75%  \\\n",
       "actual     637457.0  340.861836  2321.597189      0.000000  0.0  0.0  0.0   \n",
       "predicted  637457.0  340.385291  2271.401395      0.000000  0.0  0.0  0.0   \n",
       "errors     637457.0   -0.476545   453.578144 -32068.137934  0.0  0.0  0.0   \n",
       "\n",
       "                    max  \n",
       "actual     33300.000000  \n",
       "predicted  30807.577915  \n",
       "errors     30286.179613  "
      ]
     },
     "execution_count": 18,
     "metadata": {},
     "output_type": "execute_result"
    }
   ],
   "source": [
    "results_df = pd.DataFrame({'actual': y_test, 'predicted': y_pred})\n",
    "results_df['errors'] = results_df['predicted'] - results_df['actual']\n",
    "results_df.describe().transpose()"
   ]
  },
  {
   "cell_type": "code",
   "execution_count": 19,
   "metadata": {},
   "outputs": [
    {
     "data": {
      "text/plain": [
       "{'bootstrap': True,\n",
       " 'ccp_alpha': 0.0,\n",
       " 'criterion': 'mse',\n",
       " 'max_depth': 9,\n",
       " 'max_features': 'auto',\n",
       " 'max_leaf_nodes': None,\n",
       " 'max_samples': 0.8,\n",
       " 'min_impurity_decrease': 0.0,\n",
       " 'min_impurity_split': None,\n",
       " 'min_samples_leaf': 5,\n",
       " 'min_samples_split': 2,\n",
       " 'min_weight_fraction_leaf': 0.0,\n",
       " 'n_estimators': 125,\n",
       " 'n_jobs': None,\n",
       " 'oob_score': False,\n",
       " 'random_state': 42,\n",
       " 'verbose': 0,\n",
       " 'warm_start': False}"
      ]
     },
     "execution_count": 19,
     "metadata": {},
     "output_type": "execute_result"
    }
   ],
   "source": [
    "model_rf.get_params()"
   ]
  },
  {
   "cell_type": "markdown",
   "metadata": {},
   "source": [
    "### Predict on Test (NC) using RandomForest Model"
   ]
  },
  {
   "cell_type": "code",
   "execution_count": 53,
   "metadata": {},
   "outputs": [],
   "source": [
    "model_rf = pickle.load(open('./models/random_forest.sav', 'rb'))"
   ]
  },
  {
   "cell_type": "code",
   "execution_count": 54,
   "metadata": {},
   "outputs": [
    {
     "name": "stdout",
     "output_type": "stream",
     "text": [
      "Shape of Training and Test inputs\n",
      "(132336, 33) (132336,)\n"
     ]
    }
   ],
   "source": [
    "y_pred, y_test = predict(femaNCTestDf, model_rf)"
   ]
  },
  {
   "cell_type": "code",
   "execution_count": 55,
   "metadata": {},
   "outputs": [
    {
     "name": "stdout",
     "output_type": "stream",
     "text": [
      "Mean Absolute Error: 77.05291707209919\n",
      "Mean Squared Error: 604172.3353926402\n",
      "Root Mean Squared Error: 777.2852342561514\n",
      "R-squared: 0.8831895851486424\n",
      "\n",
      "\n",
      "Total HA repair-replace amount actual:    $55,016,024.02\n",
      "Total HA repair-replace amount predicted: $62,062,632.26\n",
      "\n",
      "\n",
      "Percentage of predictions that are off by more than 20%: 2.78\n"
     ]
    }
   ],
   "source": [
    "evaluate(y_test, y_pred)"
   ]
  },
  {
   "cell_type": "code",
   "execution_count": 56,
   "metadata": {},
   "outputs": [
    {
     "data": {
      "text/html": [
       "<div>\n",
       "<style scoped>\n",
       "    .dataframe tbody tr th:only-of-type {\n",
       "        vertical-align: middle;\n",
       "    }\n",
       "\n",
       "    .dataframe tbody tr th {\n",
       "        vertical-align: top;\n",
       "    }\n",
       "\n",
       "    .dataframe thead th {\n",
       "        text-align: right;\n",
       "    }\n",
       "</style>\n",
       "<table border=\"1\" class=\"dataframe\">\n",
       "  <thead>\n",
       "    <tr style=\"text-align: right;\">\n",
       "      <th></th>\n",
       "      <th>count</th>\n",
       "      <th>mean</th>\n",
       "      <th>std</th>\n",
       "      <th>min</th>\n",
       "      <th>25%</th>\n",
       "      <th>50%</th>\n",
       "      <th>75%</th>\n",
       "      <th>max</th>\n",
       "    </tr>\n",
       "  </thead>\n",
       "  <tbody>\n",
       "    <tr>\n",
       "      <th>actual</th>\n",
       "      <td>132336.0</td>\n",
       "      <td>415.729839</td>\n",
       "      <td>2274.266087</td>\n",
       "      <td>0.000000</td>\n",
       "      <td>0.0</td>\n",
       "      <td>0.0</td>\n",
       "      <td>0.0</td>\n",
       "      <td>33235.660000</td>\n",
       "    </tr>\n",
       "    <tr>\n",
       "      <th>predicted</th>\n",
       "      <td>132336.0</td>\n",
       "      <td>468.977695</td>\n",
       "      <td>2353.923738</td>\n",
       "      <td>0.000000</td>\n",
       "      <td>0.0</td>\n",
       "      <td>0.0</td>\n",
       "      <td>0.0</td>\n",
       "      <td>30473.780843</td>\n",
       "    </tr>\n",
       "    <tr>\n",
       "      <th>errors</th>\n",
       "      <td>132336.0</td>\n",
       "      <td>53.247856</td>\n",
       "      <td>775.462149</td>\n",
       "      <td>-24057.542882</td>\n",
       "      <td>0.0</td>\n",
       "      <td>0.0</td>\n",
       "      <td>0.0</td>\n",
       "      <td>30156.967765</td>\n",
       "    </tr>\n",
       "  </tbody>\n",
       "</table>\n",
       "</div>"
      ],
      "text/plain": [
       "              count        mean          std           min  25%  50%  75%  \\\n",
       "actual     132336.0  415.729839  2274.266087      0.000000  0.0  0.0  0.0   \n",
       "predicted  132336.0  468.977695  2353.923738      0.000000  0.0  0.0  0.0   \n",
       "errors     132336.0   53.247856   775.462149 -24057.542882  0.0  0.0  0.0   \n",
       "\n",
       "                    max  \n",
       "actual     33235.660000  \n",
       "predicted  30473.780843  \n",
       "errors     30156.967765  "
      ]
     },
     "execution_count": 56,
     "metadata": {},
     "output_type": "execute_result"
    }
   ],
   "source": [
    "results_df = pd.DataFrame({'actual': y_test, 'predicted': y_pred})\n",
    "results_df['errors'] = results_df['predicted'] - results_df['actual']\n",
    "results_df.describe().transpose()"
   ]
  },
  {
   "cell_type": "markdown",
   "metadata": {},
   "source": [
    "### Predict on Test (PR) using RandomForest Model"
   ]
  },
  {
   "cell_type": "code",
   "execution_count": 49,
   "metadata": {},
   "outputs": [],
   "source": [
    "model_rf = pickle.load(open('./models/random_forest.sav', 'rb'))"
   ]
  },
  {
   "cell_type": "code",
   "execution_count": 50,
   "metadata": {},
   "outputs": [
    {
     "name": "stdout",
     "output_type": "stream",
     "text": [
      "Shape of Training and Test inputs\n",
      "(1041745, 33) (1041745,)\n"
     ]
    }
   ],
   "source": [
    "y_pred, y_test = predict(femaTestDf, model_rf)"
   ]
  },
  {
   "cell_type": "code",
   "execution_count": 51,
   "metadata": {},
   "outputs": [
    {
     "name": "stdout",
     "output_type": "stream",
     "text": [
      "Mean Absolute Error: 47.59104858895865\n",
      "Mean Squared Error: 191504.36499848688\n",
      "Root Mean Squared Error: 437.6121170608589\n",
      "R-squared: 0.9678677168326351\n",
      "\n",
      "\n",
      "Total HA repair-replace amount actual:    $529,331,656.32\n",
      "Total HA repair-replace amount predicted: $530,199,037.63\n",
      "\n",
      "\n",
      "Percentage of predictions that are off by more than 20%: 2.66\n"
     ]
    }
   ],
   "source": [
    "evaluate(y_test, y_pred)"
   ]
  },
  {
   "cell_type": "code",
   "execution_count": 52,
   "metadata": {},
   "outputs": [
    {
     "data": {
      "text/html": [
       "<div>\n",
       "<style scoped>\n",
       "    .dataframe tbody tr th:only-of-type {\n",
       "        vertical-align: middle;\n",
       "    }\n",
       "\n",
       "    .dataframe tbody tr th {\n",
       "        vertical-align: top;\n",
       "    }\n",
       "\n",
       "    .dataframe thead th {\n",
       "        text-align: right;\n",
       "    }\n",
       "</style>\n",
       "<table border=\"1\" class=\"dataframe\">\n",
       "  <thead>\n",
       "    <tr style=\"text-align: right;\">\n",
       "      <th></th>\n",
       "      <th>count</th>\n",
       "      <th>mean</th>\n",
       "      <th>std</th>\n",
       "      <th>min</th>\n",
       "      <th>25%</th>\n",
       "      <th>50%</th>\n",
       "      <th>75%</th>\n",
       "      <th>max</th>\n",
       "    </tr>\n",
       "  </thead>\n",
       "  <tbody>\n",
       "    <tr>\n",
       "      <th>actual</th>\n",
       "      <td>1041745.0</td>\n",
       "      <td>508.120179</td>\n",
       "      <td>2441.286527</td>\n",
       "      <td>0.000000</td>\n",
       "      <td>0.0</td>\n",
       "      <td>0.0</td>\n",
       "      <td>0.0</td>\n",
       "      <td>33300.000000</td>\n",
       "    </tr>\n",
       "    <tr>\n",
       "      <th>predicted</th>\n",
       "      <td>1041745.0</td>\n",
       "      <td>508.952803</td>\n",
       "      <td>2386.039837</td>\n",
       "      <td>0.000000</td>\n",
       "      <td>0.0</td>\n",
       "      <td>0.0</td>\n",
       "      <td>0.0</td>\n",
       "      <td>30802.669320</td>\n",
       "    </tr>\n",
       "    <tr>\n",
       "      <th>errors</th>\n",
       "      <td>1041745.0</td>\n",
       "      <td>0.832623</td>\n",
       "      <td>437.611535</td>\n",
       "      <td>-31463.948669</td>\n",
       "      <td>0.0</td>\n",
       "      <td>0.0</td>\n",
       "      <td>0.0</td>\n",
       "      <td>28590.764088</td>\n",
       "    </tr>\n",
       "  </tbody>\n",
       "</table>\n",
       "</div>"
      ],
      "text/plain": [
       "               count        mean          std           min  25%  50%  75%  \\\n",
       "actual     1041745.0  508.120179  2441.286527      0.000000  0.0  0.0  0.0   \n",
       "predicted  1041745.0  508.952803  2386.039837      0.000000  0.0  0.0  0.0   \n",
       "errors     1041745.0    0.832623   437.611535 -31463.948669  0.0  0.0  0.0   \n",
       "\n",
       "                    max  \n",
       "actual     33300.000000  \n",
       "predicted  30802.669320  \n",
       "errors     28590.764088  "
      ]
     },
     "execution_count": 52,
     "metadata": {},
     "output_type": "execute_result"
    }
   ],
   "source": [
    "results_df = pd.DataFrame({'actual': y_test, 'predicted': y_pred})\n",
    "results_df['errors'] = results_df['predicted'] - results_df['actual']\n",
    "results_df.describe().transpose()"
   ]
  },
  {
   "cell_type": "markdown",
   "metadata": {},
   "source": [
    "### Generate Prediction Files using RandomForest Model predictions"
   ]
  },
  {
   "cell_type": "code",
   "execution_count": 34,
   "metadata": {},
   "outputs": [],
   "source": [
    "# Append predictions to femaTestData\n",
    "femaTestData['repairReplacementAmount_predicted'] = y_pred"
   ]
  },
  {
   "cell_type": "code",
   "execution_count": 35,
   "metadata": {},
   "outputs": [
    {
     "data": {
      "text/plain": [
       "Index(['disasterNumber', 'damagedCity', 'damagedStateAbbreviation',\n",
       "       'damagedZipCode', 'householdComposition', 'grossIncome', 'specialNeeds',\n",
       "       'homeOwnersInsurance', 'floodInsurance', 'inspected', 'rpfvl',\n",
       "       'habitabilityRepairsRequired', 'destroyed', 'waterLevel', 'floodDamage',\n",
       "       'foundationDamage', 'foundationDamageAmount', 'roofDamage',\n",
       "       'roofDamageAmount', 'tsaEligible', 'tsaCheckedIn',\n",
       "       'rentalAssistanceEligible', 'rentalAssistanceAmount',\n",
       "       'repairAssistanceEligible', 'repairAmount',\n",
       "       'replacementAssistanceEligible', 'replacementAmount', 'sbaEligible',\n",
       "       'renterDamageLevel', 'rentalAssistanceEndDate', 'rentalResourceCity',\n",
       "       'rentalResourceStateAbbreviation', 'rentalResourceZipCode',\n",
       "       'primaryResidence', 'personalPropertyEligible', 'ppfvl',\n",
       "       'censusBlockId', 'censusYear', 'id', 'censusTractId', 'censusid',\n",
       "       'tractid', 'tractname', 'county', 'state', 'below_poverty_rate',\n",
       "       'median_earnings_total', 'unemployed_labor_rate',\n",
       "       'built_1979_or_earlier_rate', 'owner_occupied_rate', 'haAmount',\n",
       "       'repairReplacementAmount', 'ownRent_Owner', 'ownRent_Renter',\n",
       "       'ownRent_Unknown', 'residenceType_Apartment',\n",
       "       'residenceType_Assisted Living Facility', 'residenceType_Boat',\n",
       "       'residenceType_College Dorm', 'residenceType_Condo',\n",
       "       'residenceType_Correctional Facility', 'residenceType_House/Duplex',\n",
       "       'residenceType_Military Housing', 'residenceType_Mobile Home',\n",
       "       'residenceType_Other', 'residenceType_Townhouse',\n",
       "       'residenceType_Travel Trailer', 'residenceType_Unknown',\n",
       "       'repairReplacementAmount_predicted'],\n",
       "      dtype='object')"
      ]
     },
     "execution_count": 35,
     "metadata": {},
     "output_type": "execute_result"
    }
   ],
   "source": [
    "femaTestData.columns"
   ]
  },
  {
   "cell_type": "code",
   "execution_count": 37,
   "metadata": {},
   "outputs": [
    {
     "data": {
      "text/plain": [
       "Index(['disasterNumber', 'damagedCity', 'damagedStateAbbreviation',\n",
       "       'damagedZipCode', 'householdComposition', 'grossIncome', 'specialNeeds',\n",
       "       'homeOwnersInsurance', 'floodInsurance', 'inspected', 'rpfvl',\n",
       "       'habitabilityRepairsRequired', 'destroyed', 'waterLevel', 'floodDamage',\n",
       "       'foundationDamage', 'foundationDamageAmount', 'roofDamage',\n",
       "       'roofDamageAmount', 'tsaEligible', 'tsaCheckedIn',\n",
       "       'rentalAssistanceEligible', 'rentalAssistanceAmount',\n",
       "       'repairAssistanceEligible', 'repairAmount',\n",
       "       'replacementAssistanceEligible', 'replacementAmount', 'sbaEligible',\n",
       "       'renterDamageLevel', 'rentalAssistanceEndDate', 'rentalResourceCity',\n",
       "       'rentalResourceStateAbbreviation', 'rentalResourceZipCode',\n",
       "       'primaryResidence', 'personalPropertyEligible', 'ppfvl',\n",
       "       'censusBlockId', 'censusYear', 'id', 'censusTractId', 'censusid',\n",
       "       'tractid', 'tractname', 'county', 'state', 'haAmount',\n",
       "       'repairReplacementAmount', 'ownRent_Owner', 'ownRent_Renter',\n",
       "       'ownRent_Unknown', 'residenceType_Apartment',\n",
       "       'residenceType_Assisted Living Facility', 'residenceType_Boat',\n",
       "       'residenceType_College Dorm', 'residenceType_Condo',\n",
       "       'residenceType_Correctional Facility', 'residenceType_House/Duplex',\n",
       "       'residenceType_Military Housing', 'residenceType_Mobile Home',\n",
       "       'residenceType_Other', 'residenceType_Townhouse',\n",
       "       'residenceType_Travel Trailer', 'residenceType_Unknown',\n",
       "       'repairReplacementAmount_predicted'],\n",
       "      dtype='object')"
      ]
     },
     "execution_count": 37,
     "metadata": {},
     "output_type": "execute_result"
    }
   ],
   "source": [
    "# Drop demographics from FEMA file\n",
    "femaTestData.drop(['below_poverty_rate', 'unemployed_labor_rate', 'median_earnings_total',\n",
    "                                   'built_1979_or_earlier_rate', 'owner_occupied_rate'], axis=1, inplace=True)\n",
    "                            \n",
    "femaTestData.columns"
   ]
  },
  {
   "cell_type": "markdown",
   "metadata": {},
   "source": [
    "### Combine Demographics with PR Predictions (GisJoin)"
   ]
  },
  {
   "cell_type": "code",
   "execution_count": 38,
   "metadata": {},
   "outputs": [],
   "source": [
    "# Load demographics data\n",
    "demoDf = pd.read_csv(\"../../../data/census-tract/census-tract-demographics.csv\")"
   ]
  },
  {
   "cell_type": "code",
   "execution_count": 39,
   "metadata": {},
   "outputs": [
    {
     "data": {
      "text/html": [
       "<div>\n",
       "<style scoped>\n",
       "    .dataframe tbody tr th:only-of-type {\n",
       "        vertical-align: middle;\n",
       "    }\n",
       "\n",
       "    .dataframe tbody tr th {\n",
       "        vertical-align: top;\n",
       "    }\n",
       "\n",
       "    .dataframe thead th {\n",
       "        text-align: right;\n",
       "    }\n",
       "</style>\n",
       "<table border=\"1\" class=\"dataframe\">\n",
       "  <thead>\n",
       "    <tr style=\"text-align: right;\">\n",
       "      <th></th>\n",
       "      <th>tractid</th>\n",
       "      <th>gisjoin</th>\n",
       "    </tr>\n",
       "  </thead>\n",
       "  <tbody>\n",
       "    <tr>\n",
       "      <th>0</th>\n",
       "      <td>12001000200</td>\n",
       "      <td>G1200010000200</td>\n",
       "    </tr>\n",
       "    <tr>\n",
       "      <th>1</th>\n",
       "      <td>12001000301</td>\n",
       "      <td>G1200010000301</td>\n",
       "    </tr>\n",
       "    <tr>\n",
       "      <th>2</th>\n",
       "      <td>12001000302</td>\n",
       "      <td>G1200010000302</td>\n",
       "    </tr>\n",
       "  </tbody>\n",
       "</table>\n",
       "</div>"
      ],
      "text/plain": [
       "       tractid         gisjoin\n",
       "0  12001000200  G1200010000200\n",
       "1  12001000301  G1200010000301\n",
       "2  12001000302  G1200010000302"
      ]
     },
     "execution_count": 39,
     "metadata": {},
     "output_type": "execute_result"
    }
   ],
   "source": [
    "# Select subset of variables\n",
    "demoDf = demoDf[['tractid', 'gisjoin']]\n",
    "demoDf.head(3)"
   ]
  },
  {
   "cell_type": "code",
   "execution_count": 40,
   "metadata": {},
   "outputs": [],
   "source": [
    "# Merge predictions with demographics - need GISJOIN for Tableau visualizations\n",
    "femaTestData = pd.merge(femaTestData, demoDf, left_on='censusTractId', right_on='tractid', suffixes=('', '_y'))\n",
    "\n",
    "# Remove common join column\n",
    "femaTestData = femaTestData.drop(['tractid_y'], axis=1)"
   ]
  },
  {
   "cell_type": "code",
   "execution_count": 41,
   "metadata": {},
   "outputs": [
    {
     "data": {
      "text/plain": [
       "Index(['disasterNumber', 'damagedCity', 'damagedStateAbbreviation',\n",
       "       'damagedZipCode', 'householdComposition', 'grossIncome', 'specialNeeds',\n",
       "       'homeOwnersInsurance', 'floodInsurance', 'inspected', 'rpfvl',\n",
       "       'habitabilityRepairsRequired', 'destroyed', 'waterLevel', 'floodDamage',\n",
       "       'foundationDamage', 'foundationDamageAmount', 'roofDamage',\n",
       "       'roofDamageAmount', 'tsaEligible', 'tsaCheckedIn',\n",
       "       'rentalAssistanceEligible', 'rentalAssistanceAmount',\n",
       "       'repairAssistanceEligible', 'repairAmount',\n",
       "       'replacementAssistanceEligible', 'replacementAmount', 'sbaEligible',\n",
       "       'renterDamageLevel', 'rentalAssistanceEndDate', 'rentalResourceCity',\n",
       "       'rentalResourceStateAbbreviation', 'rentalResourceZipCode',\n",
       "       'primaryResidence', 'personalPropertyEligible', 'ppfvl',\n",
       "       'censusBlockId', 'censusYear', 'id', 'censusTractId', 'censusid',\n",
       "       'tractid', 'tractname', 'county', 'state', 'haAmount',\n",
       "       'repairReplacementAmount', 'ownRent_Owner', 'ownRent_Renter',\n",
       "       'ownRent_Unknown', 'residenceType_Apartment',\n",
       "       'residenceType_Assisted Living Facility', 'residenceType_Boat',\n",
       "       'residenceType_College Dorm', 'residenceType_Condo',\n",
       "       'residenceType_Correctional Facility', 'residenceType_House/Duplex',\n",
       "       'residenceType_Military Housing', 'residenceType_Mobile Home',\n",
       "       'residenceType_Other', 'residenceType_Townhouse',\n",
       "       'residenceType_Travel Trailer', 'residenceType_Unknown',\n",
       "       'repairReplacementAmount_predicted', 'gisjoin'],\n",
       "      dtype='object')"
      ]
     },
     "execution_count": 41,
     "metadata": {},
     "output_type": "execute_result"
    }
   ],
   "source": [
    "femaTestData.columns"
   ]
  },
  {
   "cell_type": "markdown",
   "metadata": {},
   "source": [
    "### Create Prediction Files"
   ]
  },
  {
   "cell_type": "code",
   "execution_count": 42,
   "metadata": {},
   "outputs": [],
   "source": [
    "# Write predictions\n",
    "femaTestData.to_csv(\"./predictions/FEMA-Large-PR-predictions.csv\", index=False, encoding='utf-8')"
   ]
  }
 ],
 "metadata": {
  "kernelspec": {
   "display_name": "Python 3",
   "language": "python",
   "name": "python3"
  },
  "language_info": {
   "codemirror_mode": {
    "name": "ipython",
    "version": 3
   },
   "file_extension": ".py",
   "mimetype": "text/x-python",
   "name": "python",
   "nbconvert_exporter": "python",
   "pygments_lexer": "ipython3",
   "version": "3.6.10"
  }
 },
 "nbformat": 4,
 "nbformat_minor": 4
}
