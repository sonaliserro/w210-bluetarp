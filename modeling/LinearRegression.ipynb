{
 "cells": [
  {
   "cell_type": "code",
   "execution_count": 3,
   "metadata": {},
   "outputs": [],
   "source": [
    "# Importing libraries and packages\n",
    "import geopandas as gpd\n",
    "import pandas as pd\n",
    "import numpy as np\n",
    "\n",
    "# Visualization\n",
    "import matplotlib.pyplot as plt\n",
    "import seaborn as sns\n",
    "\n",
    "# Modeling\n",
    "from sklearn.linear_model import LinearRegression\n",
    "from sklearn.linear_model import Ridge\n",
    "from sklearn.linear_model import Lasso\n",
    "from sklearn.linear_model import ElasticNet\n",
    "\n",
    "from sklearn.model_selection import train_test_split\n",
    "from sklearn.model_selection import GridSearchCV\n",
    "from sklearn.model_selection import cross_val_score, KFold\n",
    "\n",
    "# Metrics\n",
    "from sklearn import metrics"
   ]
  },
  {
   "cell_type": "markdown",
   "metadata": {},
   "source": [
    "### Load the TX/FL datasets"
   ]
  },
  {
   "cell_type": "code",
   "execution_count": 4,
   "metadata": {},
   "outputs": [],
   "source": [
    "# Load FEMA data\n",
    "flData = pd.read_csv(\"FEMA-Large-DR-4337-FL.csv\")\n",
    "txData = pd.read_csv(\"FEMA-Large-DR-4332-TX.csv\")\n",
    "\n",
    "# Combine FL + TX datasets\n",
    "femaDf = pd.concat([flData, txData])"
   ]
  },
  {
   "cell_type": "code",
   "execution_count": 5,
   "metadata": {},
   "outputs": [
    {
     "name": "stdout",
     "output_type": "stream",
     "text": [
      "There are 3538955 records combined.\n"
     ]
    }
   ],
   "source": [
    "print(f'There are {len(femaDf)} records combined.')"
   ]
  },
  {
   "cell_type": "code",
   "execution_count": 6,
   "metadata": {},
   "outputs": [],
   "source": [
    "# Select subset of columns\n",
    "cols = ['householdComposition', 'specialNeeds', 'ownRent', 'residenceType', 'homeOwnersInsurance', 'floodInsurance', \n",
    "        'inspected', 'rpfvl', 'habitabilityRepairsRequired', 'destroyed', 'waterLevel', 'floodDamage', \n",
    "        'foundationDamage', 'roofDamage', 'tsaEligible', 'rentalAssistanceEligible', 'rentalAssistanceAmount', \n",
    "        'repairAssistanceEligible', 'repairAmount', 'replacementAssistanceEligible', 'replacementAmount', 'sbaEligible', \n",
    "        'primaryResidence']\n",
    "femaDf = femaDf.loc[:, cols]"
   ]
  },
  {
   "cell_type": "markdown",
   "metadata": {},
   "source": [
    "### Feature Engineering"
   ]
  },
  {
   "cell_type": "code",
   "execution_count": 7,
   "metadata": {},
   "outputs": [],
   "source": [
    "# Convert dtype from object to boolean\n",
    "femaDf['habitabilityRepairsRequired'] = femaDf['habitabilityRepairsRequired'].astype('bool')\n",
    "femaDf['primaryResidence'] = femaDf['primaryResidence'].astype('bool')"
   ]
  },
  {
   "cell_type": "code",
   "execution_count": 8,
   "metadata": {},
   "outputs": [],
   "source": [
    "# Convert boolean columns to int\n",
    "bool_cols = ['specialNeeds', 'homeOwnersInsurance', 'floodInsurance', 'inspected', 'destroyed', \n",
    "             'habitabilityRepairsRequired', 'floodDamage', 'foundationDamage', 'roofDamage', \n",
    "             'tsaEligible', 'rentalAssistanceEligible', 'repairAssistanceEligible', \n",
    "             'replacementAssistanceEligible', 'sbaEligible', 'primaryResidence']\n",
    "femaDf[bool_cols] = femaDf[bool_cols].astype(int)"
   ]
  },
  {
   "cell_type": "code",
   "execution_count": 9,
   "metadata": {},
   "outputs": [],
   "source": [
    "# One-hot encode the categorical variables\n",
    "cat_cols = ['ownRent', 'residenceType']\n",
    "for col in cat_cols:\n",
    "    femaDf = pd.concat([femaDf, pd.get_dummies(femaDf[col], prefix=col)], axis=1)\n",
    "femaDf.drop(cat_cols, axis=1, inplace=True)"
   ]
  },
  {
   "cell_type": "code",
   "execution_count": 10,
   "metadata": {},
   "outputs": [],
   "source": [
    "# Fill the na's with zero's in waterLevel\n",
    "femaDf['waterLevel'].fillna(0, inplace=True)"
   ]
  },
  {
   "cell_type": "code",
   "execution_count": 11,
   "metadata": {},
   "outputs": [],
   "source": [
    "# Define all the dollar amount columns\n",
    "amount_cols = ['rentalAssistanceAmount', 'replacementAmount','repairAmount', 'rpfvl']\n",
    "# Set them to zero if null\n",
    "femaDf[amount_cols] = femaDf[amount_cols].fillna(0)\n",
    "# Calculate the aggregated haAmount\n",
    "femaDf['haAmount'] = femaDf['rentalAssistanceAmount'] + femaDf['replacementAmount'] + femaDf['repairAmount']"
   ]
  },
  {
   "cell_type": "code",
   "execution_count": 12,
   "metadata": {},
   "outputs": [],
   "source": [
    "# Drop the individual amount columns\n",
    "femaDf.drop(['rentalAssistanceAmount', 'replacementAmount','repairAmount'], axis=1, inplace=True)"
   ]
  },
  {
   "cell_type": "markdown",
   "metadata": {},
   "source": [
    "### Split in Train and Test"
   ]
  },
  {
   "cell_type": "code",
   "execution_count": 13,
   "metadata": {},
   "outputs": [
    {
     "name": "stdout",
     "output_type": "stream",
     "text": [
      "(2831164, 34) (2831164,)\n",
      "(707791, 34) (707791,)\n"
     ]
    }
   ],
   "source": [
    "# Split the data into train and test data\n",
    "X = femaDf.loc[:, femaDf.columns != 'haAmount']\n",
    "y = femaDf.loc[:, 'haAmount']\n",
    "X_train, X_test, y_train, y_test = train_test_split(X, y, test_size = 0.2, shuffle = True)\n",
    "\n",
    "print(X_train.shape, y_train.shape)\n",
    "print(X_test.shape, y_test.shape)"
   ]
  },
  {
   "cell_type": "code",
   "execution_count": 14,
   "metadata": {},
   "outputs": [],
   "source": [
    "# Function to get cross validation scores\n",
    "def get_cv_scores(model):\n",
    "    scores = cross_val_score(model,\n",
    "                             X_train,\n",
    "                             y_train,\n",
    "                             cv=5,\n",
    "                             scoring='r2')\n",
    "    \n",
    "    print('CV Mean: ', np.mean(scores))\n",
    "    print('STD: ', np.std(scores))"
   ]
  },
  {
   "cell_type": "markdown",
   "metadata": {},
   "source": [
    "### Linear Regression (Ordinary Least Squares)"
   ]
  },
  {
   "cell_type": "code",
   "execution_count": 15,
   "metadata": {},
   "outputs": [
    {
     "name": "stdout",
     "output_type": "stream",
     "text": [
      "CV Mean:  0.7031206384780899\n",
      "STD:  0.0007893505036995003\n"
     ]
    }
   ],
   "source": [
    "# LinearRegression default model\n",
    "model_lr = LinearRegression()\n",
    "\n",
    "# Fit the LR model to the training\n",
    "model_lr.fit(X_train, y_train)\n",
    "\n",
    "# Get cross val scores\n",
    "get_cv_scores(model_lr)"
   ]
  },
  {
   "cell_type": "code",
   "execution_count": 16,
   "metadata": {},
   "outputs": [
    {
     "data": {
      "text/html": [
       "<div>\n",
       "<style scoped>\n",
       "    .dataframe tbody tr th:only-of-type {\n",
       "        vertical-align: middle;\n",
       "    }\n",
       "\n",
       "    .dataframe tbody tr th {\n",
       "        vertical-align: top;\n",
       "    }\n",
       "\n",
       "    .dataframe thead th {\n",
       "        text-align: right;\n",
       "    }\n",
       "</style>\n",
       "<table border=\"1\" class=\"dataframe\">\n",
       "  <thead>\n",
       "    <tr style=\"text-align: right;\">\n",
       "      <th></th>\n",
       "      <th>Actual</th>\n",
       "      <th>Predicted</th>\n",
       "    </tr>\n",
       "  </thead>\n",
       "  <tbody>\n",
       "    <tr>\n",
       "      <th>1624564</th>\n",
       "      <td>920.0</td>\n",
       "      <td>633.265717</td>\n",
       "    </tr>\n",
       "    <tr>\n",
       "      <th>2091582</th>\n",
       "      <td>0.0</td>\n",
       "      <td>103.256239</td>\n",
       "    </tr>\n",
       "    <tr>\n",
       "      <th>1738799</th>\n",
       "      <td>1014.0</td>\n",
       "      <td>1449.788623</td>\n",
       "    </tr>\n",
       "    <tr>\n",
       "      <th>77868</th>\n",
       "      <td>0.0</td>\n",
       "      <td>-559.942261</td>\n",
       "    </tr>\n",
       "    <tr>\n",
       "      <th>1110471</th>\n",
       "      <td>0.0</td>\n",
       "      <td>-215.300813</td>\n",
       "    </tr>\n",
       "    <tr>\n",
       "      <th>...</th>\n",
       "      <td>...</td>\n",
       "      <td>...</td>\n",
       "    </tr>\n",
       "    <tr>\n",
       "      <th>2200400</th>\n",
       "      <td>0.0</td>\n",
       "      <td>131.048104</td>\n",
       "    </tr>\n",
       "    <tr>\n",
       "      <th>2186364</th>\n",
       "      <td>0.0</td>\n",
       "      <td>33.447657</td>\n",
       "    </tr>\n",
       "    <tr>\n",
       "      <th>181173</th>\n",
       "      <td>0.0</td>\n",
       "      <td>-158.830087</td>\n",
       "    </tr>\n",
       "    <tr>\n",
       "      <th>1732289</th>\n",
       "      <td>0.0</td>\n",
       "      <td>116.755035</td>\n",
       "    </tr>\n",
       "    <tr>\n",
       "      <th>89103</th>\n",
       "      <td>0.0</td>\n",
       "      <td>3.879778</td>\n",
       "    </tr>\n",
       "  </tbody>\n",
       "</table>\n",
       "<p>707791 rows × 2 columns</p>\n",
       "</div>"
      ],
      "text/plain": [
       "         Actual    Predicted\n",
       "1624564   920.0   633.265717\n",
       "2091582     0.0   103.256239\n",
       "1738799  1014.0  1449.788623\n",
       "77868       0.0  -559.942261\n",
       "1110471     0.0  -215.300813\n",
       "...         ...          ...\n",
       "2200400     0.0   131.048104\n",
       "2186364     0.0    33.447657\n",
       "181173      0.0  -158.830087\n",
       "1732289     0.0   116.755035\n",
       "89103       0.0     3.879778\n",
       "\n",
       "[707791 rows x 2 columns]"
      ]
     },
     "execution_count": 16,
     "metadata": {},
     "output_type": "execute_result"
    }
   ],
   "source": [
    "# Predict\n",
    "y_pred = model_lr.predict(X_test)\n",
    "\n",
    "# Look at actual versus predicted\n",
    "predDf = pd.DataFrame({'Actual': y_test, 'Predicted': y_pred})\n",
    "predDf"
   ]
  },
  {
   "cell_type": "code",
   "execution_count": 17,
   "metadata": {},
   "outputs": [
    {
     "name": "stdout",
     "output_type": "stream",
     "text": [
      "Mean Absolute Error: 429.888273860699\n",
      "Mean Squared Error: 1882964.9101146152\n",
      "Root Mean Squared Error: 1372.211685606348\n",
      "Mean Absolute Percentage Error: 7.042780630736899e+17\n"
     ]
    }
   ],
   "source": [
    "print('Mean Absolute Error:', metrics.mean_absolute_error(y_test, y_pred))\n",
    "print('Mean Squared Error:', metrics.mean_squared_error(y_test, y_pred))\n",
    "print('Root Mean Squared Error:', np.sqrt(metrics.mean_squared_error(y_test, y_pred)))\n",
    "print('Mean Absolute Percentage Error:', metrics.mean_absolute_percentage_error(y_test, y_pred))"
   ]
  },
  {
   "cell_type": "code",
   "execution_count": 22,
   "metadata": {},
   "outputs": [
    {
     "name": "stdout",
     "output_type": "stream",
     "text": [
      "replacementAssistanceEligible: 18921.414986664182\n",
      "repairAssistanceEligible: 6232.89153354628\n",
      "destroyed: -3282.3685983740506\n",
      "rentalAssistanceEligible: 1320.394680503326\n",
      "roofDamage: -863.4869327382406\n",
      "foundationDamage: -689.6487522266149\n",
      "floodInsurance: -685.7879407668682\n",
      "sbaEligible: 633.9394264738618\n",
      "residenceType_Boat: -575.6965287710591\n",
      "floodDamage: 315.32622690799775\n",
      "inspected: -218.36925242898698\n",
      "habitabilityRepairsRequired: -206.12765903724582\n",
      "homeOwnersInsurance: 199.43237846463182\n",
      "residenceType_Travel Trailer: -194.97319718614503\n",
      "residenceType_Unknown: 185.27366021971116\n",
      "ownRent_Owner: -127.08141239873937\n",
      "residenceType_College Dorm: 118.56120236684059\n",
      "residenceType_Mobile Home: -116.65169069349685\n",
      "residenceType_Townhouse: 108.54644016191581\n",
      "residenceType_Condo: 102.32546654269508\n",
      "tsaEligible: 99.44974179118432\n",
      "ownRent_Renter: 91.72697405804453\n",
      "primaryResidence: -90.9898628459262\n",
      "residenceType_House/Duplex: 87.08874232962708\n",
      "residenceType_Other: 72.03040323178313\n",
      "residenceType_Military Housing: 66.04245887558795\n",
      "residenceType_Apartment: 59.42363586966403\n",
      "residenceType_Assisted Living Facility: 45.93446314110882\n",
      "specialNeeds: 43.456900424398356\n",
      "residenceType_Correctional Facility: 42.0949439118807\n",
      "ownRent_Unknown: 35.354438339594495\n",
      "waterLevel: 16.50542183952638\n",
      "householdComposition: 8.387867748237932\n",
      "rpfvl: 0.2651994963588993\n"
     ]
    }
   ],
   "source": [
    "# Get feature importance\n",
    "impt = zip(X_train.columns, model_lr.coef_)\n",
    "sort_impt = sorted(impt, key = lambda x: abs(x[1]), reverse=True)\n",
    "for x, y in sort_impt:\n",
    "    print(f'{x}: {y}')"
   ]
  },
  {
   "cell_type": "markdown",
   "metadata": {},
   "source": [
    "### Ridge"
   ]
  },
  {
   "cell_type": "code",
   "execution_count": 52,
   "metadata": {},
   "outputs": [],
   "source": [
    "# Initialize Ridge default model\n",
    "model_rdg = Ridge()\n",
    "\n",
    "# Create param grid\n",
    "param_grid = {'alpha': [0.001, 0.01, 0.1, 1, 10, 100, 1000]}\n",
    "\n",
    "# Conduct grid search\n",
    "grid_search = GridSearchCV(estimator = model_rdg, param_grid = param_grid, scoring = 'neg_mean_absolute_error', cv = 3, n_jobs = -1, verbose = 2)"
   ]
  },
  {
   "cell_type": "code",
   "execution_count": 53,
   "metadata": {},
   "outputs": [
    {
     "name": "stdout",
     "output_type": "stream",
     "text": [
      "Fitting 3 folds for each of 7 candidates, totalling 21 fits\n"
     ]
    },
    {
     "data": {
      "text/plain": [
       "GridSearchCV(cv=3, estimator=Ridge(), n_jobs=-1,\n",
       "             param_grid={'alpha': [0.001, 0.01, 0.1, 1, 10, 100, 1000]},\n",
       "             scoring='neg_mean_absolute_error', verbose=2)"
      ]
     },
     "execution_count": 53,
     "metadata": {},
     "output_type": "execute_result"
    }
   ],
   "source": [
    "# Fit the grid search to the data\n",
    "grid_search.fit(X_train, y_train)"
   ]
  },
  {
   "cell_type": "code",
   "execution_count": 54,
   "metadata": {},
   "outputs": [
    {
     "data": {
      "text/plain": [
       "{'alpha': 1000}"
      ]
     },
     "execution_count": 54,
     "metadata": {},
     "output_type": "execute_result"
    }
   ],
   "source": [
    "grid_search.best_params_"
   ]
  },
  {
   "cell_type": "code",
   "execution_count": 55,
   "metadata": {},
   "outputs": [],
   "source": [
    "# Predict\n",
    "bestModel = grid_search.best_estimator_\n",
    "y_pred = bestModel.predict(X_test)"
   ]
  },
  {
   "cell_type": "code",
   "execution_count": 56,
   "metadata": {},
   "outputs": [
    {
     "data": {
      "text/html": [
       "<div>\n",
       "<style scoped>\n",
       "    .dataframe tbody tr th:only-of-type {\n",
       "        vertical-align: middle;\n",
       "    }\n",
       "\n",
       "    .dataframe tbody tr th {\n",
       "        vertical-align: top;\n",
       "    }\n",
       "\n",
       "    .dataframe thead th {\n",
       "        text-align: right;\n",
       "    }\n",
       "</style>\n",
       "<table border=\"1\" class=\"dataframe\">\n",
       "  <thead>\n",
       "    <tr style=\"text-align: right;\">\n",
       "      <th></th>\n",
       "      <th>Actual</th>\n",
       "      <th>Predicted</th>\n",
       "    </tr>\n",
       "  </thead>\n",
       "  <tbody>\n",
       "    <tr>\n",
       "      <th>1896425</th>\n",
       "      <td>0.0</td>\n",
       "      <td>-14.165707</td>\n",
       "    </tr>\n",
       "    <tr>\n",
       "      <th>1775561</th>\n",
       "      <td>0.0</td>\n",
       "      <td>60.791266</td>\n",
       "    </tr>\n",
       "    <tr>\n",
       "      <th>1201741</th>\n",
       "      <td>0.0</td>\n",
       "      <td>-559.718047</td>\n",
       "    </tr>\n",
       "    <tr>\n",
       "      <th>1333585</th>\n",
       "      <td>0.0</td>\n",
       "      <td>125.944875</td>\n",
       "    </tr>\n",
       "    <tr>\n",
       "      <th>393160</th>\n",
       "      <td>0.0</td>\n",
       "      <td>-179.865159</td>\n",
       "    </tr>\n",
       "    <tr>\n",
       "      <th>...</th>\n",
       "      <td>...</td>\n",
       "      <td>...</td>\n",
       "    </tr>\n",
       "    <tr>\n",
       "      <th>1829549</th>\n",
       "      <td>920.0</td>\n",
       "      <td>1435.875147</td>\n",
       "    </tr>\n",
       "    <tr>\n",
       "      <th>2548030</th>\n",
       "      <td>0.0</td>\n",
       "      <td>100.780287</td>\n",
       "    </tr>\n",
       "    <tr>\n",
       "      <th>2357859</th>\n",
       "      <td>0.0</td>\n",
       "      <td>2.477066</td>\n",
       "    </tr>\n",
       "    <tr>\n",
       "      <th>1926370</th>\n",
       "      <td>0.0</td>\n",
       "      <td>10.998881</td>\n",
       "    </tr>\n",
       "    <tr>\n",
       "      <th>2340648</th>\n",
       "      <td>0.0</td>\n",
       "      <td>152.928631</td>\n",
       "    </tr>\n",
       "  </tbody>\n",
       "</table>\n",
       "<p>707791 rows × 2 columns</p>\n",
       "</div>"
      ],
      "text/plain": [
       "         Actual    Predicted\n",
       "1896425     0.0   -14.165707\n",
       "1775561     0.0    60.791266\n",
       "1201741     0.0  -559.718047\n",
       "1333585     0.0   125.944875\n",
       "393160      0.0  -179.865159\n",
       "...         ...          ...\n",
       "1829549   920.0  1435.875147\n",
       "2548030     0.0   100.780287\n",
       "2357859     0.0     2.477066\n",
       "1926370     0.0    10.998881\n",
       "2340648     0.0   152.928631\n",
       "\n",
       "[707791 rows x 2 columns]"
      ]
     },
     "execution_count": 56,
     "metadata": {},
     "output_type": "execute_result"
    }
   ],
   "source": [
    "# Look at actual versus predicted\n",
    "predDf = pd.DataFrame({'Actual': y_test, 'Predicted': y_pred})\n",
    "predDf"
   ]
  },
  {
   "cell_type": "code",
   "execution_count": 59,
   "metadata": {},
   "outputs": [
    {
     "name": "stdout",
     "output_type": "stream",
     "text": [
      "Mean Absolute Error: 429.2021105043105\n",
      "Mean Squared Error: 1936785.5704951524\n",
      "Root Mean Squared Error: 1391.6844363917965\n",
      "Mean Absolute Percentage Error: 6.827772897345399e+17\n"
     ]
    }
   ],
   "source": [
    "print('Mean Absolute Error:', metrics.mean_absolute_error(y_test, y_pred))\n",
    "print('Mean Squared Error:', metrics.mean_squared_error(y_test, y_pred))\n",
    "print('Root Mean Squared Error:', np.sqrt(metrics.mean_squared_error(y_test, y_pred)))\n",
    "print('Mean Absolute Percentage Error:', metrics.mean_absolute_percentage_error(y_test, y_pred))"
   ]
  },
  {
   "cell_type": "code",
   "execution_count": 60,
   "metadata": {
    "scrolled": false
   },
   "outputs": [
    {
     "name": "stdout",
     "output_type": "stream",
     "text": [
      "replacementAssistanceEligible: 6149.70250954469\n",
      "repairAssistanceEligible: 6087.606500644544\n",
      "rentalAssistanceEligible: 1326.1002746171087\n",
      "roofDamage: -829.4679427121873\n",
      "floodInsurance: -699.5697289318133\n",
      "sbaEligible: 618.7977932592112\n",
      "foundationDamage: -576.989638998238\n",
      "residenceType_Boat: -350.45888187863517\n",
      "floodDamage: 311.59335654329436\n",
      "inspected: -210.46439746849424\n",
      "habitabilityRepairsRequired: -193.8216244753124\n",
      "homeOwnersInsurance: 181.9622173214632\n",
      "residenceType_Travel Trailer: -150.35343792000157\n",
      "ownRent_Owner: -115.9401768234867\n",
      "residenceType_Townhouse: 112.14860200083812\n",
      "residenceType_Condo: 103.9782892241435\n",
      "residenceType_Mobile Home: -102.17578454257564\n",
      "tsaEligible: 98.30322167594748\n",
      "residenceType_House/Duplex: 90.16424478828199\n",
      "primaryResidence: -88.69428624270326\n",
      "ownRent_Renter: 83.91844839991623\n",
      "residenceType_Other: 73.06802889919673\n",
      "residenceType_Apartment: 64.99965689170295\n",
      "residenceType_College Dorm: 53.59963615353418\n",
      "destroyed: 53.489817457379594\n",
      "specialNeeds: 42.9483657090958\n",
      "residenceType_Assisted Living Facility: 38.59003175913555\n",
      "ownRent_Unknown: 32.02172844666646\n",
      "residenceType_Unknown: 28.707935763080517\n",
      "residenceType_Military Housing: 25.92544204711996\n",
      "waterLevel: 14.498980268060318\n",
      "residenceType_Correctional Facility: 11.806236910997661\n",
      "householdComposition: 8.99458515034779\n",
      "rpfvl: 0.2745403594012917\n"
     ]
    }
   ],
   "source": [
    "# Get feature importance\n",
    "impt = zip(X_train.columns, bestModel.coef_)\n",
    "sort_impt = sorted(impt, key = lambda x: abs(x[1]), reverse=True)\n",
    "for x, y in sort_impt:\n",
    "    print(f'{x}: {y}')"
   ]
  },
  {
   "cell_type": "markdown",
   "metadata": {},
   "source": [
    "### Lasso"
   ]
  },
  {
   "cell_type": "code",
   "execution_count": 61,
   "metadata": {},
   "outputs": [],
   "source": [
    "# Initialize Lasso default model\n",
    "model_las = Lasso()\n",
    "\n",
    "# Create param grid\n",
    "param_grid = {'alpha': [0.001, 0.01, 0.1, 1, 10, 100, 1000]}\n",
    "\n",
    "# Conduct grid search\n",
    "grid_search = GridSearchCV(estimator = model_las, param_grid = param_grid, scoring = 'neg_mean_absolute_error', cv = 3, n_jobs = -1, verbose = 2)"
   ]
  },
  {
   "cell_type": "code",
   "execution_count": 62,
   "metadata": {},
   "outputs": [
    {
     "name": "stdout",
     "output_type": "stream",
     "text": [
      "Fitting 3 folds for each of 7 candidates, totalling 21 fits\n"
     ]
    },
    {
     "data": {
      "text/plain": [
       "GridSearchCV(cv=3, estimator=Lasso(), n_jobs=-1,\n",
       "             param_grid={'alpha': [0.001, 0.01, 0.1, 1, 10, 100, 1000]},\n",
       "             scoring='neg_mean_absolute_error', verbose=2)"
      ]
     },
     "execution_count": 62,
     "metadata": {},
     "output_type": "execute_result"
    }
   ],
   "source": [
    "# Fit the grid search to the data\n",
    "grid_search.fit(X_train, y_train)"
   ]
  },
  {
   "cell_type": "code",
   "execution_count": 63,
   "metadata": {},
   "outputs": [
    {
     "data": {
      "text/plain": [
       "{'alpha': 10}"
      ]
     },
     "execution_count": 63,
     "metadata": {},
     "output_type": "execute_result"
    }
   ],
   "source": [
    "grid_search.best_params_"
   ]
  },
  {
   "cell_type": "code",
   "execution_count": 64,
   "metadata": {},
   "outputs": [],
   "source": [
    "# Predict\n",
    "bestModel = grid_search.best_estimator_\n",
    "y_pred = bestModel.predict(X_test)"
   ]
  },
  {
   "cell_type": "code",
   "execution_count": 65,
   "metadata": {},
   "outputs": [
    {
     "data": {
      "text/html": [
       "<div>\n",
       "<style scoped>\n",
       "    .dataframe tbody tr th:only-of-type {\n",
       "        vertical-align: middle;\n",
       "    }\n",
       "\n",
       "    .dataframe tbody tr th {\n",
       "        vertical-align: top;\n",
       "    }\n",
       "\n",
       "    .dataframe thead th {\n",
       "        text-align: right;\n",
       "    }\n",
       "</style>\n",
       "<table border=\"1\" class=\"dataframe\">\n",
       "  <thead>\n",
       "    <tr style=\"text-align: right;\">\n",
       "      <th></th>\n",
       "      <th>Actual</th>\n",
       "      <th>Predicted</th>\n",
       "    </tr>\n",
       "  </thead>\n",
       "  <tbody>\n",
       "    <tr>\n",
       "      <th>1896425</th>\n",
       "      <td>0.0</td>\n",
       "      <td>-68.785350</td>\n",
       "    </tr>\n",
       "    <tr>\n",
       "      <th>1775561</th>\n",
       "      <td>0.0</td>\n",
       "      <td>-19.419140</td>\n",
       "    </tr>\n",
       "    <tr>\n",
       "      <th>1201741</th>\n",
       "      <td>0.0</td>\n",
       "      <td>-517.847909</td>\n",
       "    </tr>\n",
       "    <tr>\n",
       "      <th>1333585</th>\n",
       "      <td>0.0</td>\n",
       "      <td>50.130560</td>\n",
       "    </tr>\n",
       "    <tr>\n",
       "      <th>393160</th>\n",
       "      <td>0.0</td>\n",
       "      <td>-119.233516</td>\n",
       "    </tr>\n",
       "    <tr>\n",
       "      <th>...</th>\n",
       "      <td>...</td>\n",
       "      <td>...</td>\n",
       "    </tr>\n",
       "    <tr>\n",
       "      <th>1829549</th>\n",
       "      <td>920.0</td>\n",
       "      <td>1363.503128</td>\n",
       "    </tr>\n",
       "    <tr>\n",
       "      <th>2548030</th>\n",
       "      <td>0.0</td>\n",
       "      <td>50.130560</td>\n",
       "    </tr>\n",
       "    <tr>\n",
       "      <th>2357859</th>\n",
       "      <td>0.0</td>\n",
       "      <td>-2.276878</td>\n",
       "    </tr>\n",
       "    <tr>\n",
       "      <th>1926370</th>\n",
       "      <td>0.0</td>\n",
       "      <td>-68.785350</td>\n",
       "    </tr>\n",
       "    <tr>\n",
       "      <th>2340648</th>\n",
       "      <td>0.0</td>\n",
       "      <td>87.155218</td>\n",
       "    </tr>\n",
       "  </tbody>\n",
       "</table>\n",
       "<p>707791 rows × 2 columns</p>\n",
       "</div>"
      ],
      "text/plain": [
       "         Actual    Predicted\n",
       "1896425     0.0   -68.785350\n",
       "1775561     0.0   -19.419140\n",
       "1201741     0.0  -517.847909\n",
       "1333585     0.0    50.130560\n",
       "393160      0.0  -119.233516\n",
       "...         ...          ...\n",
       "1829549   920.0  1363.503128\n",
       "2548030     0.0    50.130560\n",
       "2357859     0.0    -2.276878\n",
       "1926370     0.0   -68.785350\n",
       "2340648     0.0    87.155218\n",
       "\n",
       "[707791 rows x 2 columns]"
      ]
     },
     "execution_count": 65,
     "metadata": {},
     "output_type": "execute_result"
    }
   ],
   "source": [
    "# Look at actual versus predicted\n",
    "predDf = pd.DataFrame({'Actual': y_test, 'Predicted': y_pred})\n",
    "predDf"
   ]
  },
  {
   "cell_type": "code",
   "execution_count": 66,
   "metadata": {},
   "outputs": [
    {
     "name": "stdout",
     "output_type": "stream",
     "text": [
      "Mean Absolute Error: 371.7921038419338\n",
      "Mean Squared Error: 1999466.9495712966\n",
      "Root Mean Squared Error: 1414.0250880275416\n",
      "Mean Absolute Percentage Error: 4.2389385963486176e+17\n"
     ]
    }
   ],
   "source": [
    "print('Mean Absolute Error:', metrics.mean_absolute_error(y_test, y_pred))\n",
    "print('Mean Squared Error:', metrics.mean_squared_error(y_test, y_pred))\n",
    "print('Root Mean Squared Error:', np.sqrt(metrics.mean_squared_error(y_test, y_pred)))\n",
    "print('Mean Absolute Percentage Error:', metrics.mean_absolute_percentage_error(y_test, y_pred))"
   ]
  },
  {
   "cell_type": "code",
   "execution_count": 67,
   "metadata": {},
   "outputs": [
    {
     "name": "stdout",
     "output_type": "stream",
     "text": [
      "repairAssistanceEligible: 5658.929048270398\n",
      "rentalAssistanceEligible: 1301.031015974845\n",
      "floodInsurance: -569.5535856604749\n",
      "sbaEligible: 118.31689429409064\n",
      "inspected: -66.5084722695119\n",
      "ownRent_Owner: -62.789718550440405\n",
      "residenceType_Mobile Home: -58.109420778417885\n",
      "tsaEligible: 52.40743794413293\n",
      "homeOwnersInsurance: 39.68172985914522\n",
      "roofDamage: -29.552147063469487\n",
      "waterLevel: 17.62550113436901\n",
      "householdComposition: 12.341552548717967\n",
      "rpfvl: 0.2928848797084562\n",
      "specialNeeds: 0.0\n",
      "habitabilityRepairsRequired: -0.0\n",
      "destroyed: 0.0\n",
      "floodDamage: 0.0\n",
      "foundationDamage: -0.0\n",
      "replacementAssistanceEligible: 0.0\n",
      "primaryResidence: -0.0\n",
      "ownRent_Renter: 0.0\n",
      "ownRent_Unknown: 0.0\n",
      "residenceType_Apartment: 0.0\n",
      "residenceType_Assisted Living Facility: -0.0\n",
      "residenceType_Boat: -0.0\n",
      "residenceType_College Dorm: 0.0\n",
      "residenceType_Condo: 0.0\n",
      "residenceType_Correctional Facility: -0.0\n",
      "residenceType_House/Duplex: 0.0\n",
      "residenceType_Military Housing: 0.0\n",
      "residenceType_Other: 0.0\n",
      "residenceType_Townhouse: 0.0\n",
      "residenceType_Travel Trailer: -0.0\n",
      "residenceType_Unknown: 0.0\n"
     ]
    }
   ],
   "source": [
    "# Get feature importance\n",
    "impt = zip(X_train.columns, bestModel.coef_)\n",
    "sort_impt = sorted(impt, key = lambda x: abs(x[1]), reverse=True)\n",
    "for x, y in sort_impt:\n",
    "    print(f'{x}: {y}')"
   ]
  },
  {
   "cell_type": "code",
   "execution_count": null,
   "metadata": {},
   "outputs": [],
   "source": []
  }
 ],
 "metadata": {
  "kernelspec": {
   "display_name": "Python 3",
   "language": "python",
   "name": "python3"
  },
  "language_info": {
   "codemirror_mode": {
    "name": "ipython",
    "version": 3
   },
   "file_extension": ".py",
   "mimetype": "text/x-python",
   "name": "python",
   "nbconvert_exporter": "python",
   "pygments_lexer": "ipython3",
   "version": "3.7.4"
  }
 },
 "nbformat": 4,
 "nbformat_minor": 2
}
