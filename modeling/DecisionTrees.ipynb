{
 "cells": [
  {
   "cell_type": "code",
   "execution_count": 1,
   "metadata": {},
   "outputs": [],
   "source": [
    "# Importing libraries and packages\n",
    "import geopandas as gpd\n",
    "import pandas as pd\n",
    "import numpy as np\n",
    "import json\n",
    "\n",
    "# Visualization\n",
    "import matplotlib.pyplot as plt\n",
    "\n",
    "# Modeling\n",
    "# Installing xgboost: conda install -c conda-forge xgboost\n",
    "from xgboost import XGBRegressor\n",
    "from sklearn.ensemble import RandomForestRegressor\n",
    "\n",
    "from sklearn.model_selection import train_test_split\n",
    "from sklearn.model_selection import GridSearchCV\n",
    "\n",
    "# Metrics\n",
    "from sklearn import metrics\n",
    "\n",
    "# Feature importance visulization\n",
    "import shap\n",
    "from xgboost import plot_importance\n",
    "\n",
    "# Save models\n",
    "import pickle"
   ]
  },
  {
   "cell_type": "markdown",
   "metadata": {},
   "source": [
    "### Load the TX/FL datasets and merge them"
   ]
  },
  {
   "cell_type": "code",
   "execution_count": 2,
   "metadata": {},
   "outputs": [],
   "source": [
    "with open('../data/open-fema/FEMA-Large-DR-4332-TX.json','r') as f:\n",
    "    femaData = json.loads(f.read())\n",
    "femaDf_4332 = pd.json_normalize(femaData['fema_open_api'])\n",
    "with open('../data/open-fema/FEMA-Large-DR-4337-FL.json','r') as f:\n",
    "    femaData = json.loads(f.read())\n",
    "femaDf_4337 = pd.json_normalize(femaData['fema_open_api'])\n",
    "femaData = None"
   ]
  },
  {
   "cell_type": "code",
   "execution_count": 3,
   "metadata": {},
   "outputs": [
    {
     "name": "stdout",
     "output_type": "stream",
     "text": [
      "There are 3538955 records combined.\n"
     ]
    }
   ],
   "source": [
    "femaDf = pd.concat([femaDf_4332, femaDf_4337])\n",
    "print('There are {} records combined.'.format(len(femaDf)))"
   ]
  },
  {
   "cell_type": "code",
   "execution_count": 4,
   "metadata": {},
   "outputs": [
    {
     "data": {
      "text/plain": [
       "Index(['disasterNumber', 'damagedCity', 'damagedStateAbbreviation',\n",
       "       'damagedZipCode', 'householdComposition', 'grossIncome', 'specialNeeds',\n",
       "       'ownRent', 'residenceType', 'homeOwnersInsurance', 'floodInsurance',\n",
       "       'inspected', 'rpfvl', 'habitabilityRepairsRequired', 'destroyed',\n",
       "       'waterLevel', 'floodDamage', 'foundationDamage',\n",
       "       'foundationDamageAmount', 'roofDamage', 'roofDamageAmount',\n",
       "       'tsaEligible', 'tsaCheckedIn', 'rentalAssistanceEligible',\n",
       "       'rentalAssistanceAmount', 'repairAssistanceEligible', 'repairAmount',\n",
       "       'replacementAssistanceEligible', 'replacementAmount', 'sbaEligible',\n",
       "       'renterDamageLevel', 'rentalAssistanceEndDate', 'rentalResourceCity',\n",
       "       'rentalResourceStateAbbreviation', 'rentalResourceZipCode',\n",
       "       'primaryResidence', 'personalPropertyEligible', 'ppfvl',\n",
       "       'censusBlockId', 'censusYear', 'id'],\n",
       "      dtype='object')"
      ]
     },
     "execution_count": 4,
     "metadata": {},
     "output_type": "execute_result"
    }
   ],
   "source": [
    "femaDf.columns"
   ]
  },
  {
   "cell_type": "markdown",
   "metadata": {},
   "source": [
    "### Select a subset of columns\n",
    "\n",
    "https://docs.google.com/document/d/1nu0yENGAWnoiMcTufxYnH7xwdh8NfFum9ni9IYiSIdk/edit#"
   ]
  },
  {
   "cell_type": "code",
   "execution_count": 5,
   "metadata": {},
   "outputs": [],
   "source": [
    "cols = ['householdComposition', 'specialNeeds', 'ownRent', 'residenceType', 'homeOwnersInsurance', 'floodInsurance', \n",
    "        'inspected', 'rpfvl', 'habitabilityRepairsRequired', 'destroyed', 'waterLevel', 'floodDamage', \n",
    "        'foundationDamage', 'roofDamage', 'tsaEligible', 'rentalAssistanceEligible', 'rentalAssistanceAmount', \n",
    "        'repairAssistanceEligible', 'repairAmount', 'replacementAssistanceEligible', 'replacementAmount', 'sbaEligible', \n",
    "        'primaryResidence']\n",
    "femaDf = femaDf.loc[:, cols]"
   ]
  },
  {
   "cell_type": "markdown",
   "metadata": {},
   "source": [
    "### Feature Engineering\n",
    "TODO: Move this out of modeling"
   ]
  },
  {
   "cell_type": "code",
   "execution_count": 6,
   "metadata": {},
   "outputs": [],
   "source": [
    "# Convert dtype from object to boolean\n",
    "femaDf['habitabilityRepairsRequired'] = femaDf['habitabilityRepairsRequired'].astype('bool')\n",
    "femaDf['primaryResidence'] = femaDf['primaryResidence'].astype('bool')"
   ]
  },
  {
   "cell_type": "code",
   "execution_count": 7,
   "metadata": {},
   "outputs": [],
   "source": [
    "# Convert boolean columns to int\n",
    "bool_cols = ['specialNeeds', 'homeOwnersInsurance', 'floodInsurance', 'inspected', 'destroyed', \n",
    "             'habitabilityRepairsRequired', 'floodDamage', 'foundationDamage', 'roofDamage', \n",
    "             'tsaEligible', 'rentalAssistanceEligible', 'repairAssistanceEligible', \n",
    "             'replacementAssistanceEligible', 'sbaEligible', 'primaryResidence']\n",
    "femaDf[bool_cols] = femaDf[bool_cols].astype(int)"
   ]
  },
  {
   "cell_type": "code",
   "execution_count": 8,
   "metadata": {},
   "outputs": [],
   "source": [
    "# One-hot encode the categorical variables\n",
    "cat_cols = ['ownRent', 'residenceType']\n",
    "for col in cat_cols:\n",
    "    femaDf = pd.concat([femaDf, pd.get_dummies(femaDf[col], prefix=col)], axis=1)\n",
    "femaDf.drop(cat_cols, axis=1, inplace=True)"
   ]
  },
  {
   "cell_type": "code",
   "execution_count": 9,
   "metadata": {},
   "outputs": [],
   "source": [
    "# Fill the na's with zero's in waterLevel\n",
    "femaDf['waterLevel'].fillna(0, inplace=True)"
   ]
  },
  {
   "cell_type": "code",
   "execution_count": 10,
   "metadata": {},
   "outputs": [],
   "source": [
    "# Define all the dollar amount columns\n",
    "amount_cols = ['rentalAssistanceAmount', 'replacementAmount','repairAmount', 'rpfvl']\n",
    "# Set them to zero if null\n",
    "femaDf[amount_cols] = femaDf[amount_cols].fillna(0)\n",
    "# Calculate the aggregated haAmount\n",
    "femaDf['haAmount'] = femaDf['rentalAssistanceAmount'] + femaDf['replacementAmount'] + femaDf['repairAmount']"
   ]
  },
  {
   "cell_type": "code",
   "execution_count": 11,
   "metadata": {},
   "outputs": [],
   "source": [
    "# Drop the individual amount columns\n",
    "femaDf.drop(['rentalAssistanceAmount', 'replacementAmount','repairAmount'], axis=1, inplace=True)"
   ]
  },
  {
   "cell_type": "code",
   "execution_count": 12,
   "metadata": {},
   "outputs": [
    {
     "data": {
      "text/plain": [
       "householdComposition                      1.0\n",
       "specialNeeds                              0.0\n",
       "homeOwnersInsurance                       0.0\n",
       "floodInsurance                            0.0\n",
       "inspected                                 1.0\n",
       "rpfvl                                     0.0\n",
       "habitabilityRepairsRequired               0.0\n",
       "destroyed                                 0.0\n",
       "waterLevel                                0.0\n",
       "floodDamage                               0.0\n",
       "foundationDamage                          0.0\n",
       "roofDamage                                0.0\n",
       "tsaEligible                               1.0\n",
       "rentalAssistanceEligible                  0.0\n",
       "repairAssistanceEligible                  0.0\n",
       "replacementAssistanceEligible             0.0\n",
       "sbaEligible                               0.0\n",
       "primaryResidence                          1.0\n",
       "ownRent_Owner                             0.0\n",
       "ownRent_Renter                            1.0\n",
       "ownRent_Unknown                           0.0\n",
       "residenceType_Apartment                   0.0\n",
       "residenceType_Assisted Living Facility    0.0\n",
       "residenceType_Boat                        0.0\n",
       "residenceType_College Dorm                0.0\n",
       "residenceType_Condo                       0.0\n",
       "residenceType_Correctional Facility       0.0\n",
       "residenceType_House/Duplex                1.0\n",
       "residenceType_Military Housing            0.0\n",
       "residenceType_Mobile Home                 0.0\n",
       "residenceType_Other                       0.0\n",
       "residenceType_Townhouse                   0.0\n",
       "residenceType_Travel Trailer              0.0\n",
       "residenceType_Unknown                     0.0\n",
       "haAmount                                  0.0\n",
       "Name: 0, dtype: float64"
      ]
     },
     "execution_count": 12,
     "metadata": {},
     "output_type": "execute_result"
    }
   ],
   "source": [
    "femaDf.iloc[0]"
   ]
  },
  {
   "cell_type": "markdown",
   "metadata": {},
   "source": [
    "### Train/Test Split"
   ]
  },
  {
   "cell_type": "code",
   "execution_count": 13,
   "metadata": {},
   "outputs": [
    {
     "name": "stdout",
     "output_type": "stream",
     "text": [
      "(2831164, 34) (2831164,)\n",
      "(707791, 34) (707791,)\n"
     ]
    }
   ],
   "source": [
    "# Split the data into train and test data\n",
    "X = femaDf.loc[:, femaDf.columns != 'haAmount']\n",
    "y = femaDf.loc[:, 'haAmount']\n",
    "X_train, X_test, y_train, y_test = train_test_split(X, y, test_size = 0.2, shuffle = True)\n",
    "\n",
    "print(X_train.shape, y_train.shape)\n",
    "print(X_test.shape, y_test.shape)"
   ]
  },
  {
   "cell_type": "markdown",
   "metadata": {},
   "source": [
    "### RandomForest\n",
    "\n",
    "https://machinelearningmastery.com/random-forest-ensemble-in-python/\n",
    "\n",
    "- The “max_samples” argument can be set to a float between 0 and 1 to control the percentage of the size of the training dataset to make the bootstrap sample used to train each decision tree.\n",
    "- max_features argument and defaults to the square root of the number of input features. \n",
    "- The number of trees can be set via the “n_estimators” argument and defaults to 100.\n",
    "- The maximum tree depth can be specified via the max_depth argument and is set to None (no maximum depth) by default."
   ]
  },
  {
   "cell_type": "code",
   "execution_count": 44,
   "metadata": {},
   "outputs": [],
   "source": [
    "# RandomForest default model\n",
    "model_rf = RandomForestRegressor(random_state = 42)"
   ]
  },
  {
   "cell_type": "markdown",
   "metadata": {},
   "source": [
    "#### GridSearch"
   ]
  },
  {
   "cell_type": "code",
   "execution_count": 47,
   "metadata": {},
   "outputs": [],
   "source": [
    "# Create the parameter grid\n",
    "param_grid_rf = {\n",
    "    'bootstrap': [True],\n",
    "    'max_samples': [0.8, 0.9, 1.0],\n",
    "    'max_depth': [6, 8],\n",
    "    'n_estimators': [50, 75, 100]\n",
    "}"
   ]
  },
  {
   "cell_type": "code",
   "execution_count": 48,
   "metadata": {},
   "outputs": [],
   "source": [
    "# Instantiate the grid search model\n",
    "grid_search_rf = GridSearchCV(estimator = model_rf, param_grid = param_grid_rf, scoring='neg_mean_absolute_error', cv = 3, n_jobs = -1, verbose = 2)"
   ]
  },
  {
   "cell_type": "code",
   "execution_count": 49,
   "metadata": {},
   "outputs": [
    {
     "name": "stdout",
     "output_type": "stream",
     "text": [
      "Fitting 3 folds for each of 18 candidates, totalling 54 fits\n"
     ]
    },
    {
     "name": "stderr",
     "output_type": "stream",
     "text": [
      "One or more of the test scores are non-finite: [-88.72902265 -88.72745398 -88.81836287 -88.8871096  -88.86304247\n",
      " -88.90870066          nan          nan          nan -77.7995335\n",
      " -77.7969148  -77.83734534 -77.86331979 -77.85576354 -77.87194616\n",
      "          nan          nan          nan]\n"
     ]
    },
    {
     "data": {
      "text/plain": [
       "GridSearchCV(cv=3, estimator=RandomForestRegressor(random_state=42), n_jobs=-1,\n",
       "             param_grid={'bootstrap': [True], 'max_depth': [6, 8],\n",
       "                         'max_samples': [0.8, 0.9, 1.0],\n",
       "                         'n_estimators': [50, 75, 100]},\n",
       "             scoring='neg_mean_absolute_error', verbose=2)"
      ]
     },
     "execution_count": 49,
     "metadata": {},
     "output_type": "execute_result"
    }
   ],
   "source": [
    "# Fit the grid search to the data\n",
    "grid_search_rf.fit(X_train, y_train)"
   ]
  },
  {
   "cell_type": "code",
   "execution_count": 50,
   "metadata": {},
   "outputs": [
    {
     "data": {
      "text/plain": [
       "{'bootstrap': True, 'max_depth': 8, 'max_samples': 0.8, 'n_estimators': 75}"
      ]
     },
     "execution_count": 50,
     "metadata": {},
     "output_type": "execute_result"
    }
   ],
   "source": [
    "grid_search_rf.best_params_"
   ]
  },
  {
   "cell_type": "code",
   "execution_count": 51,
   "metadata": {},
   "outputs": [],
   "source": [
    "# Predict using best model\n",
    "model_rf_best = grid_search_rf.best_estimator_\n",
    "y_pred = model_rf_best.predict(X_test)"
   ]
  },
  {
   "cell_type": "code",
   "execution_count": 52,
   "metadata": {},
   "outputs": [
    {
     "data": {
      "text/html": [
       "<div>\n",
       "<style scoped>\n",
       "    .dataframe tbody tr th:only-of-type {\n",
       "        vertical-align: middle;\n",
       "    }\n",
       "\n",
       "    .dataframe tbody tr th {\n",
       "        vertical-align: top;\n",
       "    }\n",
       "\n",
       "    .dataframe thead th {\n",
       "        text-align: right;\n",
       "    }\n",
       "</style>\n",
       "<table border=\"1\" class=\"dataframe\">\n",
       "  <thead>\n",
       "    <tr style=\"text-align: right;\">\n",
       "      <th></th>\n",
       "      <th>Actual</th>\n",
       "      <th>Predicted</th>\n",
       "    </tr>\n",
       "  </thead>\n",
       "  <tbody>\n",
       "    <tr>\n",
       "      <th>207189</th>\n",
       "      <td>0.0</td>\n",
       "      <td>0.0</td>\n",
       "    </tr>\n",
       "    <tr>\n",
       "      <th>672724</th>\n",
       "      <td>0.0</td>\n",
       "      <td>0.0</td>\n",
       "    </tr>\n",
       "    <tr>\n",
       "      <th>45822</th>\n",
       "      <td>0.0</td>\n",
       "      <td>0.0</td>\n",
       "    </tr>\n",
       "    <tr>\n",
       "      <th>800366</th>\n",
       "      <td>0.0</td>\n",
       "      <td>0.0</td>\n",
       "    </tr>\n",
       "    <tr>\n",
       "      <th>1853579</th>\n",
       "      <td>0.0</td>\n",
       "      <td>0.0</td>\n",
       "    </tr>\n",
       "    <tr>\n",
       "      <th>...</th>\n",
       "      <td>...</td>\n",
       "      <td>...</td>\n",
       "    </tr>\n",
       "    <tr>\n",
       "      <th>1332741</th>\n",
       "      <td>0.0</td>\n",
       "      <td>0.0</td>\n",
       "    </tr>\n",
       "    <tr>\n",
       "      <th>1388694</th>\n",
       "      <td>0.0</td>\n",
       "      <td>0.0</td>\n",
       "    </tr>\n",
       "    <tr>\n",
       "      <th>280917</th>\n",
       "      <td>0.0</td>\n",
       "      <td>0.0</td>\n",
       "    </tr>\n",
       "    <tr>\n",
       "      <th>2018796</th>\n",
       "      <td>0.0</td>\n",
       "      <td>0.0</td>\n",
       "    </tr>\n",
       "    <tr>\n",
       "      <th>604685</th>\n",
       "      <td>0.0</td>\n",
       "      <td>0.0</td>\n",
       "    </tr>\n",
       "  </tbody>\n",
       "</table>\n",
       "<p>707791 rows × 2 columns</p>\n",
       "</div>"
      ],
      "text/plain": [
       "         Actual  Predicted\n",
       "207189      0.0        0.0\n",
       "672724      0.0        0.0\n",
       "45822       0.0        0.0\n",
       "800366      0.0        0.0\n",
       "1853579     0.0        0.0\n",
       "...         ...        ...\n",
       "1332741     0.0        0.0\n",
       "1388694     0.0        0.0\n",
       "280917      0.0        0.0\n",
       "2018796     0.0        0.0\n",
       "604685      0.0        0.0\n",
       "\n",
       "[707791 rows x 2 columns]"
      ]
     },
     "execution_count": 52,
     "metadata": {},
     "output_type": "execute_result"
    }
   ],
   "source": [
    "# Look at actual verus predicted\n",
    "df = pd.DataFrame({'Actual':y_test, 'Predicted':y_pred})\n",
    "df"
   ]
  },
  {
   "cell_type": "code",
   "execution_count": 53,
   "metadata": {},
   "outputs": [
    {
     "name": "stdout",
     "output_type": "stream",
     "text": [
      "Mean Absolute Error: 77.37468460733453\n",
      "Mean Squared Error: 306766.5852954174\n",
      "Root Mean Squared Error: 553.8651327673709\n"
     ]
    }
   ],
   "source": [
    "print('Mean Absolute Error:', metrics.mean_absolute_error(y_test, y_pred))\n",
    "print('Mean Squared Error:', metrics.mean_squared_error(y_test, y_pred))\n",
    "print('Root Mean Squared Error:', np.sqrt(metrics.mean_squared_error(y_test, y_pred)))"
   ]
  },
  {
   "cell_type": "code",
   "execution_count": 55,
   "metadata": {},
   "outputs": [
    {
     "data": {
      "text/plain": [
       "4.48847187941073"
      ]
     },
     "execution_count": 55,
     "metadata": {},
     "output_type": "execute_result"
    }
   ],
   "source": [
    "results_df = pd.DataFrame({'actual':y_test, 'predicted':y_pred})\n",
    "\n",
    "# Add column with difference of the two values\n",
    "results_df['diff'] = results_df['predicted'] - results_df['actual']\n",
    "\n",
    "# Add column that shows the percent difference between predicted and actual value\n",
    "results_df['percent_diff'] = (abs(abs(results_df['predicted'] / (results_df['actual'])) - 1) * 100).where(results_df['actual'] > 0, 0)\n",
    "\n",
    "# What percentage of predictions are off by 20%\n",
    "len(results_df[results_df['percent_diff'] > 20])/len(results_df) * 100"
   ]
  },
  {
   "cell_type": "code",
   "execution_count": 54,
   "metadata": {},
   "outputs": [
    {
     "name": "stdout",
     "output_type": "stream",
     "text": [
      "rpfvl 0.6396608173843942\n",
      "repairAssistanceEligible 0.24601191623910196\n",
      "rentalAssistanceEligible 0.05114357520452114\n",
      "floodInsurance 0.030248138871940118\n",
      "replacementAssistanceEligible 0.02365075457041492\n",
      "habitabilityRepairsRequired 0.004289567130978741\n",
      "residenceType_Travel Trailer 0.0013555248015706368\n",
      "householdComposition 0.001051652551735724\n",
      "waterLevel 0.00079879539841049\n",
      "homeOwnersInsurance 0.0007159103128788752\n",
      "residenceType_Mobile Home 0.00023685461456354306\n",
      "sbaEligible 0.0002050586170305694\n",
      "floodDamage 0.00017361706954943263\n",
      "tsaEligible 9.310487675178284e-05\n",
      "residenceType_House/Duplex 8.818061672492429e-05\n",
      "inspected 7.236590908107954e-05\n",
      "destroyed 6.327465828714257e-05\n",
      "roofDamage 3.2908114136998935e-05\n",
      "specialNeeds 2.9344911129552843e-05\n",
      "residenceType_Boat 2.237159128144187e-05\n",
      "foundationDamage 1.968945908183118e-05\n",
      "residenceType_Townhouse 1.7302413817438546e-05\n",
      "residenceType_Condo 7.012674295372815e-06\n",
      "ownRent_Owner 6.452954513381527e-06\n",
      "ownRent_Renter 2.385935242244264e-06\n",
      "primaryResidence 1.7635495156889e-06\n",
      "residenceType_Apartment 1.2387069620431709e-06\n",
      "ownRent_Unknown 2.9445991535492524e-07\n",
      "residenceType_Other 1.264021734472281e-07\n",
      "residenceType_Unknown 0.0\n",
      "residenceType_Military Housing 0.0\n",
      "residenceType_Correctional Facility 0.0\n",
      "residenceType_College Dorm 0.0\n",
      "residenceType_Assisted Living Facility 0.0\n"
     ]
    }
   ],
   "source": [
    "for score, name in sorted(zip(model_rf_best.feature_importances_, femaDf.columns), reverse=True):\n",
    "    print(name, score)"
   ]
  },
  {
   "cell_type": "code",
   "execution_count": 58,
   "metadata": {},
   "outputs": [],
   "source": [
    "# Save the model\n",
    "pickle.dump(model_rf_best, open('random_forest.sav', 'wb'))"
   ]
  },
  {
   "cell_type": "code",
   "execution_count": 36,
   "metadata": {},
   "outputs": [
    {
     "name": "stdout",
     "output_type": "stream",
     "text": [
      "Total HA Amount predicted: $388,187,890.71\n",
      "Total HA Amount actual: $388,951,791.34\n"
     ]
    }
   ],
   "source": [
    "# Load saved model\n",
    "model_rf_sav = pickle.load(open('random_forest.sav', 'rb'))\n",
    "y_pred_sav = model_rf_sav.predict(X_test)\n",
    "print('Total HA Amount predicted: ${:,.2f}'.format(y_pred_sav.sum()))\n",
    "print('Total HA Amount actual: ${:,.2f}'.format(y_test.sum()))"
   ]
  },
  {
   "cell_type": "markdown",
   "metadata": {},
   "source": [
    "#### Variable Importance using Shapley (works best with smaller depth trees)\n",
    "\n",
    "https://towardsdatascience.com/explain-your-model-with-the-shap-values-bc36aac4de3d"
   ]
  },
  {
   "cell_type": "code",
   "execution_count": 19,
   "metadata": {},
   "outputs": [
    {
     "data": {
      "text/plain": [
       "RandomForestRegressor(max_depth=8, max_samples=0.8, random_state=42)"
      ]
     },
     "execution_count": 19,
     "metadata": {},
     "output_type": "execute_result"
    }
   ],
   "source": [
    "shap_model_rf = RandomForestRegressor(max_depth = 8, max_samples = 0.8, n_estimators = 100, random_state = 42)\n",
    "shap_model_rf.fit(X_train, y_train)"
   ]
  },
  {
   "cell_type": "code",
   "execution_count": null,
   "metadata": {},
   "outputs": [],
   "source": [
    "shap_values = shap.TreeExplainer(shap_model_rf).shap_values(X_train)\n",
    "shap.summary_plot(shap_values, X_train, plot_type=\"bar\")"
   ]
  },
  {
   "cell_type": "code",
   "execution_count": null,
   "metadata": {},
   "outputs": [],
   "source": [
    "shap.summary_plot(shap_values, X_train)"
   ]
  },
  {
   "cell_type": "markdown",
   "metadata": {},
   "source": [
    "### XGBoost \n",
    "https://machinelearningmastery.com/extreme-gradient-boosting-ensemble-in-python/\n",
    "\n",
    "Hyperparameters:\n",
    "- The number of trees can be set via the “n_estimators” argument and defaults to 100.\n",
    "- Tree depth is controlled via the “max_depth” argument and defaults to 6.\n",
    "- The learning rate can be controlled via the “eta” argument and defaults to 0.3.\n",
    "- The number of samples used to fit each tree is specified by the “subsample” argument and can be set to a fraction of the training dataset size. By default, it is set to 1.0 to use the entire training dataset.\n",
    "- The number of features used by each tree is taken as a random sample and is specified by the “colsample_bytree” argument and defaults to all features in the training dataset, e.g. 100 percent or a value of 1.0. "
   ]
  },
  {
   "cell_type": "code",
   "execution_count": 14,
   "metadata": {},
   "outputs": [],
   "source": [
    "# XGBRegressor default model\n",
    "model_xgb = XGBRegressor(random_state = 42)"
   ]
  },
  {
   "cell_type": "markdown",
   "metadata": {},
   "source": [
    "#### GridSearch"
   ]
  },
  {
   "cell_type": "code",
   "execution_count": 15,
   "metadata": {},
   "outputs": [],
   "source": [
    "# Create the parameter grid\n",
    "param_grid_xgb = {\n",
    "        'learning_rate': [0.01, 0.05, 0.1],\n",
    "        'max_depth': [6, 8, 10],\n",
    "        'subsample': [0.8, 0.9],\n",
    "        'n_estimators' : [50, 75, 100],\n",
    "        'objective': ['reg:squarederror']\n",
    "    }"
   ]
  },
  {
   "cell_type": "code",
   "execution_count": 16,
   "metadata": {},
   "outputs": [],
   "source": [
    "# Instantiate the grid search model\n",
    "grid_search_xgb = GridSearchCV(estimator = model_xgb, param_grid = param_grid_xgb, scoring='neg_mean_absolute_error', cv = 3, n_jobs = -1, verbose = 2)"
   ]
  },
  {
   "cell_type": "code",
   "execution_count": 17,
   "metadata": {},
   "outputs": [
    {
     "name": "stdout",
     "output_type": "stream",
     "text": [
      "Fitting 3 folds for each of 54 candidates, totalling 162 fits\n"
     ]
    },
    {
     "data": {
      "text/plain": [
       "GridSearchCV(cv=3,\n",
       "             estimator=XGBRegressor(base_score=None, booster=None,\n",
       "                                    colsample_bylevel=None,\n",
       "                                    colsample_bynode=None,\n",
       "                                    colsample_bytree=None, gamma=None,\n",
       "                                    gpu_id=None, importance_type='gain',\n",
       "                                    interaction_constraints=None,\n",
       "                                    learning_rate=None, max_delta_step=None,\n",
       "                                    max_depth=None, min_child_weight=None,\n",
       "                                    missing=nan, monotone_constraints=None,\n",
       "                                    n_estimators=100, n_jobs=...\n",
       "                                    num_parallel_tree=None, random_state=42,\n",
       "                                    reg_alpha=None, reg_lambda=None,\n",
       "                                    scale_pos_weight=None, subsample=None,\n",
       "                                    tree_method=None, validate_parameters=None,\n",
       "                                    verbosity=None),\n",
       "             n_jobs=-1,\n",
       "             param_grid={'learning_rate': [0.01, 0.05, 0.1],\n",
       "                         'max_depth': [6, 8, 10], 'n_estimators': [50, 75, 100],\n",
       "                         'objective': ['reg:squarederror'],\n",
       "                         'subsample': [0.8, 0.9]},\n",
       "             scoring='neg_mean_absolute_error', verbose=2)"
      ]
     },
     "execution_count": 17,
     "metadata": {},
     "output_type": "execute_result"
    }
   ],
   "source": [
    "grid_search_xgb.fit(X_train, y_train)"
   ]
  },
  {
   "cell_type": "code",
   "execution_count": 18,
   "metadata": {},
   "outputs": [
    {
     "data": {
      "text/plain": [
       "{'learning_rate': 0.05,\n",
       " 'max_depth': 10,\n",
       " 'n_estimators': 100,\n",
       " 'objective': 'reg:squarederror',\n",
       " 'subsample': 0.9}"
      ]
     },
     "execution_count": 18,
     "metadata": {},
     "output_type": "execute_result"
    }
   ],
   "source": [
    "grid_search_xgb.best_params_"
   ]
  },
  {
   "cell_type": "code",
   "execution_count": 19,
   "metadata": {},
   "outputs": [],
   "source": [
    "# Predict\n",
    "model_xgb_best = grid_search_xgb.best_estimator_\n",
    "y_pred = model_xgb_best.predict(X_test)"
   ]
  },
  {
   "cell_type": "code",
   "execution_count": 20,
   "metadata": {
    "scrolled": true
   },
   "outputs": [
    {
     "data": {
      "text/html": [
       "<div>\n",
       "<style scoped>\n",
       "    .dataframe tbody tr th:only-of-type {\n",
       "        vertical-align: middle;\n",
       "    }\n",
       "\n",
       "    .dataframe tbody tr th {\n",
       "        vertical-align: top;\n",
       "    }\n",
       "\n",
       "    .dataframe thead th {\n",
       "        text-align: right;\n",
       "    }\n",
       "</style>\n",
       "<table border=\"1\" class=\"dataframe\">\n",
       "  <thead>\n",
       "    <tr style=\"text-align: right;\">\n",
       "      <th></th>\n",
       "      <th>Actual</th>\n",
       "      <th>Predicted</th>\n",
       "    </tr>\n",
       "  </thead>\n",
       "  <tbody>\n",
       "    <tr>\n",
       "      <th>2112326</th>\n",
       "      <td>1307.0</td>\n",
       "      <td>1100.429321</td>\n",
       "    </tr>\n",
       "    <tr>\n",
       "      <th>263919</th>\n",
       "      <td>0.0</td>\n",
       "      <td>0.004627</td>\n",
       "    </tr>\n",
       "    <tr>\n",
       "      <th>878193</th>\n",
       "      <td>0.0</td>\n",
       "      <td>0.004627</td>\n",
       "    </tr>\n",
       "    <tr>\n",
       "      <th>1326350</th>\n",
       "      <td>0.0</td>\n",
       "      <td>0.004627</td>\n",
       "    </tr>\n",
       "    <tr>\n",
       "      <th>1363708</th>\n",
       "      <td>0.0</td>\n",
       "      <td>0.004627</td>\n",
       "    </tr>\n",
       "    <tr>\n",
       "      <th>...</th>\n",
       "      <td>...</td>\n",
       "      <td>...</td>\n",
       "    </tr>\n",
       "    <tr>\n",
       "      <th>1287471</th>\n",
       "      <td>0.0</td>\n",
       "      <td>0.004627</td>\n",
       "    </tr>\n",
       "    <tr>\n",
       "      <th>708829</th>\n",
       "      <td>0.0</td>\n",
       "      <td>0.004627</td>\n",
       "    </tr>\n",
       "    <tr>\n",
       "      <th>2072172</th>\n",
       "      <td>0.0</td>\n",
       "      <td>0.004627</td>\n",
       "    </tr>\n",
       "    <tr>\n",
       "      <th>1100879</th>\n",
       "      <td>0.0</td>\n",
       "      <td>0.004627</td>\n",
       "    </tr>\n",
       "    <tr>\n",
       "      <th>1759465</th>\n",
       "      <td>1002.0</td>\n",
       "      <td>1065.562744</td>\n",
       "    </tr>\n",
       "  </tbody>\n",
       "</table>\n",
       "<p>707791 rows × 2 columns</p>\n",
       "</div>"
      ],
      "text/plain": [
       "         Actual    Predicted\n",
       "2112326  1307.0  1100.429321\n",
       "263919      0.0     0.004627\n",
       "878193      0.0     0.004627\n",
       "1326350     0.0     0.004627\n",
       "1363708     0.0     0.004627\n",
       "...         ...          ...\n",
       "1287471     0.0     0.004627\n",
       "708829      0.0     0.004627\n",
       "2072172     0.0     0.004627\n",
       "1100879     0.0     0.004627\n",
       "1759465  1002.0  1065.562744\n",
       "\n",
       "[707791 rows x 2 columns]"
      ]
     },
     "execution_count": 20,
     "metadata": {},
     "output_type": "execute_result"
    }
   ],
   "source": [
    "# Look at actual verus predicted\n",
    "df = pd.DataFrame({'Actual':y_test, 'Predicted':y_pred})\n",
    "df"
   ]
  },
  {
   "cell_type": "code",
   "execution_count": 21,
   "metadata": {},
   "outputs": [
    {
     "name": "stdout",
     "output_type": "stream",
     "text": [
      "Mean Absolute Error: 71.99058198593825\n",
      "Mean Squared Error: 300116.4686836164\n",
      "Root Mean Squared Error: 547.8288680633912\n"
     ]
    }
   ],
   "source": [
    "print('Mean Absolute Error:', metrics.mean_absolute_error(y_test, y_pred))\n",
    "print('Mean Squared Error:', metrics.mean_squared_error(y_test, y_pred))\n",
    "print('Root Mean Squared Error:', np.sqrt(metrics.mean_squared_error(y_test, y_pred)))"
   ]
  },
  {
   "cell_type": "code",
   "execution_count": 30,
   "metadata": {},
   "outputs": [
    {
     "data": {
      "image/png": "[encoded data removed]",
      "text/plain": [
       "<Figure size 1440x1440 with 1 Axes>"
      ]
     },
     "metadata": {
      "needs_background": "light"
     },
     "output_type": "display_data"
    }
   ],
   "source": [
    "plot_importance(model_xgb_best, importance_type='gain', show_values = False)\n",
    "plt.rcParams['figure.figsize'] = [20, 20]\n",
    "plt.show()"
   ]
  },
  {
   "cell_type": "code",
   "execution_count": 27,
   "metadata": {},
   "outputs": [
    {
     "name": "stdout",
     "output_type": "stream",
     "text": [
      "repairAssistanceEligible 0.77324325\n",
      "replacementAssistanceEligible 0.070041284\n",
      "rentalAssistanceEligible 0.06660522\n",
      "rpfvl 0.05328465\n",
      "floodInsurance 0.01991631\n",
      "habitabilityRepairsRequired 0.006828687\n",
      "residenceType_Travel Trailer 0.0022092946\n",
      "homeOwnersInsurance 0.0011461547\n",
      "floodDamage 0.00066782953\n",
      "destroyed 0.00063731923\n",
      "inspected 0.0005962014\n",
      "residenceType_Mobile Home 0.0005508817\n",
      "waterLevel 0.0004832015\n",
      "residenceType_House/Duplex 0.00044225468\n",
      "householdComposition 0.00043547462\n",
      "sbaEligible 0.0004315173\n",
      "roofDamage 0.00039468842\n",
      "residenceType_Boat 0.00036679985\n",
      "specialNeeds 0.00029144992\n",
      "tsaEligible 0.00025229243\n",
      "foundationDamage 0.00024763538\n",
      "residenceType_Townhouse 0.00021058525\n",
      "residenceType_Condo 0.00018491782\n",
      "primaryResidence 0.00010446441\n",
      "ownRent_Owner 0.00010125961\n",
      "residenceType_Apartment 0.00010080211\n",
      "ownRent_Renter 6.579925e-05\n",
      "residenceType_Other 5.2975403e-05\n",
      "ownRent_Unknown 4.970217e-05\n",
      "residenceType_College Dorm 2.2300963e-05\n",
      "residenceType_Military Housing 2.0359736e-05\n",
      "residenceType_Assisted Living Facility 1.45137865e-05\n",
      "residenceType_Unknown 0.0\n",
      "residenceType_Correctional Facility 0.0\n"
     ]
    }
   ],
   "source": [
    "for score, name in sorted(zip(model_xgb_best.feature_importances_, femaDf.columns), reverse=True):\n",
    "    print(name, score)"
   ]
  },
  {
   "cell_type": "code",
   "execution_count": 28,
   "metadata": {},
   "outputs": [
    {
     "data": {
      "text/plain": [
       "4.314409197065236"
      ]
     },
     "execution_count": 28,
     "metadata": {},
     "output_type": "execute_result"
    }
   ],
   "source": [
    "results_df = pd.DataFrame({'actual':y_test, 'predicted':y_pred})\n",
    "\n",
    "# Add column with difference of the two values\n",
    "results_df['diff'] = results_df['predicted'] - results_df['actual']\n",
    "\n",
    "# Add column that shows the percent difference between predicted and actual value\n",
    "results_df['percent_diff'] = (abs(abs(results_df['predicted'] / (results_df['actual'])) - 1) * 100).where(results_df['actual'] > 0, 0)\n",
    "\n",
    "# What percentage of predictions are off by 20%\n",
    "len(results_df[results_df['percent_diff'] > 20])/len(results_df) * 100"
   ]
  },
  {
   "cell_type": "code",
   "execution_count": 31,
   "metadata": {},
   "outputs": [],
   "source": [
    "# Save the model\n",
    "pickle.dump(model_xgb_best, open('xgb_boost.sav', 'wb'))"
   ]
  },
  {
   "cell_type": "code",
   "execution_count": 35,
   "metadata": {},
   "outputs": [
    {
     "name": "stdout",
     "output_type": "stream",
     "text": [
      "Total HA Amount predicted: $386,081,152.00\n",
      "Total HA Amount actual: $388,951,791.34\n"
     ]
    }
   ],
   "source": [
    "# Load saved model\n",
    "model_xgb_sav = pickle.load(open('xgb_boost.sav', 'rb'))\n",
    "y_pred_sav = model_xgb_sav.predict(X_test)\n",
    "print('Total HA Amount predicted: ${:,.2f}'.format(y_pred_sav.sum()))\n",
    "print('Total HA Amount actual: ${:,.2f}'.format(y_test.sum()))"
   ]
  },
  {
   "cell_type": "markdown",
   "metadata": {},
   "source": [
    "#### Variable Importance using Shapley (works best with smaller depth trees)\n",
    "\n",
    "https://towardsdatascience.com/explain-your-model-with-the-shap-values-bc36aac4de3d"
   ]
  },
  {
   "cell_type": "code",
   "execution_count": null,
   "metadata": {},
   "outputs": [],
   "source": [
    "shap_values = shap.TreeExplainer(model_xgb_best).shap_values(X_train)\n",
    "shap.summary_plot(shap_values, X_train, plot_type=\"bar\")"
   ]
  },
  {
   "cell_type": "code",
   "execution_count": null,
   "metadata": {},
   "outputs": [],
   "source": [
    "shap.summary_plot(shap_values, X_train)"
   ]
  }
 ],
 "metadata": {
  "kernelspec": {
   "display_name": "Python 3",
   "language": "python",
   "name": "python3"
  },
  "language_info": {
   "codemirror_mode": {
    "name": "ipython",
    "version": 3
   },
   "file_extension": ".py",
   "mimetype": "text/x-python",
   "name": "python",
   "nbconvert_exporter": "python",
   "pygments_lexer": "ipython3",
   "version": "3.6.10"
  }
 },
 "nbformat": 4,
 "nbformat_minor": 4
}
