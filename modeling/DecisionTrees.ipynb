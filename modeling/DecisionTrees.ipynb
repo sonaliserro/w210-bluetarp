{
 "cells": [
  {
   "cell_type": "code",
   "execution_count": 1,
   "metadata": {},
   "outputs": [],
   "source": [
    "# Importing libraries and packages\n",
    "import geopandas as gpd\n",
    "import pandas as pd\n",
    "import numpy as np\n",
    "import json\n",
    "\n",
    "# Visualization\n",
    "import matplotlib.pyplot as plt\n",
    "\n",
    "# Modeling\n",
    "# Installing xgboost: conda install -c conda-forge xgboost\n",
    "from xgboost import XGBRegressor\n",
    "from sklearn.ensemble import RandomForestRegressor\n",
    "\n",
    "from sklearn.model_selection import train_test_split\n",
    "from sklearn.model_selection import GridSearchCV\n",
    "\n",
    "# Metrics\n",
    "from sklearn import metrics\n",
    "\n",
    "# Feature importance visulization\n",
    "import shap\n",
    "from xgboost import plot_importance\n",
    "\n",
    "# Save models\n",
    "import pickle"
   ]
  },
  {
   "cell_type": "markdown",
   "metadata": {},
   "source": [
    "### Load the training Dataset (FL/TX)"
   ]
  },
  {
   "cell_type": "code",
   "execution_count": 2,
   "metadata": {},
   "outputs": [
    {
     "name": "stderr",
     "output_type": "stream",
     "text": [
      "Columns (29,30,31) have mixed types.Specify dtype option on import or set low_memory=False.\n"
     ]
    },
    {
     "name": "stdout",
     "output_type": "stream",
     "text": [
      "There are 3533663 records combined.\n"
     ]
    }
   ],
   "source": [
    "femaTrainData = pd.read_csv('../data/open-fema/FEMA-Large-Demographics-FL-TX.csv')\n",
    "print('There are {} records combined.'.format(len(femaTrainData)))"
   ]
  },
  {
   "cell_type": "code",
   "execution_count": 3,
   "metadata": {},
   "outputs": [
    {
     "data": {
      "text/plain": [
       "Index(['disasterNumber', 'damagedCity', 'damagedStateAbbreviation',\n",
       "       'damagedZipCode', 'householdComposition', 'grossIncome', 'specialNeeds',\n",
       "       'homeOwnersInsurance', 'floodInsurance', 'inspected', 'rpfvl',\n",
       "       'habitabilityRepairsRequired', 'destroyed', 'waterLevel', 'floodDamage',\n",
       "       'foundationDamage', 'foundationDamageAmount', 'roofDamage',\n",
       "       'roofDamageAmount', 'tsaEligible', 'tsaCheckedIn',\n",
       "       'rentalAssistanceEligible', 'rentalAssistanceAmount',\n",
       "       'repairAssistanceEligible', 'repairAmount',\n",
       "       'replacementAssistanceEligible', 'replacementAmount', 'sbaEligible',\n",
       "       'renterDamageLevel', 'rentalAssistanceEndDate', 'rentalResourceCity',\n",
       "       'rentalResourceStateAbbreviation', 'rentalResourceZipCode',\n",
       "       'primaryResidence', 'personalPropertyEligible', 'ppfvl',\n",
       "       'censusBlockId', 'censusYear', 'id', 'censusTractId', 'censusid',\n",
       "       'tractid', 'tractname', 'county', 'state', 'below_poverty_rate',\n",
       "       'median_earnings_total', 'unemployed_labor_rate',\n",
       "       'built_1979_or_earlier_rate', 'owner_occupied_rate', 'dvi', 'haAmount',\n",
       "       'ownRent_Owner', 'ownRent_Renter', 'ownRent_Unknown',\n",
       "       'residenceType_Apartment', 'residenceType_Assisted Living Facility',\n",
       "       'residenceType_Boat', 'residenceType_College Dorm',\n",
       "       'residenceType_Condo', 'residenceType_Correctional Facility',\n",
       "       'residenceType_House/Duplex', 'residenceType_Military Housing',\n",
       "       'residenceType_Mobile Home', 'residenceType_Other',\n",
       "       'residenceType_Townhouse', 'residenceType_Travel Trailer',\n",
       "       'residenceType_Unknown'],\n",
       "      dtype='object')"
      ]
     },
     "execution_count": 3,
     "metadata": {},
     "output_type": "execute_result"
    }
   ],
   "source": [
    "femaTrainData.columns"
   ]
  },
  {
   "cell_type": "markdown",
   "metadata": {},
   "source": [
    "### Select a subset of columns\n",
    "\n",
    "https://docs.google.com/document/d/1nu0yENGAWnoiMcTufxYnH7xwdh8NfFum9ni9IYiSIdk/edit#"
   ]
  },
  {
   "cell_type": "code",
   "execution_count": 4,
   "metadata": {},
   "outputs": [],
   "source": [
    "# Select a subset of columns (No demographics)\n",
    "ihp_exclude_cols = ['disasterNumber', \n",
    "                    'damagedCity', \n",
    "                    'damagedStateAbbreviation',\n",
    "                    'damagedZipCode',\n",
    "                    'grossIncome',\n",
    "                    'foundationDamageAmount',\n",
    "                    'roofDamageAmount',\n",
    "                    'tsaCheckedIn',\n",
    "                    'rentalAssistanceAmount',\n",
    "                    'repairAmount',\n",
    "                    'replacementAmount',\n",
    "                    'renterDamageLevel', \n",
    "                    'rentalAssistanceEndDate', \n",
    "                    'rentalResourceCity',\n",
    "                    'rentalResourceStateAbbreviation', \n",
    "                    'rentalResourceZipCode',\n",
    "                    'personalPropertyEligible', \n",
    "                    'ppfvl',\n",
    "                    'censusBlockId', \n",
    "                    'censusYear', \n",
    "                    'id']\n",
    "demo_exclude_cols = ['censusTractId', \n",
    "                     'censusid',\n",
    "                     'tractid', \n",
    "                     'tractname', \n",
    "                     'county', \n",
    "                     'state',\n",
    "                     'median_earnings_total',]\n",
    "demo_dvi_col = ['dvi']\n",
    "demo_rate_cols = ['below_poverty_rate',\n",
    "                  'unemployed_labor_rate',\n",
    "                  'built_1979_or_earlier_rate', \n",
    "                  'owner_occupied_rate']"
   ]
  },
  {
   "cell_type": "markdown",
   "metadata": {},
   "source": [
    "### RandomForest\n",
    "\n",
    "https://machinelearningmastery.com/random-forest-ensemble-in-python/\n",
    "\n",
    "- The “max_samples” argument can be set to a float between 0 and 1 to control the percentage of the size of the training dataset to make the bootstrap sample used to train each decision tree.\n",
    "- max_features argument and defaults to the square root of the number of input features. \n",
    "- The number of trees can be set via the “n_estimators” argument and defaults to 100.\n",
    "- The maximum tree depth can be specified via the max_depth argument and is set to None (no maximum depth) by default."
   ]
  },
  {
   "cell_type": "code",
   "execution_count": 16,
   "metadata": {},
   "outputs": [],
   "source": [
    "def run_rf(df, frac):\n",
    "    # Sample the dataset\n",
    "    df_train = df.sample(frac=frac) if frac < 1.0 else df    \n",
    "        \n",
    "    # Create test/train split\n",
    "    X = df_train.loc[:, df_train.columns != 'haAmount']\n",
    "    y = df_train.loc[:, 'haAmount']    \n",
    "    X_train, X_test, y_train, y_test = train_test_split(X, y, test_size = 0.2, shuffle = True, random_state = 42) \n",
    "  \n",
    "    print('Shape of Training and Test inputs')\n",
    "    print(X_train.shape, y_train.shape)\n",
    "    print(X_test.shape, y_test.shape)\n",
    "    \n",
    "    # Define the model\n",
    "    model_rf = RandomForestRegressor(max_depth = 10, max_samples = 0.8, n_estimators = 75, min_samples_leaf = 10, random_state = 42)\n",
    "    \n",
    "    # Fit the model\n",
    "    model_rf.fit(X_train, y_train)\n",
    "    \n",
    "    return (model_rf, model_rf.predict(X_test), y_test)"
   ]
  },
  {
   "cell_type": "code",
   "execution_count": 6,
   "metadata": {},
   "outputs": [],
   "source": [
    "def run_rf_grid_search(df, frac):\n",
    "    # Sample the dataset\n",
    "    df_train = df.sample(frac=frac) if frac < 1.0 else df    \n",
    "        \n",
    "    # Create test/train split\n",
    "    X = df_train.loc[:, df_train.columns != 'haAmount']\n",
    "    y = df_train.loc[:, 'haAmount']    \n",
    "    X_train, X_test, y_train, y_test = train_test_split(X, y, test_size = 0.2, shuffle = True, random_state = 42)\n",
    "    \n",
    "    print('Shape of Training and Test inputs')\n",
    "    print(X_train.shape, y_train.shape)\n",
    "    print(X_test.shape, y_test.shape)\n",
    "    \n",
    "    # RandomForestRegressor default model\n",
    "    model_rf = RandomForestRegressor(random_state = 42)\n",
    "    \n",
    "    # Create the parameter grid\n",
    "    param_grid_rf = {\n",
    "        'bootstrap': [True],\n",
    "        'max_samples': [0.8, 0.9, None],\n",
    "        'max_depth': [8, 10],\n",
    "        'n_estimators': [50, 75, 100],\n",
    "        'min_samples_leaf': [1, 10, 25]\n",
    "    }\n",
    "    \n",
    "    # Instantiate the grid search model\n",
    "    grid_search_rf = GridSearchCV(estimator = model_rf, param_grid = param_grid_rf, \n",
    "                                  scoring='neg_mean_absolute_error', cv = 3, n_jobs = -1, verbose = 2)\n",
    "    \n",
    "    # Fit the grid search to the data\n",
    "    grid_search_rf.fit(X_train, y_train)\n",
    "    \n",
    "    print('Best params:\\n', grid_search_rf.best_params_)\n",
    "    \n",
    "    # Predict using best model\n",
    "    model_rf_best = grid_search_rf.best_estimator_\n",
    "    \n",
    "    return (model_rf_best, model_rf_best.predict(X_test), y_test)"
   ]
  },
  {
   "cell_type": "code",
   "execution_count": 7,
   "metadata": {},
   "outputs": [],
   "source": [
    "def evaluate(y_test, y_pred):\n",
    "    print('Mean Absolute Error:', metrics.mean_absolute_error(y_test, y_pred))\n",
    "    print('Mean Squared Error:', metrics.mean_squared_error(y_test, y_pred))\n",
    "    print('Root Mean Squared Error:', np.sqrt(metrics.mean_squared_error(y_test, y_pred)))\n",
    "    print('R-squared:', metrics.r2_score(y_test, y_pred))\n",
    "    print('\\n')\n",
    "    print('Total HA Amount actual:    ${:,.2f}'.format(y_test.sum()))\n",
    "    print('Total HA Amount predicted: ${:,.2f}'.format(y_pred.sum()))\n",
    "    print('\\n')\n",
    "    \n",
    "    # Calculate the number of observations that are off by more than 20%\n",
    "    results_df = pd.DataFrame({'actual': y_test, 'predicted': y_pred})\n",
    "    results_df['diff'] = results_df['predicted'] - results_df['actual']    \n",
    "    results_df['percent_diff'] = (abs(abs(results_df['predicted'] / (results_df['actual'])) - 1) * 100).where(results_df['actual'] > 0, 0)    \n",
    "    print('Percentage of predictions that are off by more than 20%: {:.2f}'.format( \n",
    "          len(results_df[results_df['percent_diff'] > 20])/len(results_df) * 100))   "
   ]
  },
  {
   "cell_type": "markdown",
   "metadata": {},
   "source": [
    "### IHP - No Demographics"
   ]
  },
  {
   "cell_type": "code",
   "execution_count": 17,
   "metadata": {},
   "outputs": [],
   "source": [
    "femaDf = femaTrainData[femaTrainData.columns[~femaTrainData.columns.isin(\n",
    "    ihp_exclude_cols + demo_exclude_cols + demo_dvi_col + demo_rate_cols)]]"
   ]
  },
  {
   "cell_type": "code",
   "execution_count": 18,
   "metadata": {},
   "outputs": [
    {
     "name": "stdout",
     "output_type": "stream",
     "text": [
      "Shape of Training and Test inputs\n",
      "(2826930, 34) (2826930,)\n",
      "(706733, 34) (706733,)\n"
     ]
    }
   ],
   "source": [
    "model_rf, y_pred, y_test = run_rf(femaDf, 1.0)"
   ]
  },
  {
   "cell_type": "code",
   "execution_count": 19,
   "metadata": {},
   "outputs": [
    {
     "name": "stdout",
     "output_type": "stream",
     "text": [
      "Mean Absolute Error: 73.11131664868483\n",
      "Mean Squared Error: 297997.9151362748\n",
      "Root Mean Squared Error: 545.8918529674855\n",
      "R-squared: 0.9526070429414836\n",
      "\n",
      "\n",
      "Total HA Amount actual:    $385,808,834.81\n",
      "Total HA Amount predicted: $386,241,205.17\n",
      "\n",
      "\n",
      "Percentage of predictions that are off by more than 20%: 4.57\n"
     ]
    }
   ],
   "source": [
    "evaluate(y_test, y_pred)"
   ]
  },
  {
   "cell_type": "code",
   "execution_count": 20,
   "metadata": {},
   "outputs": [
    {
     "name": "stdout",
     "output_type": "stream",
     "text": [
      "rpfvl 0.6407986992775071\n",
      "repairAssistanceEligible 0.2443550952199573\n",
      "rentalAssistanceEligible 0.05058185638303424\n",
      "floodInsurance 0.03024633600125784\n",
      "replacementAssistanceEligible 0.02281916709742536\n",
      "inspected 0.0034439962267632986\n",
      "homeOwnersInsurance 0.0018565721380059915\n",
      "householdComposition 0.0016727176403905568\n",
      "waterLevel 0.001128481123530932\n",
      "residenceType_Townhouse 0.00108342288018978\n",
      "habitabilityRepairsRequired 0.0007513359472660334\n",
      "residenceType_Military Housing 0.0003278238938006504\n",
      "sbaEligible 0.00023560888538705978\n",
      "residenceType_Correctional Facility 0.0002071510411131047\n",
      "tsaEligible 0.00015009569403120622\n",
      "floodDamage 9.965457063243504e-05\n",
      "roofDamage 9.466881641297513e-05\n",
      "residenceType_Assisted Living Facility 4.1332610752324674e-05\n",
      "foundationDamage 3.711249173382887e-05\n",
      "specialNeeds 1.799253305414086e-05\n",
      "ownRent_Owner 1.5930906268290778e-05\n",
      "destroyed 1.1542456081051005e-05\n",
      "residenceType_College Dorm 1.0839341794081233e-05\n",
      "haAmount 6.739114958404098e-06\n",
      "residenceType_Other 3.542115574204261e-06\n",
      "ownRent_Unknown 1.8871402285004926e-06\n",
      "residenceType_House/Duplex 3.805809793243778e-07\n",
      "residenceType_Mobile Home 1.7871869939550003e-08\n",
      "residenceType_Travel Trailer 0.0\n",
      "residenceType_Condo 0.0\n",
      "residenceType_Boat 0.0\n",
      "residenceType_Apartment 0.0\n",
      "primaryResidence 0.0\n",
      "ownRent_Renter 0.0\n"
     ]
    }
   ],
   "source": [
    "for score, name in sorted(zip(model_rf.feature_importances_, femaDf.columns), reverse=True):\n",
    "    print(name, score)"
   ]
  },
  {
   "cell_type": "code",
   "execution_count": 22,
   "metadata": {},
   "outputs": [
    {
     "data": {
      "text/plain": [
       "{'bootstrap': True,\n",
       " 'ccp_alpha': 0.0,\n",
       " 'criterion': 'mse',\n",
       " 'max_depth': 10,\n",
       " 'max_features': 'auto',\n",
       " 'max_leaf_nodes': None,\n",
       " 'max_samples': 0.8,\n",
       " 'min_impurity_decrease': 0.0,\n",
       " 'min_impurity_split': None,\n",
       " 'min_samples_leaf': 10,\n",
       " 'min_samples_split': 2,\n",
       " 'min_weight_fraction_leaf': 0.0,\n",
       " 'n_estimators': 75,\n",
       " 'n_jobs': None,\n",
       " 'oob_score': False,\n",
       " 'random_state': 42,\n",
       " 'verbose': 0,\n",
       " 'warm_start': False}"
      ]
     },
     "execution_count": 22,
     "metadata": {},
     "output_type": "execute_result"
    }
   ],
   "source": [
    "model_rf.get_params()"
   ]
  },
  {
   "cell_type": "markdown",
   "metadata": {},
   "source": [
    "### IHP with DVI"
   ]
  },
  {
   "cell_type": "code",
   "execution_count": 65,
   "metadata": {},
   "outputs": [],
   "source": [
    "femaDf = femaTrainData[femaTrainData.columns[~femaTrainData.columns.isin(\n",
    "    ihp_exclude_cols + demo_exclude_cols + demo_rate_cols)]]"
   ]
  },
  {
   "cell_type": "code",
   "execution_count": 66,
   "metadata": {},
   "outputs": [
    {
     "name": "stdout",
     "output_type": "stream",
     "text": [
      "Shape of Training and Test inputs\n",
      "(2826930, 35) (2826930,)\n",
      "(706733, 35) (706733,)\n"
     ]
    }
   ],
   "source": [
    "model_rf, y_pred, y_test = run_rf(femaDf, 1.0)"
   ]
  },
  {
   "cell_type": "code",
   "execution_count": 67,
   "metadata": {},
   "outputs": [
    {
     "name": "stdout",
     "output_type": "stream",
     "text": [
      "Mean Absolute Error: 77.28261364369887\n",
      "Mean Squared Error: 311848.35087452503\n",
      "Root Mean Squared Error: 558.4338375085495\n",
      "R-squared: 0.9504042989864312\n",
      "\n",
      "\n",
      "Total HA Amount actual:    $385,808,834.81\n",
      "Total HA Amount predicted: $386,048,365.06\n",
      "\n",
      "\n",
      "Percentage of predictions that are off by more than 20%: 4.45\n"
     ]
    }
   ],
   "source": [
    "evaluate(y_test, y_pred)"
   ]
  },
  {
   "cell_type": "code",
   "execution_count": 68,
   "metadata": {},
   "outputs": [
    {
     "name": "stdout",
     "output_type": "stream",
     "text": [
      "rpfvl 0.6414760839074478\n",
      "repairAssistanceEligible 0.24513907610316832\n",
      "rentalAssistanceEligible 0.05064228921130431\n",
      "floodInsurance 0.03029991807792508\n",
      "replacementAssistanceEligible 0.023027314890120047\n",
      "inspected 0.0034764527653731304\n",
      "residenceType_Townhouse 0.0011331378828654773\n",
      "householdComposition 0.0009753668742557773\n",
      "habitabilityRepairsRequired 0.0007730168842593734\n",
      "dvi 0.0007066391003253331\n",
      "homeOwnersInsurance 0.0006860708900439531\n",
      "waterLevel 0.0006627250191893463\n",
      "floodDamage 0.0002955582048558612\n",
      "residenceType_Military Housing 0.00020016962559677118\n",
      "sbaEligible 0.00018086157481739801\n",
      "residenceType_Correctional Facility 9.755217119783868e-05\n",
      "tsaEligible 6.32832636130114e-05\n",
      "destroyed 3.620051306169962e-05\n",
      "roofDamage 2.7799554137625955e-05\n",
      "foundationDamage 2.6781662834596126e-05\n",
      "residenceType_Assisted Living Facility 2.4079433857294493e-05\n",
      "specialNeeds 1.9401986960696383e-05\n",
      "residenceType_Other 8.35526265007088e-06\n",
      "residenceType_College Dorm 6.997640462363282e-06\n",
      "ownRent_Owner 5.445809952225642e-06\n",
      "haAmount 5.422801054306907e-06\n",
      "ownRent_Renter 2.2926579146112784e-06\n",
      "primaryResidence 1.1180729478478878e-06\n",
      "ownRent_Unknown 3.089716418904891e-07\n",
      "residenceType_Mobile Home 2.791861660094415e-07\n",
      "residenceType_Travel Trailer 0.0\n",
      "residenceType_House/Duplex 0.0\n",
      "residenceType_Condo 0.0\n",
      "residenceType_Boat 0.0\n",
      "residenceType_Apartment 0.0\n"
     ]
    }
   ],
   "source": [
    "for score, name in sorted(zip(model_rf.feature_importances_, femaDf.columns), reverse=True):\n",
    "    print(name, score)"
   ]
  },
  {
   "cell_type": "markdown",
   "metadata": {},
   "source": [
    "### IHP with Demographic rates"
   ]
  },
  {
   "cell_type": "code",
   "execution_count": 69,
   "metadata": {},
   "outputs": [],
   "source": [
    "femaDf = femaTrainData[femaTrainData.columns[~femaTrainData.columns.isin(\n",
    "    ihp_exclude_cols + demo_exclude_cols + demo_dvi_col)]]"
   ]
  },
  {
   "cell_type": "code",
   "execution_count": 70,
   "metadata": {},
   "outputs": [
    {
     "name": "stdout",
     "output_type": "stream",
     "text": [
      "Shape of Training and Test inputs\n",
      "(2826930, 38) (2826930,)\n",
      "(706733, 38) (706733,)\n"
     ]
    }
   ],
   "source": [
    "model_rf, y_pred, y_test = run_rf(femaDf, 1.0)"
   ]
  },
  {
   "cell_type": "code",
   "execution_count": 71,
   "metadata": {},
   "outputs": [
    {
     "name": "stdout",
     "output_type": "stream",
     "text": [
      "Mean Absolute Error: 76.09982883865835\n",
      "Mean Squared Error: 310675.41955222585\n",
      "Root Mean Squared Error: 557.3826509250408\n",
      "R-squared: 0.9505908394988536\n",
      "\n",
      "\n",
      "Total HA Amount actual:    $385,808,834.81\n",
      "Total HA Amount predicted: $386,120,700.57\n",
      "\n",
      "\n",
      "Percentage of predictions that are off by more than 20%: 4.60\n"
     ]
    }
   ],
   "source": [
    "evaluate(y_test, y_pred)"
   ]
  },
  {
   "cell_type": "code",
   "execution_count": 72,
   "metadata": {},
   "outputs": [
    {
     "name": "stdout",
     "output_type": "stream",
     "text": [
      "rpfvl 0.6409588943053292\n",
      "repairAssistanceEligible 0.24497012467195128\n",
      "rentalAssistanceEligible 0.05054013224600774\n",
      "floodInsurance 0.03026226428334329\n",
      "replacementAssistanceEligible 0.023011495361805585\n",
      "inspected 0.0034768220214617548\n",
      "residenceType_Townhouse 0.0011323064063799106\n",
      "householdComposition 0.0009232569271399389\n",
      "habitabilityRepairsRequired 0.0007730631167699042\n",
      "homeOwnersInsurance 0.0006968962168060953\n",
      "waterLevel 0.000623070879077259\n",
      "built_1979_or_earlier_rate 0.0006141167665929876\n",
      "owner_occupied_rate 0.0005372166592420087\n",
      "below_poverty_rate 0.00045241440761139884\n",
      "floodDamage 0.0002478638915650279\n",
      "unemployed_labor_rate 0.0002173724469941543\n",
      "residenceType_Military Housing 0.00016865644555391683\n",
      "sbaEligible 0.00013351159023160705\n",
      "residenceType_Correctional Facility 6.451219221005993e-05\n",
      "roofDamage 4.865017875697442e-05\n",
      "foundationDamage 3.000325385051597e-05\n",
      "tsaEligible 2.8814062372639994e-05\n",
      "destroyed 2.8452283868915487e-05\n",
      "residenceType_Assisted Living Facility 2.4897802022401626e-05\n",
      "specialNeeds 1.118668555528358e-05\n",
      "residenceType_Other 9.680279142755752e-06\n",
      "residenceType_College Dorm 9.364271900587957e-06\n",
      "haAmount 2.5624900064192788e-06\n",
      "ownRent_Renter 1.4639135627427193e-06\n",
      "primaryResidence 6.078192985915537e-07\n",
      "residenceType_Mobile Home 1.8400869901859474e-07\n",
      "ownRent_Owner 1.4211488992946674e-07\n",
      "residenceType_Travel Trailer 0.0\n",
      "residenceType_House/Duplex 0.0\n",
      "residenceType_Condo 0.0\n",
      "residenceType_Boat 0.0\n",
      "residenceType_Apartment 0.0\n",
      "ownRent_Unknown 0.0\n"
     ]
    }
   ],
   "source": [
    "for score, name in sorted(zip(model_rf.feature_importances_, femaDf.columns), reverse=True):\n",
    "    print(name, score)"
   ]
  },
  {
   "cell_type": "markdown",
   "metadata": {},
   "source": [
    "### Grid Search - IHP with DVI, no min_samples_leaf"
   ]
  },
  {
   "cell_type": "code",
   "execution_count": 73,
   "metadata": {},
   "outputs": [],
   "source": [
    "femaDf = femaTrainData[femaTrainData.columns[~femaTrainData.columns.isin(\n",
    "    ihp_exclude_cols + demo_exclude_cols + demo_rate_cols)]]"
   ]
  },
  {
   "cell_type": "code",
   "execution_count": 75,
   "metadata": {},
   "outputs": [
    {
     "name": "stdout",
     "output_type": "stream",
     "text": [
      "Shape of Training and Test inputs\n",
      "(2826930, 35) (2826930,)\n",
      "(706733, 35) (706733,)\n",
      "Fitting 3 folds for each of 27 candidates, totalling 81 fits\n"
     ]
    },
    {
     "name": "stderr",
     "output_type": "stream",
     "text": [
      "One or more of the test scores are non-finite: [-88.68193823 -88.65143361 -88.63213333 -88.62201631 -88.65117495\n",
      " -88.70180086          nan          nan          nan -77.27173576\n",
      " -77.21592856 -77.21690359 -77.21296667 -77.19083539 -77.24392124\n",
      "          nan          nan          nan -72.52705718 -72.5030733\n",
      " -72.51108486 -72.55318629 -72.52245034 -72.52373805          nan\n",
      "          nan          nan]\n"
     ]
    },
    {
     "name": "stdout",
     "output_type": "stream",
     "text": [
      "Best params:\n",
      " {'bootstrap': True, 'max_depth': 10, 'max_samples': 0.8, 'n_estimators': 75}\n"
     ]
    }
   ],
   "source": [
    "model_rf_best, y_pred, y_test = run_rf_grid_search(femaDf, 1.0)"
   ]
  },
  {
   "cell_type": "code",
   "execution_count": 76,
   "metadata": {},
   "outputs": [
    {
     "name": "stdout",
     "output_type": "stream",
     "text": [
      "Mean Absolute Error: 72.17650544256053\n",
      "Mean Squared Error: 296748.32747870765\n",
      "Root Mean Squared Error: 544.7461128624119\n",
      "R-squared: 0.952805774715056\n",
      "\n",
      "\n",
      "Total HA Amount actual:    $385,808,834.81\n",
      "Total HA Amount predicted: $386,064,770.62\n",
      "\n",
      "\n",
      "Percentage of predictions that are off by more than 20%: 4.58\n"
     ]
    }
   ],
   "source": [
    "evaluate(y_test, y_pred)"
   ]
  },
  {
   "cell_type": "code",
   "execution_count": 77,
   "metadata": {},
   "outputs": [
    {
     "name": "stdout",
     "output_type": "stream",
     "text": [
      "rpfvl 0.6389446493825639\n",
      "repairAssistanceEligible 0.2434706843311174\n",
      "rentalAssistanceEligible 0.050393900626931776\n",
      "floodInsurance 0.03015792263782623\n",
      "replacementAssistanceEligible 0.02289511552158977\n",
      "inspected 0.0034533036710228506\n",
      "homeOwnersInsurance 0.0019363176497731313\n",
      "dvi 0.0018674308088626578\n",
      "householdComposition 0.0017217848367149706\n",
      "waterLevel 0.0015050761079668385\n",
      "residenceType_Townhouse 0.0011433374252448555\n",
      "habitabilityRepairsRequired 0.0007860827742752625\n",
      "residenceType_Military Housing 0.00031658842132095607\n",
      "floodDamage 0.00031426293223737567\n",
      "sbaEligible 0.000285073887570921\n",
      "residenceType_Correctional Facility 0.0001804294228411861\n",
      "tsaEligible 0.00014969027314991538\n",
      "roofDamage 0.00012014344060223963\n",
      "specialNeeds 7.509225602744793e-05\n",
      "foundationDamage 6.989537612996189e-05\n",
      "residenceType_Assisted Living Facility 6.65615366321246e-05\n",
      "destroyed 4.64188439849117e-05\n",
      "residenceType_College Dorm 4.024315419799487e-05\n",
      "residenceType_Other 2.4355742642019494e-05\n",
      "ownRent_Owner 1.562840136628559e-05\n",
      "haAmount 9.48779957792161e-06\n",
      "ownRent_Renter 3.361706088310259e-06\n",
      "primaryResidence 2.7674925020102473e-06\n",
      "ownRent_Unknown 2.7253371910121836e-06\n",
      "residenceType_Mobile Home 1.5463660538618068e-06\n",
      "residenceType_House/Duplex 1.2183599377328762e-07\n",
      "residenceType_Travel Trailer 0.0\n",
      "residenceType_Condo 0.0\n",
      "residenceType_Boat 0.0\n",
      "residenceType_Apartment 0.0\n"
     ]
    }
   ],
   "source": [
    "for score, name in sorted(zip(model_rf_best.feature_importances_, femaDf.columns), reverse=True):\n",
    "    print(name, score)"
   ]
  },
  {
   "cell_type": "code",
   "execution_count": 78,
   "metadata": {},
   "outputs": [],
   "source": [
    "# Save the model\n",
    "pickle.dump(model_rf_best, open('random_forest_dvi.sav', 'wb'))"
   ]
  },
  {
   "cell_type": "code",
   "execution_count": 80,
   "metadata": {},
   "outputs": [
    {
     "data": {
      "text/plain": [
       "{'bootstrap': True,\n",
       " 'ccp_alpha': 0.0,\n",
       " 'criterion': 'mse',\n",
       " 'max_depth': 10,\n",
       " 'max_features': 'auto',\n",
       " 'max_leaf_nodes': None,\n",
       " 'max_samples': 0.8,\n",
       " 'min_impurity_decrease': 0.0,\n",
       " 'min_impurity_split': None,\n",
       " 'min_samples_leaf': 1,\n",
       " 'min_samples_split': 2,\n",
       " 'min_weight_fraction_leaf': 0.0,\n",
       " 'n_estimators': 75,\n",
       " 'n_jobs': None,\n",
       " 'oob_score': False,\n",
       " 'random_state': 42,\n",
       " 'verbose': 0,\n",
       " 'warm_start': False}"
      ]
     },
     "execution_count": 80,
     "metadata": {},
     "output_type": "execute_result"
    }
   ],
   "source": [
    "# Load saved model\n",
    "model_rf_sav = pickle.load(open('random_forest_dvi.sav', 'rb'))\n",
    "model_rf_sav.get_params()"
   ]
  },
  {
   "cell_type": "markdown",
   "metadata": {},
   "source": [
    "### Grid Search - IHP with DVI, and min_samples_leaf"
   ]
  },
  {
   "cell_type": "code",
   "execution_count": 7,
   "metadata": {},
   "outputs": [],
   "source": [
    "femaDf = femaTrainData[femaTrainData.columns[~femaTrainData.columns.isin(\n",
    "    ihp_exclude_cols + demo_exclude_cols + demo_rate_cols)]]"
   ]
  },
  {
   "cell_type": "code",
   "execution_count": 8,
   "metadata": {},
   "outputs": [
    {
     "name": "stdout",
     "output_type": "stream",
     "text": [
      "Shape of Training and Test inputs\n",
      "(2826930, 35) (2826930,)\n",
      "(706733, 35) (706733,)\n",
      "Fitting 3 folds for each of 18 candidates, totalling 54 fits\n",
      "Best params:\n",
      " {'bootstrap': True, 'max_depth': 10, 'max_samples': 0.8, 'min_samples_leaf': 10, 'n_estimators': 100}\n"
     ]
    }
   ],
   "source": [
    "model_rf_best, y_pred, y_test = run_rf_grid_search(femaDf, 1.0)"
   ]
  },
  {
   "cell_type": "code",
   "execution_count": 11,
   "metadata": {},
   "outputs": [
    {
     "name": "stdout",
     "output_type": "stream",
     "text": [
      "Mean Absolute Error: 72.02678360482696\n",
      "Mean Squared Error: 296161.28767390474\n",
      "Root Mean Squared Error: 544.2070264834007\n",
      "R-squared: 0.9528991362818574\n",
      "\n",
      "\n",
      "Total HA Amount actual:    $385,808,834.81\n",
      "Total HA Amount predicted: $386,215,233.62\n",
      "\n",
      "\n",
      "Percentage of predictions that are off by more than 20%: 4.48\n"
     ]
    }
   ],
   "source": [
    "evaluate(y_test, y_pred)"
   ]
  },
  {
   "cell_type": "markdown",
   "metadata": {},
   "source": [
    "### Grid Search - IHP only"
   ]
  },
  {
   "cell_type": "code",
   "execution_count": 8,
   "metadata": {},
   "outputs": [],
   "source": [
    "femaDf = femaTrainData[femaTrainData.columns[~femaTrainData.columns.isin(\n",
    "    ihp_exclude_cols + demo_exclude_cols + demo_dvi_col + demo_rate_cols)]]"
   ]
  },
  {
   "cell_type": "code",
   "execution_count": 9,
   "metadata": {},
   "outputs": [
    {
     "name": "stdout",
     "output_type": "stream",
     "text": [
      "Shape of Training and Test inputs\n",
      "(2826930, 34) (2826930,)\n",
      "(706733, 34) (706733,)\n",
      "Fitting 3 folds for each of 54 candidates, totalling 162 fits\n",
      "Best params:\n",
      " {'bootstrap': True, 'max_depth': 10, 'max_samples': 0.8, 'min_samples_leaf': 1, 'n_estimators': 75}\n"
     ]
    }
   ],
   "source": [
    "model_rf_best, y_pred, y_test = run_rf_grid_search(femaDf, 1.0)"
   ]
  },
  {
   "cell_type": "code",
   "execution_count": 10,
   "metadata": {},
   "outputs": [
    {
     "name": "stdout",
     "output_type": "stream",
     "text": [
      "Mean Absolute Error: 73.22189617921295\n",
      "Mean Squared Error: 297611.6846505296\n",
      "Root Mean Squared Error: 545.5379772761283\n",
      "R-squared: 0.9526684682196344\n",
      "\n",
      "\n",
      "Total HA Amount actual:    $385,808,834.81\n",
      "Total HA Amount predicted: $386,125,324.14\n",
      "\n",
      "\n",
      "Percentage of predictions that are off by more than 20%: 4.71\n"
     ]
    }
   ],
   "source": [
    "evaluate(y_test, y_pred)"
   ]
  },
  {
   "cell_type": "markdown",
   "metadata": {},
   "source": [
    "#### Variable Importance using Shapley (works best with smaller depth trees)\n",
    "\n",
    "https://towardsdatascience.com/explain-your-model-with-the-shap-values-bc36aac4de3d"
   ]
  },
  {
   "cell_type": "code",
   "execution_count": 19,
   "metadata": {},
   "outputs": [
    {
     "data": {
      "text/plain": [
       "RandomForestRegressor(max_depth=8, max_samples=0.8, random_state=42)"
      ]
     },
     "execution_count": 19,
     "metadata": {},
     "output_type": "execute_result"
    }
   ],
   "source": [
    "shap_model_rf = RandomForestRegressor(max_depth = 8, max_samples = 0.8, n_estimators = 100, random_state = 42)\n",
    "shap_model_rf.fit(X_train, y_train)"
   ]
  },
  {
   "cell_type": "code",
   "execution_count": null,
   "metadata": {},
   "outputs": [],
   "source": [
    "shap_values = shap.TreeExplainer(shap_model_rf).shap_values(X_train)\n",
    "shap.summary_plot(shap_values, X_train, plot_type=\"bar\")"
   ]
  },
  {
   "cell_type": "code",
   "execution_count": null,
   "metadata": {},
   "outputs": [],
   "source": [
    "shap.summary_plot(shap_values, X_train)"
   ]
  },
  {
   "cell_type": "markdown",
   "metadata": {},
   "source": [
    "### XGBoost \n",
    "https://machinelearningmastery.com/extreme-gradient-boosting-ensemble-in-python/\n",
    "\n",
    "Hyperparameters:\n",
    "- The number of trees can be set via the “n_estimators” argument and defaults to 100.\n",
    "- Tree depth is controlled via the “max_depth” argument and defaults to 6.\n",
    "- The learning rate can be controlled via the “eta” argument and defaults to 0.3.\n",
    "- The number of samples used to fit each tree is specified by the “subsample” argument and can be set to a fraction of the training dataset size. By default, it is set to 1.0 to use the entire training dataset.\n",
    "- The number of features used by each tree is taken as a random sample and is specified by the “colsample_bytree” argument and defaults to all features in the training dataset, e.g. 100 percent or a value of 1.0. "
   ]
  },
  {
   "cell_type": "code",
   "execution_count": 27,
   "metadata": {},
   "outputs": [],
   "source": [
    "def run_xgb(df, frac):\n",
    "    # Sample the dataset\n",
    "    df_train = df.sample(frac=frac) if frac < 1.0 else df    \n",
    "        \n",
    "    # Create test/train split\n",
    "    X = df_train.loc[:, df_train.columns != 'haAmount']\n",
    "    y = df_train.loc[:, 'haAmount']    \n",
    "    X_train, X_test, y_train, y_test = train_test_split(X, y, test_size = 0.2, shuffle = True, random_state = 42) \n",
    "  \n",
    "    print('Shape of Training and Test inputs')\n",
    "    print(X_train.shape, y_train.shape)\n",
    "    print(X_test.shape, y_test.shape)\n",
    "    \n",
    "    # Define the model\n",
    "    model_xgb = XGBRegressor(learning_rate = 0.05, max_depth = 10, n_estimators = 100, \n",
    "                             objective = 'reg:squarederror', subsample = 0.9, min_child_weight = 3, random_state = 42)\n",
    "    \n",
    "    # Fit the model\n",
    "    model_xgb.fit(X_train, y_train)\n",
    "    \n",
    "    return (model_xgb, model_xgb.predict(X_test), y_test)"
   ]
  },
  {
   "cell_type": "code",
   "execution_count": 12,
   "metadata": {},
   "outputs": [],
   "source": [
    "def run_xgb_grid_search(df, frac):\n",
    "    # Sample the dataset\n",
    "    df_train = df.sample(frac=frac) if frac < 1.0 else df    \n",
    "        \n",
    "    # Create test/train split\n",
    "    X = df_train.loc[:, df_train.columns != 'haAmount']\n",
    "    y = df_train.loc[:, 'haAmount']    \n",
    "    X_train, X_test, y_train, y_test = train_test_split(X, y, test_size = 0.2, shuffle = True, random_state = 42)\n",
    "    \n",
    "    print('Shape of Training and Test inputs')\n",
    "    print(X_train.shape, y_train.shape)\n",
    "    print(X_test.shape, y_test.shape)\n",
    "    \n",
    "    # XGBRegressor default model\n",
    "    model_xgb = XGBRegressor(random_state = 42)\n",
    "    \n",
    "    # Create the parameter grid\n",
    "    param_grid_xgb = {\n",
    "            'learning_rate': [0.05, 0.1],\n",
    "            'max_depth': [8, 10],\n",
    "            'subsample': [0.8, 0.9],\n",
    "            'n_estimators' : [50, 75, 100],\n",
    "            'min_child_weight' : [1, 3, 5],\n",
    "            'objective': ['reg:squarederror']\n",
    "        }\n",
    "    \n",
    "    # Instantiate the grid search model\n",
    "    grid_search_xgb = GridSearchCV(estimator = model_xgb, param_grid = param_grid_xgb, \n",
    "                                   scoring='neg_mean_absolute_error', cv = 3, n_jobs = -1, verbose = 2)\n",
    "    \n",
    "    # Fit the grid search to the data\n",
    "    grid_search_xgb.fit(X_train, y_train)\n",
    "    \n",
    "    print('Best params:\\n', grid_search_xgb.best_params_)\n",
    "    \n",
    "    # Predict using best model\n",
    "    model_xgb_best = grid_search_xgb.best_estimator_\n",
    "    \n",
    "    return (model_xgb_best, model_xgb_best.predict(X_test), y_test)"
   ]
  },
  {
   "cell_type": "markdown",
   "metadata": {},
   "source": [
    "### IHP - No Demographics"
   ]
  },
  {
   "cell_type": "code",
   "execution_count": 28,
   "metadata": {},
   "outputs": [],
   "source": [
    "femaDf = femaTrainData[femaTrainData.columns[~femaTrainData.columns.isin(\n",
    "    ihp_exclude_cols + demo_exclude_cols + demo_dvi_col + demo_rate_cols)]]"
   ]
  },
  {
   "cell_type": "code",
   "execution_count": 29,
   "metadata": {},
   "outputs": [
    {
     "name": "stdout",
     "output_type": "stream",
     "text": [
      "Shape of Training and Test inputs\n",
      "(2826930, 34) (2826930,)\n",
      "(706733, 34) (706733,)\n"
     ]
    }
   ],
   "source": [
    "model_xgb, y_pred, y_test = run_xgb(femaDf, 1.0)"
   ]
  },
  {
   "cell_type": "code",
   "execution_count": 30,
   "metadata": {},
   "outputs": [
    {
     "name": "stdout",
     "output_type": "stream",
     "text": [
      "Mean Absolute Error: 72.07354752166547\n",
      "Mean Squared Error: 291843.1551592853\n",
      "Root Mean Squared Error: 540.2250967506834\n",
      "R-squared: 0.9535858829282048\n",
      "\n",
      "\n",
      "Total HA Amount actual:    $385,808,834.81\n",
      "Total HA Amount predicted: $383,785,216.00\n",
      "\n",
      "\n",
      "Percentage of predictions that are off by more than 20%: 4.39\n"
     ]
    }
   ],
   "source": [
    "evaluate(y_test, y_pred)"
   ]
  },
  {
   "cell_type": "code",
   "execution_count": 94,
   "metadata": {},
   "outputs": [
    {
     "name": "stdout",
     "output_type": "stream",
     "text": [
      "repairAssistanceEligible 0.744685\n",
      "replacementAssistanceEligible 0.073239565\n",
      "rentalAssistanceEligible 0.06701015\n",
      "rpfvl 0.05387848\n",
      "inspected 0.031116633\n",
      "floodInsurance 0.019045785\n",
      "residenceType_Townhouse 0.00254563\n",
      "habitabilityRepairsRequired 0.0012506673\n",
      "homeOwnersInsurance 0.0010916925\n",
      "floodDamage 0.0007347913\n",
      "residenceType_Military Housing 0.0005656358\n",
      "destroyed 0.0004996567\n",
      "waterLevel 0.00047150478\n",
      "householdComposition 0.00041287421\n",
      "residenceType_Correctional Facility 0.0004123237\n",
      "roofDamage 0.00039418368\n",
      "sbaEligible 0.00038433104\n",
      "ownRent_Owner 0.0003773805\n",
      "specialNeeds 0.00028503942\n",
      "foundationDamage 0.00027376958\n",
      "residenceType_Assisted Living Facility 0.00026751257\n",
      "tsaEligible 0.0002459955\n",
      "residenceType_College Dorm 0.00018705698\n",
      "residenceType_Other 0.00017174445\n",
      "primaryResidence 0.00011945247\n",
      "ownRent_Unknown 0.00011071961\n",
      "ownRent_Renter 7.6998585e-05\n",
      "haAmount 6.706717e-05\n",
      "residenceType_Mobile Home 4.5770223e-05\n",
      "residenceType_Condo 1.820711e-05\n",
      "residenceType_House/Duplex 1.3167213e-05\n",
      "residenceType_Apartment 1.2288878e-06\n",
      "residenceType_Travel Trailer 0.0\n",
      "residenceType_Boat 0.0\n"
     ]
    }
   ],
   "source": [
    "for score, name in sorted(zip(model_xgb.feature_importances_, femaDf.columns), reverse=True):\n",
    "    print(name, score)"
   ]
  },
  {
   "cell_type": "code",
   "execution_count": 31,
   "metadata": {},
   "outputs": [
    {
     "data": {
      "text/plain": [
       "{'objective': 'reg:squarederror',\n",
       " 'base_score': 0.5,\n",
       " 'booster': 'gbtree',\n",
       " 'colsample_bylevel': 1,\n",
       " 'colsample_bynode': 1,\n",
       " 'colsample_bytree': 1,\n",
       " 'gamma': 0,\n",
       " 'gpu_id': -1,\n",
       " 'importance_type': 'gain',\n",
       " 'interaction_constraints': '',\n",
       " 'learning_rate': 0.05,\n",
       " 'max_delta_step': 0,\n",
       " 'max_depth': 10,\n",
       " 'min_child_weight': 3,\n",
       " 'missing': nan,\n",
       " 'monotone_constraints': '()',\n",
       " 'n_estimators': 100,\n",
       " 'n_jobs': 8,\n",
       " 'num_parallel_tree': 1,\n",
       " 'random_state': 42,\n",
       " 'reg_alpha': 0,\n",
       " 'reg_lambda': 1,\n",
       " 'scale_pos_weight': 1,\n",
       " 'subsample': 0.9,\n",
       " 'tree_method': 'exact',\n",
       " 'validate_parameters': 1,\n",
       " 'verbosity': None}"
      ]
     },
     "execution_count": 31,
     "metadata": {},
     "output_type": "execute_result"
    }
   ],
   "source": [
    "model_xgb.get_params()"
   ]
  },
  {
   "cell_type": "markdown",
   "metadata": {},
   "source": [
    "### IHP - with DVI"
   ]
  },
  {
   "cell_type": "code",
   "execution_count": 95,
   "metadata": {},
   "outputs": [],
   "source": [
    "femaDf = femaTrainData[femaTrainData.columns[~femaTrainData.columns.isin(\n",
    "    ihp_exclude_cols + demo_exclude_cols + demo_rate_cols)]]"
   ]
  },
  {
   "cell_type": "code",
   "execution_count": 96,
   "metadata": {},
   "outputs": [
    {
     "name": "stdout",
     "output_type": "stream",
     "text": [
      "Shape of Training and Test inputs\n",
      "(2826930, 35) (2826930,)\n",
      "(706733, 35) (706733,)\n"
     ]
    }
   ],
   "source": [
    "model_xgb, y_pred, y_test = run_xgb(femaDf, 1.0)"
   ]
  },
  {
   "cell_type": "code",
   "execution_count": 97,
   "metadata": {},
   "outputs": [
    {
     "name": "stdout",
     "output_type": "stream",
     "text": [
      "Mean Absolute Error: 69.84277568056612\n",
      "Mean Squared Error: 288058.58864178555\n",
      "Root Mean Squared Error: 536.7108985681076\n",
      "R-squared: 0.9541877723688303\n",
      "\n",
      "\n",
      "Total HA Amount actual:    $385,808,834.81\n",
      "Total HA Amount predicted: $383,798,912.00\n",
      "\n",
      "\n",
      "Percentage of predictions that are off by more than 20%: 4.17\n"
     ]
    }
   ],
   "source": [
    "evaluate(y_test, y_pred)"
   ]
  },
  {
   "cell_type": "code",
   "execution_count": 98,
   "metadata": {},
   "outputs": [
    {
     "name": "stdout",
     "output_type": "stream",
     "text": [
      "repairAssistanceEligible 0.75433654\n",
      "replacementAssistanceEligible 0.0688436\n",
      "rentalAssistanceEligible 0.060142722\n",
      "rpfvl 0.05882212\n",
      "inspected 0.025818218\n",
      "floodInsurance 0.020239817\n",
      "residenceType_Townhouse 0.0025178166\n",
      "homeOwnersInsurance 0.0011940302\n",
      "habitabilityRepairsRequired 0.0011571259\n",
      "floodDamage 0.00080096454\n",
      "residenceType_Military Housing 0.00051885797\n",
      "waterLevel 0.00047572315\n",
      "destroyed 0.00046931225\n",
      "residenceType_Correctional Facility 0.0004420483\n",
      "sbaEligible 0.0004409977\n",
      "roofDamage 0.00043693022\n",
      "ownRent_Owner 0.0004340456\n",
      "householdComposition 0.000419329\n",
      "dvi 0.00036364052\n",
      "residenceType_Assisted Living Facility 0.0003314766\n",
      "specialNeeds 0.0003122912\n",
      "tsaEligible 0.00028718164\n",
      "foundationDamage 0.00024236165\n",
      "residenceType_College Dorm 0.00020471371\n",
      "residenceType_Other 0.0001590549\n",
      "ownRent_Unknown 0.00015378544\n",
      "haAmount 0.00011176285\n",
      "primaryResidence 0.00011137903\n",
      "ownRent_Renter 7.541998e-05\n",
      "residenceType_Mobile Home 6.9884074e-05\n",
      "residenceType_House/Duplex 2.5836775e-05\n",
      "residenceType_Apartment 2.5058313e-05\n",
      "residenceType_Condo 1.5955531e-05\n",
      "residenceType_Travel Trailer 0.0\n",
      "residenceType_Boat 0.0\n"
     ]
    }
   ],
   "source": [
    "for score, name in sorted(zip(model_xgb.feature_importances_, femaDf.columns), reverse=True):\n",
    "    print(name, score)"
   ]
  },
  {
   "cell_type": "markdown",
   "metadata": {},
   "source": [
    "### IHP - with rate demographics"
   ]
  },
  {
   "cell_type": "code",
   "execution_count": 99,
   "metadata": {},
   "outputs": [],
   "source": [
    "femaDf = femaTrainData[femaTrainData.columns[~femaTrainData.columns.isin(\n",
    "    ihp_exclude_cols + demo_exclude_cols + demo_dvi_col)]]"
   ]
  },
  {
   "cell_type": "code",
   "execution_count": 100,
   "metadata": {},
   "outputs": [
    {
     "name": "stdout",
     "output_type": "stream",
     "text": [
      "Shape of Training and Test inputs\n",
      "(2826930, 38) (2826930,)\n",
      "(706733, 38) (706733,)\n"
     ]
    }
   ],
   "source": [
    "model_xgb, y_pred, y_test = run_xgb(femaDf, 1.0)"
   ]
  },
  {
   "cell_type": "code",
   "execution_count": 101,
   "metadata": {},
   "outputs": [
    {
     "name": "stdout",
     "output_type": "stream",
     "text": [
      "Mean Absolute Error: 66.26800441728166\n",
      "Mean Squared Error: 284045.76846034196\n",
      "Root Mean Squared Error: 532.9594435417596\n",
      "R-squared: 0.9548259627885711\n",
      "\n",
      "\n",
      "Total HA Amount actual:    $385,808,834.81\n",
      "Total HA Amount predicted: $383,828,128.00\n",
      "\n",
      "\n",
      "Percentage of predictions that are off by more than 20%: 3.57\n"
     ]
    }
   ],
   "source": [
    "evaluate(y_test, y_pred)"
   ]
  },
  {
   "cell_type": "code",
   "execution_count": 102,
   "metadata": {},
   "outputs": [
    {
     "name": "stdout",
     "output_type": "stream",
     "text": [
      "repairAssistanceEligible 0.75546986\n",
      "rpfvl 0.067102484\n",
      "replacementAssistanceEligible 0.06492953\n",
      "rentalAssistanceEligible 0.058314614\n",
      "floodInsurance 0.020658107\n",
      "inspected 0.019295843\n",
      "residenceType_Townhouse 0.0030262067\n",
      "homeOwnersInsurance 0.0012855594\n",
      "habitabilityRepairsRequired 0.0011345813\n",
      "floodDamage 0.0008849901\n",
      "residenceType_Military Housing 0.0005658742\n",
      "roofDamage 0.00056454126\n",
      "waterLevel 0.00050741655\n",
      "destroyed 0.00050294725\n",
      "ownRent_Owner 0.000494882\n",
      "sbaEligible 0.0004777264\n",
      "residenceType_Correctional Facility 0.00045140545\n",
      "householdComposition 0.00043145203\n",
      "owner_occupied_rate 0.0004169364\n",
      "built_1979_or_earlier_rate 0.00041233443\n",
      "below_poverty_rate 0.00040515861\n",
      "unemployed_labor_rate 0.00034436106\n",
      "tsaEligible 0.00034320043\n",
      "residenceType_Assisted Living Facility 0.00031318032\n",
      "specialNeeds 0.0002840775\n",
      "residenceType_College Dorm 0.00025662023\n",
      "foundationDamage 0.00023956514\n",
      "ownRent_Unknown 0.00017963065\n",
      "residenceType_Other 0.00015645858\n",
      "haAmount 0.00014489198\n",
      "primaryResidence 0.0001182265\n",
      "residenceType_Apartment 0.000109920984\n",
      "residenceType_Mobile Home 0.00010856572\n",
      "ownRent_Renter 6.8689296e-05\n",
      "residenceType_Travel Trailer 0.0\n",
      "residenceType_House/Duplex 0.0\n",
      "residenceType_Condo 0.0\n",
      "residenceType_Boat 0.0\n"
     ]
    }
   ],
   "source": [
    "for score, name in sorted(zip(model_xgb.feature_importances_, femaDf.columns), reverse=True):\n",
    "    print(name, score)"
   ]
  },
  {
   "cell_type": "markdown",
   "metadata": {},
   "source": [
    "### Grid Search - IHP with DVI"
   ]
  },
  {
   "cell_type": "code",
   "execution_count": 103,
   "metadata": {},
   "outputs": [],
   "source": [
    "femaDf = femaTrainData[femaTrainData.columns[~femaTrainData.columns.isin(\n",
    "    ihp_exclude_cols + demo_exclude_cols + demo_rate_cols)]]"
   ]
  },
  {
   "cell_type": "code",
   "execution_count": 107,
   "metadata": {},
   "outputs": [
    {
     "name": "stdout",
     "output_type": "stream",
     "text": [
      "Shape of Training and Test inputs\n",
      "(2826930, 35) (2826930,)\n",
      "(706733, 35) (706733,)\n",
      "Fitting 3 folds for each of 54 candidates, totalling 162 fits\n",
      "Best params:\n",
      " {'learning_rate': 0.05, 'max_depth': 10, 'n_estimators': 100, 'objective': 'reg:squarederror', 'subsample': 0.9}\n"
     ]
    }
   ],
   "source": [
    "model_xgb_best, y_pred, y_test = run_xgb_grid_search(femaDf, 1.0)"
   ]
  },
  {
   "cell_type": "code",
   "execution_count": 108,
   "metadata": {},
   "outputs": [
    {
     "name": "stdout",
     "output_type": "stream",
     "text": [
      "Mean Absolute Error: 69.84277568056612\n",
      "Mean Squared Error: 288058.58864178555\n",
      "Root Mean Squared Error: 536.7108985681076\n",
      "R-squared: 0.9541877723688303\n",
      "\n",
      "\n",
      "Total HA Amount actual:    $385,808,834.81\n",
      "Total HA Amount predicted: $383,798,912.00\n",
      "\n",
      "\n",
      "Percentage of predictions that are off by more than 20%: 4.17\n"
     ]
    }
   ],
   "source": [
    "evaluate(y_test, y_pred)"
   ]
  },
  {
   "cell_type": "code",
   "execution_count": 109,
   "metadata": {},
   "outputs": [
    {
     "name": "stdout",
     "output_type": "stream",
     "text": [
      "repairAssistanceEligible 0.75546986\n",
      "rpfvl 0.067102484\n",
      "replacementAssistanceEligible 0.06492953\n",
      "rentalAssistanceEligible 0.058314614\n",
      "floodInsurance 0.020658107\n",
      "inspected 0.019295843\n",
      "homeOwnersInsurance 0.0012855594\n",
      "habitabilityRepairsRequired 0.0011345813\n",
      "floodDamage 0.0008849901\n",
      "residenceType_Townhouse 0.0005658742\n",
      "roofDamage 0.00056454126\n",
      "waterLevel 0.00050741655\n",
      "destroyed 0.00050294725\n",
      "residenceType_Apartment 0.000494882\n",
      "sbaEligible 0.0004777264\n",
      "residenceType_Mobile Home 0.00045140545\n",
      "householdComposition 0.00043145203\n",
      "ownRent_Renter 0.0004169364\n",
      "ownRent_Owner 0.00041233443\n",
      "dvi 0.00040515861\n",
      "haAmount 0.00034436106\n",
      "tsaEligible 0.00034320043\n",
      "residenceType_Condo 0.00031318032\n",
      "specialNeeds 0.0002840775\n",
      "residenceType_House/Duplex 0.00025662023\n",
      "foundationDamage 0.00023956514\n",
      "residenceType_Boat 0.00017963065\n",
      "residenceType_Unknown 0.00015645858\n",
      "ownRent_Unknown 0.00014489198\n",
      "primaryResidence 0.0001182265\n",
      "residenceType_College Dorm 0.000109920984\n",
      "residenceType_Travel Trailer 0.00010856572\n",
      "residenceType_Assisted Living Facility 6.8689296e-05\n",
      "residenceType_Other 0.0\n",
      "residenceType_Military Housing 0.0\n",
      "residenceType_Correctional Facility 0.0\n"
     ]
    }
   ],
   "source": [
    "for score, name in sorted(zip(model_xgb.feature_importances_, femaDf.columns), reverse=True):\n",
    "    print(name, score)"
   ]
  },
  {
   "cell_type": "code",
   "execution_count": 113,
   "metadata": {},
   "outputs": [
    {
     "data": {
      "image/png": "[encoded data removed]",
      "text/plain": [
       "<Figure size 1440x1440 with 1 Axes>"
      ]
     },
     "metadata": {
      "needs_background": "light"
     },
     "output_type": "display_data"
    }
   ],
   "source": [
    "plot_importance(model_xgb_best, importance_type='gain', show_values = False)\n",
    "plt.rcParams['figure.figsize'] = [20, 20]\n",
    "plt.show()"
   ]
  },
  {
   "cell_type": "code",
   "execution_count": 115,
   "metadata": {},
   "outputs": [],
   "source": [
    "# Save the model\n",
    "pickle.dump(model_xgb_best, open('xgb_boost_dvi.sav', 'wb'))"
   ]
  },
  {
   "cell_type": "code",
   "execution_count": 116,
   "metadata": {},
   "outputs": [
    {
     "data": {
      "text/plain": [
       "{'objective': 'reg:squarederror',\n",
       " 'base_score': 0.5,\n",
       " 'booster': 'gbtree',\n",
       " 'colsample_bylevel': 1,\n",
       " 'colsample_bynode': 1,\n",
       " 'colsample_bytree': 1,\n",
       " 'gamma': 0,\n",
       " 'gpu_id': -1,\n",
       " 'importance_type': 'gain',\n",
       " 'interaction_constraints': '',\n",
       " 'learning_rate': 0.05,\n",
       " 'max_delta_step': 0,\n",
       " 'max_depth': 10,\n",
       " 'min_child_weight': 1,\n",
       " 'missing': nan,\n",
       " 'monotone_constraints': '()',\n",
       " 'n_estimators': 100,\n",
       " 'n_jobs': 8,\n",
       " 'num_parallel_tree': 1,\n",
       " 'random_state': 42,\n",
       " 'reg_alpha': 0,\n",
       " 'reg_lambda': 1,\n",
       " 'scale_pos_weight': 1,\n",
       " 'subsample': 0.9,\n",
       " 'tree_method': 'exact',\n",
       " 'validate_parameters': 1,\n",
       " 'verbosity': None}"
      ]
     },
     "execution_count": 116,
     "metadata": {},
     "output_type": "execute_result"
    }
   ],
   "source": [
    "# Load saved model\n",
    "model_xgb_sav = pickle.load(open('xgb_boost.sav', 'rb'))\n",
    "model_xgb_sav.get_params()"
   ]
  },
  {
   "cell_type": "markdown",
   "metadata": {},
   "source": [
    "### GridSearch - IHP only, and min_child_weight"
   ]
  },
  {
   "cell_type": "code",
   "execution_count": 7,
   "metadata": {},
   "outputs": [],
   "source": [
    "femaDf = femaTrainData[femaTrainData.columns[~femaTrainData.columns.isin(\n",
    "    ihp_exclude_cols + demo_exclude_cols + demo_dvi_col + demo_rate_cols)]]"
   ]
  },
  {
   "cell_type": "code",
   "execution_count": 13,
   "metadata": {},
   "outputs": [
    {
     "name": "stdout",
     "output_type": "stream",
     "text": [
      "Shape of Training and Test inputs\n",
      "(2826930, 34) (2826930,)\n",
      "(706733, 34) (706733,)\n",
      "Fitting 3 folds for each of 72 candidates, totalling 216 fits\n",
      "Best params:\n",
      " {'learning_rate': 0.05, 'max_depth': 10, 'min_child_weight': 1, 'n_estimators': 100, 'objective': 'reg:squarederror', 'subsample': 0.8}\n"
     ]
    }
   ],
   "source": [
    "model_xgb_best, y_pred, y_test = run_xgb_grid_search(femaDf, 1.0)"
   ]
  },
  {
   "cell_type": "code",
   "execution_count": 14,
   "metadata": {},
   "outputs": [
    {
     "name": "stdout",
     "output_type": "stream",
     "text": [
      "Mean Absolute Error: 72.10994298388155\n",
      "Mean Squared Error: 292981.8393460768\n",
      "Root Mean Squared Error: 541.2779686501907\n",
      "R-squared: 0.9534047890076546\n",
      "\n",
      "\n",
      "Total HA Amount actual:    $385,808,834.81\n",
      "Total HA Amount predicted: $383,712,256.00\n",
      "\n",
      "\n",
      "Percentage of predictions that are off by more than 20%: 4.40\n"
     ]
    }
   ],
   "source": [
    "evaluate(y_test, y_pred)"
   ]
  },
  {
   "cell_type": "markdown",
   "metadata": {},
   "source": [
    "#### Variable Importance using Shapley (works best with smaller depth trees)\n",
    "\n",
    "https://towardsdatascience.com/explain-your-model-with-the-shap-values-bc36aac4de3d"
   ]
  },
  {
   "cell_type": "code",
   "execution_count": null,
   "metadata": {},
   "outputs": [],
   "source": [
    "shap_values = shap.TreeExplainer(model_xgb_best).shap_values(X_train)\n",
    "shap.summary_plot(shap_values, X_train, plot_type=\"bar\")"
   ]
  },
  {
   "cell_type": "code",
   "execution_count": null,
   "metadata": {},
   "outputs": [],
   "source": [
    "shap.summary_plot(shap_values, X_train)"
   ]
  }
 ],
 "metadata": {
  "kernelspec": {
   "display_name": "Python 3",
   "language": "python",
   "name": "python3"
  },
  "language_info": {
   "codemirror_mode": {
    "name": "ipython",
    "version": 3
   },
   "file_extension": ".py",
   "mimetype": "text/x-python",
   "name": "python",
   "nbconvert_exporter": "python",
   "pygments_lexer": "ipython3",
   "version": "3.6.10"
  }
 },
 "nbformat": 4,
 "nbformat_minor": 4
}
