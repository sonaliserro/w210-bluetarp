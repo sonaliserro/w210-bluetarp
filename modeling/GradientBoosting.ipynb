{
 "cells": [
  {
   "cell_type": "markdown",
   "metadata": {},
   "source": [
    "# Gradient Boosting Regressor"
   ]
  },
  {
   "cell_type": "code",
   "execution_count": 17,
   "metadata": {},
   "outputs": [],
   "source": [
    "# Basic libraries\n",
    "import geopandas as gpd\n",
    "import pandas as pd\n",
    "import numpy as np\n",
    "import pickle\n",
    "import warnings\n",
    "import time\n",
    "\n",
    "import seaborn as sns\n",
    "import matplotlib.pyplot as plt\n",
    "\n",
    "# Modeling\n",
    "from sklearn.ensemble import AdaBoostRegressor\n",
    "from sklearn.ensemble import GradientBoostingRegressor\n",
    "from sklearn.ensemble import VotingRegressor\n",
    "\n",
    "from sklearn.model_selection import train_test_split\n",
    "from sklearn.model_selection import GridSearchCV\n",
    "from sklearn.model_selection import cross_val_score, KFold\n",
    "from sklearn.feature_selection import SequentialFeatureSelector\n",
    "\n",
    "# Metrics\n",
    "from sklearn import metrics\n",
    "from sklearn.decomposition import PCA"
   ]
  },
  {
   "cell_type": "code",
   "execution_count": 4,
   "metadata": {},
   "outputs": [],
   "source": [
    "# Options\n",
    "warnings.filterwarnings('ignore')\n",
    "pd.set_option('display.max_rows', None)\n",
    "pd.set_option('display.max_columns', None)"
   ]
  },
  {
   "cell_type": "markdown",
   "metadata": {},
   "source": [
    "## Modeling"
   ]
  },
  {
   "cell_type": "markdown",
   "metadata": {},
   "source": [
    "Gradient boosting is an ensemble model that use boosting methods to optimize the loss function (squared error) of the generalized model.  Boosting methods operate in a stage-like fashion, and in gradient boosting a series of weak learners, typically decision tress, are created that iteratively build upon the preceeding learner to optimize the loss function in the final model. For instance, an initial weak learner is created that predicts HA Amount using some constant, in the next iteration a new weaker learner is created that is fitted to the residuals of the previous learner and so on and so forth.  The result is an ensemble model that minimizes the loss function using a gradient descent algorithm, hence the name Gradient Boosting.\n",
    "\n",
    "The following hyperparameters will be tuned for model optimization:\n",
    " - n-estimators: the number of weak learners (estimators) that will be used in the iterative boosting process\n",
    " - learning rate: shrinks the contribution of each tree.  Smaller learning rates are associated with improved generalizability but come at computational cost, as lower learning rates require greater iterations."
   ]
  },
  {
   "cell_type": "code",
   "execution_count": 5,
   "metadata": {},
   "outputs": [],
   "source": [
    "# Load FL/TX data\n",
    "df = pd.read_csv(\"../data/open-fema/FEMA-Large-Demographics-FL-TX.csv\")"
   ]
  },
  {
   "cell_type": "code",
   "execution_count": 21,
   "metadata": {},
   "outputs": [],
   "source": [
    "def gradient_boost(data=df, n_estimators=100, learning_rate=1, max_depth=3):\n",
    "    \n",
    "    # Split the data into train and test data\n",
    "    X = data.loc[:, data.columns != 'haAmount']\n",
    "    y = data.loc[:, 'haAmount']\n",
    "    X_train, X_test, y_train, y_test = train_test_split(X, y, test_size = 0.2, shuffle = True, random_state=42)\n",
    "\n",
    "    # Gradient Boosting - fit the model\n",
    "    gbm = GradientBoostingRegressor(n_estimators=n_estimators,\n",
    "                                    learning_rate=learning_rate,\n",
    "                                    max_depth=max_depth,\n",
    "                                    random_state=0)\n",
    "    gbm.fit(X_train, y_train)\n",
    "\n",
    "    # Predict\n",
    "    y_pred = gbm.predict(X_test)\n",
    "    \n",
    "    # Parameters and results\n",
    "    print('Gradient Boosting Regressor')\n",
    "    print('Features: {}'.format(X_train.shape[1]))\n",
    "    print('R^2 score: {:.4f}'.format(metrics.r2_score(y_test, y_pred)))\n",
    "    print('MAE: {:.2f}'.format(metrics.mean_absolute_error(y_test, y_pred)))\n",
    "    print('MSE: {:.2f}'.format(metrics.mean_squared_error(y_test, y_pred)))\n",
    "    print('RMSE: {:.2f}'.format(np.sqrt(metrics.mean_squared_error(y_test, y_pred))))\n",
    "    \n",
    "    return(gbm)"
   ]
  },
  {
   "cell_type": "markdown",
   "metadata": {},
   "source": [
    "### FEMA Only"
   ]
  },
  {
   "cell_type": "code",
   "execution_count": 22,
   "metadata": {},
   "outputs": [],
   "source": [
    "def transform_fema(data):\n",
    "    '''Specified transforms are applied to the data in advance\n",
    "    of the modeling stage, feature engineering and/or scaling,\n",
    "    Accepts input of dataframe, outputs transformed dataframe.\n",
    "    '''\n",
    "    \n",
    "    # Define columns\n",
    "    cols = ['householdComposition', 'specialNeeds', 'homeOwnersInsurance', 'floodInsurance', 'inspected',\n",
    "            'rpfvl', 'habitabilityRepairsRequired', 'destroyed', 'waterLevel', 'floodDamage',\n",
    "            'foundationDamage', 'roofDamage', 'tsaEligible', 'rentalAssistanceEligible', 'repairAssistanceEligible',\n",
    "            'replacementAssistanceEligible', 'sbaEligible', 'primaryResidence', 'haAmount', 'ownRent_Owner',\n",
    "            'ownRent_Renter', 'ownRent_Unknown', 'residenceType_Apartment', 'residenceType_Assisted Living Facility',\n",
    "            'residenceType_Boat', 'residenceType_College Dorm', 'residenceType_Condo',\n",
    "            'residenceType_Correctional Facility', 'residenceType_House/Duplex', 'residenceType_Military Housing',\n",
    "            'residenceType_Mobile Home', 'residenceType_Other', 'residenceType_Townhouse',\n",
    "            'residenceType_Travel Trailer' ,'residenceType_Unknown']\n",
    "    \n",
    "    # Select columns\n",
    "    data = data.loc[:, cols]\n",
    "    \n",
    "    return(data)"
   ]
  },
  {
   "cell_type": "code",
   "execution_count": 24,
   "metadata": {},
   "outputs": [
    {
     "name": "stdout",
     "output_type": "stream",
     "text": [
      "Gradient Boosting Regressor\n",
      "Features: 34\n",
      "R^2 score: 0.9475\n",
      "MAE: 91.88\n",
      "MSE: 330067.43\n",
      "RMSE: 574.51\n"
     ]
    }
   ],
   "source": [
    "# Transform\n",
    "df_fema = transform_fema(df)\n",
    "\n",
    "# GradientBoost with Fema only\n",
    "gbm = gradient_boost(data=df_fema, n_estimators=100,\n",
    "                                   learning_rate=1,\n",
    "                                   max_depth=3)\n",
    "\n",
    "# Save the model\n",
    "pickle.dump(gbm, open('gbm-fema-first.sav', 'wb'))"
   ]
  },
  {
   "cell_type": "code",
   "execution_count": 25,
   "metadata": {},
   "outputs": [
    {
     "name": "stdout",
     "output_type": "stream",
     "text": [
      "GradientBoostingRegressor(learning_rate=1, random_state=0)\n"
     ]
    }
   ],
   "source": [
    "# Load saved model\n",
    "gbm = pickle.load(open('gbm-fema-first.sav', 'rb'))\n",
    "print(gbm)"
   ]
  },
  {
   "cell_type": "code",
   "execution_count": null,
   "metadata": {},
   "outputs": [],
   "source": [
    "def plot_importance(data, model):\n",
    "\n",
    "    # Feature importance\n",
    "    df_trim = data.loc[:, data.columns != 'haAmount']\n",
    "    importance = pd.DataFrame({'feature': df_trim.columns, 'importance': model.feature_importances_})\n",
    "    importance.sort_values(by='importance', ascending=True, inplace=True)\n",
    "    trimmed_features = importance.loc[importance['importance'] > 0.001]\n",
    "    \n",
    "    # Plot feature importance\n",
    "    fig, ax = plt.subplots(figsize = (6,6))\n",
    "    ax.barh(trimmed_features['feature'], trimmed_features['importance'])\n",
    "    ax.set_title('AdaBoost: Feature Importance (n-estimators={})'.format(model.get_params()['n_estimators']))\n",
    "    ax.set_ylabel('Importance')\n",
    "    ax.set_xlabel('Features')\n",
    "    \n",
    "    # Sort descending\n",
    "    importance.sort_values(by='importance', ascending=False, inplace=True)\n",
    "    \n",
    "    return(importance)\n",
    "\n",
    "# Plot importance\n",
    "ada_best_features = plot_importance(data=df_fema, model=ada_best)"
   ]
  },
  {
   "cell_type": "code",
   "execution_count": 84,
   "metadata": {},
   "outputs": [
    {
     "data": {
      "image/png": "[encoded data removed]",
      "text/plain": [
       "<Figure size 432x432 with 1 Axes>"
      ]
     },
     "metadata": {
      "needs_background": "light"
     },
     "output_type": "display_data"
    }
   ],
   "source": [
    "# Plot importance\n",
    "gbm_features = plot_importance(data=df_fema, model=gbm)"
   ]
  },
  {
   "cell_type": "code",
   "execution_count": 42,
   "metadata": {},
   "outputs": [],
   "source": [
    "def plot_residuals(data, model):\n",
    "    \n",
    "    # Split the data into train and test data\n",
    "    X = data.loc[:, data.columns != 'haAmount']\n",
    "    y = data.loc[:, 'haAmount']\n",
    "    X_train, X_test, y_train, y_test = train_test_split(X, y, test_size = 0.2, shuffle = True, random_state=42)\n",
    "             \n",
    "    # Predict\n",
    "    y_pred = gbm.predict(X_test)\n",
    "\n",
    "    # Plot residuals\n",
    "    fig, ax = plt.subplots(figsize = (7,4.5))\n",
    "    ax.scatter(y_pred, y_pred - y_test, color='black', s=20)\n",
    "    ax.hlines(y=0, xmin= -30000, xmax=45000, colors='red')\n",
    "\n",
    "    ax.set_title('Residuals: Variance of Fitted Values')\n",
    "    ax.set_xlabel('Predicted HA Amount')\n",
    "    ax.set_ylabel('Variance from actual')"
   ]
  },
  {
   "cell_type": "code",
   "execution_count": 43,
   "metadata": {},
   "outputs": [
    {
     "data": {
      "image/png": "[encoded data removed]",
      "text/plain": [
       "<Figure size 504x324 with 1 Axes>"
      ]
     },
     "metadata": {
      "needs_background": "light"
     },
     "output_type": "display_data"
    }
   ],
   "source": [
    "# PLot residuals\n",
    "plot_residuals(data=df_fema, model=gbm)"
   ]
  },
  {
   "cell_type": "markdown",
   "metadata": {},
   "source": [
    "### Grid Search - FEMA Only"
   ]
  },
  {
   "cell_type": "code",
   "execution_count": 61,
   "metadata": {},
   "outputs": [],
   "source": [
    "def gradient_boost_optimizer(data=df):\n",
    "    '''Fit GridSearchCV using GradientBoosting regression for various\n",
    "    parameters. Accepts input of full_data and returns (prints)\n",
    "    the best model score and corresponding parameters.\n",
    "    '''\n",
    "    \n",
    "    # Start time\n",
    "    start_time = time.time()\n",
    "    \n",
    "    # Split the data into train and test data\n",
    "    X = data.loc[:, data.columns != 'haAmount']\n",
    "    y = data.loc[:, 'haAmount']\n",
    "    X_train, X_test, y_train, y_test = train_test_split(X, y, test_size = 0.2, shuffle = True, random_state=42)\n",
    "\n",
    "    # Parameters\n",
    "    model = GradientBoostingRegressor(random_state=0)\n",
    "    param_grid = {'n_estimators': np.array([100, 150, 200]),\n",
    "                  'learning_rate': np.array([0.01, 0.1, 0.5]),\n",
    "                  'max_depth': np.array([3, 6]),\n",
    "                  'criterion': ['friedman_mse']}\n",
    "    \n",
    "    # Fit grid search\n",
    "    grid_search = GridSearchCV(estimator=model, param_grid=param_grid, cv=3)\n",
    "    grid_search.fit(X_train, y_train)\n",
    "\n",
    "    # Make predictions\n",
    "    y_pred = grid_search.predict(X_test)\n",
    "\n",
    "    # summarize the results of the grid search\n",
    "    print('AdaBoost Regressor')\n",
    "    print('Best score: {:.3f}'.format(grid_search.best_score_))\n",
    "    print('Best estimator: {}'.format(grid_search.best_estimator_.n_estimators))\n",
    "    print('Best learning rate: {:.2f}'.format(grid_search.best_estimator_.learning_rate))\n",
    "    print('Best depth: {}'.format(grid_search.best_estimator_.max_depth))\n",
    "    print('Best loss: {}'.format(grid_search.best_estimator_.loss))\n",
    "    \n",
    "    print('\\nTime (seconds): {:.0f} '.format(time.time() - start_time))\n",
    "    print('Time (minutes): {:.1f}'.format((time.time() - start_time)/60))\n",
    "    \n",
    "    return(grid_search)"
   ]
  },
  {
   "cell_type": "code",
   "execution_count": 62,
   "metadata": {},
   "outputs": [
    {
     "name": "stdout",
     "output_type": "stream",
     "text": [
      "AdaBoost Regressor\n",
      "Best score: 0.953\n",
      "Best estimator: 100\n",
      "Best learning rate: 0.10\n",
      "Best depth: 100\n",
      "Best loss: ls\n",
      "\n",
      "Time (seconds): 43173 \n",
      "Time (minutes): 719.6\n"
     ]
    },
    {
     "data": {
      "text/plain": [
       "GridSearchCV(cv=3, estimator=GradientBoostingRegressor(random_state=0),\n",
       "             param_grid={'criterion': ['friedman_mse'],\n",
       "                         'learning_rate': array([0.01, 0.1 , 0.5 ]),\n",
       "                         'max_depth': array([3, 6]),\n",
       "                         'n_estimators': array([100, 150, 200])})"
      ]
     },
     "execution_count": 62,
     "metadata": {},
     "output_type": "execute_result"
    }
   ],
   "source": [
    "# GridSearch - Fema only\n",
    "gradient_boost_optimizer(df_fema)"
   ]
  },
  {
   "cell_type": "markdown",
   "metadata": {},
   "source": [
    "### FEMA Only - Gradient Boosting Best Model"
   ]
  },
  {
   "cell_type": "code",
   "execution_count": 64,
   "metadata": {},
   "outputs": [
    {
     "name": "stdout",
     "output_type": "stream",
     "text": [
      "Gradient Boosting Regressor\n",
      "Features: 34\n",
      "R^2 score: 0.9529\n",
      "MAE: 75.71\n",
      "MSE: 296119.90\n",
      "RMSE: 544.17\n"
     ]
    }
   ],
   "source": [
    "# GradientBoost with Fema only\n",
    "gbm_best = gradient_boost(data=df_fema, n_estimators=100,\n",
    "                                        learning_rate=0.1,\n",
    "                                        max_depth=6)\n",
    "\n",
    "# Save the model\n",
    "pickle.dump(gbm_best, open('gbm-fema.sav', 'wb'))"
   ]
  },
  {
   "cell_type": "code",
   "execution_count": 65,
   "metadata": {},
   "outputs": [
    {
     "name": "stdout",
     "output_type": "stream",
     "text": [
      "GradientBoostingRegressor(max_depth=6, random_state=0)\n"
     ]
    }
   ],
   "source": [
    "# Load saved model\n",
    "gbm_best = pickle.load(open('gbm-fema.sav', 'rb'))\n",
    "print(gbm_best)"
   ]
  },
  {
   "cell_type": "markdown",
   "metadata": {},
   "source": [
    "### FEMA with Basic Demographics "
   ]
  },
  {
   "cell_type": "code",
   "execution_count": 66,
   "metadata": {},
   "outputs": [],
   "source": [
    "def transform_demo_basic(data):\n",
    "    '''Specified transforms are applied to the data in advance\n",
    "    of the modeling stage, feature engineering and/or scaling,\n",
    "    Accepts input of dataframe, outputs transformed dataframe.'''\n",
    "    \n",
    "    # Define columns\n",
    "    cols = ['householdComposition', 'specialNeeds', 'homeOwnersInsurance', 'floodInsurance', 'inspected',\n",
    "            'rpfvl', 'habitabilityRepairsRequired', 'destroyed', 'waterLevel', 'floodDamage',\n",
    "            'foundationDamage', 'roofDamage', 'tsaEligible', 'rentalAssistanceEligible', 'repairAssistanceEligible',\n",
    "            'replacementAssistanceEligible', 'sbaEligible', 'primaryResidence', 'haAmount', 'ownRent_Owner',\n",
    "            'ownRent_Renter', 'ownRent_Unknown', 'residenceType_Apartment', 'residenceType_Assisted Living Facility',\n",
    "            'residenceType_Boat', 'residenceType_College Dorm', 'residenceType_Condo',\n",
    "            'residenceType_Correctional Facility', 'residenceType_House/Duplex', 'residenceType_Military Housing',\n",
    "            'residenceType_Mobile Home', 'residenceType_Other', 'residenceType_Townhouse',\n",
    "            'residenceType_Travel Trailer' ,'residenceType_Unknown', 'below_poverty_rate', 'median_earnings_total',\n",
    "            'unemployed_labor_rate', 'built_1979_or_earlier_rate', 'owner_occupied_rate']\n",
    "    \n",
    "    # Select columns\n",
    "    data = data.loc[:, cols]\n",
    "    \n",
    "    return(data)"
   ]
  },
  {
   "cell_type": "code",
   "execution_count": 67,
   "metadata": {
    "scrolled": true
   },
   "outputs": [
    {
     "name": "stdout",
     "output_type": "stream",
     "text": [
      "Gradient Boosting Regressor\n",
      "Features: 39\n",
      "R^2 score: 0.9536\n",
      "MAE: 72.71\n",
      "MSE: 291527.91\n",
      "RMSE: 539.93\n"
     ]
    }
   ],
   "source": [
    "# Transform\n",
    "df_demo = transform_demo_basic(df)\n",
    "\n",
    "# AdaBoost with basic demographics\n",
    "gbm_demo = gradient_boost(data=df_demo, n_estimators=100,\n",
    "                                        learning_rate=0.1,\n",
    "                                        max_depth=6)\n",
    "\n",
    "# Save the model\n",
    "pickle.dump(gbm_demo, open('gbm-demo.sav', 'wb'))"
   ]
  },
  {
   "cell_type": "code",
   "execution_count": 79,
   "metadata": {},
   "outputs": [
    {
     "name": "stdout",
     "output_type": "stream",
     "text": [
      "GradientBoostingRegressor(max_depth=6, random_state=0)\n"
     ]
    }
   ],
   "source": [
    "# Load saved model\n",
    "gbm_demo = pickle.load(open('gbm-demo.sav', 'rb'))\n",
    "print(gbm_demo)"
   ]
  },
  {
   "cell_type": "code",
   "execution_count": 80,
   "metadata": {},
   "outputs": [
    {
     "data": {
      "image/png": "[encoded data removed]",
      "text/plain": [
       "<Figure size 504x360 with 1 Axes>"
      ]
     },
     "metadata": {
      "needs_background": "light"
     },
     "output_type": "display_data"
    }
   ],
   "source": [
    "# Plot importance\n",
    "gbm_demo_features = plot_importance(data=df_demo, model=gbm_demo)"
   ]
  },
  {
   "cell_type": "code",
   "execution_count": null,
   "metadata": {},
   "outputs": [],
   "source": [
    "### Grid Search - FEMA with Demographics"
   ]
  },
  {
   "cell_type": "code",
   "execution_count": null,
   "metadata": {},
   "outputs": [],
   "source": [
    "# GridSearch - Fema with demographics\n",
    "#gbmboost_optimizer(df_demo)"
   ]
  },
  {
   "cell_type": "markdown",
   "metadata": {},
   "source": [
    "### FEMA with DVI"
   ]
  },
  {
   "cell_type": "code",
   "execution_count": 72,
   "metadata": {},
   "outputs": [],
   "source": [
    "def transform_demo_dvi(data):\n",
    "    '''Specified transforms are applied to the data in advance\n",
    "    of the modeling stage, feature engineering and/or scaling,\n",
    "    Accepts input of dataframe, outputs transformed dataframe.'''\n",
    "   \n",
    "    # Define columns\n",
    "    cols = ['householdComposition', 'specialNeeds', 'homeOwnersInsurance', 'floodInsurance', 'inspected',\n",
    "           'rpfvl', 'habitabilityRepairsRequired', 'destroyed', 'waterLevel', 'floodDamage',\n",
    "           'foundationDamage', 'roofDamage', 'tsaEligible', 'rentalAssistanceEligible', 'repairAssistanceEligible',\n",
    "           'replacementAssistanceEligible', 'sbaEligible', 'primaryResidence', 'haAmount', 'ownRent_Owner',\n",
    "           'ownRent_Renter', 'ownRent_Unknown', 'residenceType_Apartment', 'residenceType_Assisted Living Facility',\n",
    "           'residenceType_Boat', 'residenceType_College Dorm', 'residenceType_Condo',\n",
    "           'residenceType_Correctional Facility', 'residenceType_House/Duplex', 'residenceType_Military Housing',\n",
    "           'residenceType_Mobile Home', 'residenceType_Other', 'residenceType_Townhouse',\n",
    "           'residenceType_Travel Trailer' ,'residenceType_Unknown', 'dvi']\n",
    "   \n",
    "    # Select columns\n",
    "    data = data.loc[:, cols]\n",
    "   \n",
    "    return(data)"
   ]
  },
  {
   "cell_type": "code",
   "execution_count": 81,
   "metadata": {},
   "outputs": [
    {
     "name": "stdout",
     "output_type": "stream",
     "text": [
      "Gradient Boosting Regressor\n",
      "Features: 35\n",
      "R^2 score: 0.9531\n",
      "MAE: 75.50\n",
      "MSE: 294592.84\n",
      "RMSE: 542.76\n"
     ]
    }
   ],
   "source": [
    "# Transform\n",
    "df_dvi = transform_demo_dvi(df)\n",
    "\n",
    "# AdaBoost with DVI\n",
    "gbm_dvi = gradient_boost(data=df_dvi, n_estimators=100,\n",
    "                                       learning_rate=0.1,\n",
    "                                       max_depth=6)\n",
    "\n",
    "# Save the model\n",
    "pickle.dump(gbm_dvi, open('gbm-dvi.sav', 'wb'))"
   ]
  },
  {
   "cell_type": "code",
   "execution_count": 82,
   "metadata": {},
   "outputs": [
    {
     "name": "stdout",
     "output_type": "stream",
     "text": [
      "GradientBoostingRegressor(max_depth=6, random_state=0)\n"
     ]
    }
   ],
   "source": [
    "# Load saved model\n",
    "gbm_dvi = pickle.load(open('gbm-dvi.sav', 'rb'))\n",
    "print(gbm_dvi)"
   ]
  },
  {
   "cell_type": "code",
   "execution_count": 76,
   "metadata": {},
   "outputs": [
    {
     "ename": "ValueError",
     "evalue": "arrays must all be same length",
     "output_type": "error",
     "traceback": [
      "\u001b[1;31m---------------------------------------------------------------------------\u001b[0m",
      "\u001b[1;31mValueError\u001b[0m                                Traceback (most recent call last)",
      "\u001b[1;32m<ipython-input-76-eab405904d7c>\u001b[0m in \u001b[0;36m<module>\u001b[1;34m\u001b[0m\n\u001b[0;32m      1\u001b[0m \u001b[1;31m# Plot importance\u001b[0m\u001b[1;33m\u001b[0m\u001b[1;33m\u001b[0m\u001b[1;33m\u001b[0m\u001b[0m\n\u001b[1;32m----> 2\u001b[1;33m \u001b[0mgbm_dvi_features\u001b[0m \u001b[1;33m=\u001b[0m \u001b[0mplot_importance\u001b[0m\u001b[1;33m(\u001b[0m\u001b[0mdata\u001b[0m\u001b[1;33m=\u001b[0m\u001b[0mdf_dvi\u001b[0m\u001b[1;33m,\u001b[0m \u001b[0mmodel\u001b[0m\u001b[1;33m=\u001b[0m\u001b[0mgbm_dvi\u001b[0m\u001b[1;33m)\u001b[0m\u001b[1;33m\u001b[0m\u001b[1;33m\u001b[0m\u001b[0m\n\u001b[0m",
      "\u001b[1;32m<ipython-input-44-133c00d6f11a>\u001b[0m in \u001b[0;36mplot_importance\u001b[1;34m(data, model)\u001b[0m\n\u001b[0;32m      3\u001b[0m     \u001b[1;31m# Feature importance\u001b[0m\u001b[1;33m\u001b[0m\u001b[1;33m\u001b[0m\u001b[1;33m\u001b[0m\u001b[0m\n\u001b[0;32m      4\u001b[0m     \u001b[0mdf_trim\u001b[0m \u001b[1;33m=\u001b[0m \u001b[0mdata\u001b[0m\u001b[1;33m.\u001b[0m\u001b[0mloc\u001b[0m\u001b[1;33m[\u001b[0m\u001b[1;33m:\u001b[0m\u001b[1;33m,\u001b[0m \u001b[0mdata\u001b[0m\u001b[1;33m.\u001b[0m\u001b[0mcolumns\u001b[0m \u001b[1;33m!=\u001b[0m \u001b[1;34m'haAmount'\u001b[0m\u001b[1;33m]\u001b[0m\u001b[1;33m\u001b[0m\u001b[1;33m\u001b[0m\u001b[0m\n\u001b[1;32m----> 5\u001b[1;33m     \u001b[0mimportance\u001b[0m \u001b[1;33m=\u001b[0m \u001b[0mpd\u001b[0m\u001b[1;33m.\u001b[0m\u001b[0mDataFrame\u001b[0m\u001b[1;33m(\u001b[0m\u001b[1;33m{\u001b[0m\u001b[1;34m'feature'\u001b[0m\u001b[1;33m:\u001b[0m \u001b[0mdf_trim\u001b[0m\u001b[1;33m.\u001b[0m\u001b[0mcolumns\u001b[0m\u001b[1;33m,\u001b[0m \u001b[1;34m'importance'\u001b[0m\u001b[1;33m:\u001b[0m \u001b[0mmodel\u001b[0m\u001b[1;33m.\u001b[0m\u001b[0mfeature_importances_\u001b[0m\u001b[1;33m}\u001b[0m\u001b[1;33m)\u001b[0m\u001b[1;33m\u001b[0m\u001b[1;33m\u001b[0m\u001b[0m\n\u001b[0m\u001b[0;32m      6\u001b[0m     \u001b[0mimportance\u001b[0m\u001b[1;33m.\u001b[0m\u001b[0msort_values\u001b[0m\u001b[1;33m(\u001b[0m\u001b[0mby\u001b[0m\u001b[1;33m=\u001b[0m\u001b[1;34m'importance'\u001b[0m\u001b[1;33m,\u001b[0m \u001b[0mascending\u001b[0m\u001b[1;33m=\u001b[0m\u001b[1;32mTrue\u001b[0m\u001b[1;33m,\u001b[0m \u001b[0minplace\u001b[0m\u001b[1;33m=\u001b[0m\u001b[1;32mTrue\u001b[0m\u001b[1;33m)\u001b[0m\u001b[1;33m\u001b[0m\u001b[1;33m\u001b[0m\u001b[0m\n\u001b[0;32m      7\u001b[0m     \u001b[0mtrimmed_features\u001b[0m \u001b[1;33m=\u001b[0m \u001b[0mimportance\u001b[0m\u001b[1;33m.\u001b[0m\u001b[0mloc\u001b[0m\u001b[1;33m[\u001b[0m\u001b[0mimportance\u001b[0m\u001b[1;33m[\u001b[0m\u001b[1;34m'importance'\u001b[0m\u001b[1;33m]\u001b[0m \u001b[1;33m>\u001b[0m \u001b[1;36m0.001\u001b[0m\u001b[1;33m]\u001b[0m\u001b[1;33m\u001b[0m\u001b[1;33m\u001b[0m\u001b[0m\n",
      "\u001b[1;32m~\\AppData\\Roaming\\Python\\Python37\\site-packages\\pandas\\core\\frame.py\u001b[0m in \u001b[0;36m__init__\u001b[1;34m(self, data, index, columns, dtype, copy)\u001b[0m\n\u001b[0;32m    527\u001b[0m \u001b[1;33m\u001b[0m\u001b[0m\n\u001b[0;32m    528\u001b[0m         \u001b[1;32melif\u001b[0m \u001b[0misinstance\u001b[0m\u001b[1;33m(\u001b[0m\u001b[0mdata\u001b[0m\u001b[1;33m,\u001b[0m \u001b[0mdict\u001b[0m\u001b[1;33m)\u001b[0m\u001b[1;33m:\u001b[0m\u001b[1;33m\u001b[0m\u001b[1;33m\u001b[0m\u001b[0m\n\u001b[1;32m--> 529\u001b[1;33m             \u001b[0mmgr\u001b[0m \u001b[1;33m=\u001b[0m \u001b[0minit_dict\u001b[0m\u001b[1;33m(\u001b[0m\u001b[0mdata\u001b[0m\u001b[1;33m,\u001b[0m \u001b[0mindex\u001b[0m\u001b[1;33m,\u001b[0m \u001b[0mcolumns\u001b[0m\u001b[1;33m,\u001b[0m \u001b[0mdtype\u001b[0m\u001b[1;33m=\u001b[0m\u001b[0mdtype\u001b[0m\u001b[1;33m)\u001b[0m\u001b[1;33m\u001b[0m\u001b[1;33m\u001b[0m\u001b[0m\n\u001b[0m\u001b[0;32m    530\u001b[0m         \u001b[1;32melif\u001b[0m \u001b[0misinstance\u001b[0m\u001b[1;33m(\u001b[0m\u001b[0mdata\u001b[0m\u001b[1;33m,\u001b[0m \u001b[0mma\u001b[0m\u001b[1;33m.\u001b[0m\u001b[0mMaskedArray\u001b[0m\u001b[1;33m)\u001b[0m\u001b[1;33m:\u001b[0m\u001b[1;33m\u001b[0m\u001b[1;33m\u001b[0m\u001b[0m\n\u001b[0;32m    531\u001b[0m             \u001b[1;32mimport\u001b[0m \u001b[0mnumpy\u001b[0m\u001b[1;33m.\u001b[0m\u001b[0mma\u001b[0m\u001b[1;33m.\u001b[0m\u001b[0mmrecords\u001b[0m \u001b[1;32mas\u001b[0m \u001b[0mmrecords\u001b[0m\u001b[1;33m\u001b[0m\u001b[1;33m\u001b[0m\u001b[0m\n",
      "\u001b[1;32m~\\AppData\\Roaming\\Python\\Python37\\site-packages\\pandas\\core\\internals\\construction.py\u001b[0m in \u001b[0;36minit_dict\u001b[1;34m(data, index, columns, dtype)\u001b[0m\n\u001b[0;32m    285\u001b[0m             \u001b[0marr\u001b[0m \u001b[1;32mif\u001b[0m \u001b[1;32mnot\u001b[0m \u001b[0mis_datetime64tz_dtype\u001b[0m\u001b[1;33m(\u001b[0m\u001b[0marr\u001b[0m\u001b[1;33m)\u001b[0m \u001b[1;32melse\u001b[0m \u001b[0marr\u001b[0m\u001b[1;33m.\u001b[0m\u001b[0mcopy\u001b[0m\u001b[1;33m(\u001b[0m\u001b[1;33m)\u001b[0m \u001b[1;32mfor\u001b[0m \u001b[0marr\u001b[0m \u001b[1;32min\u001b[0m \u001b[0marrays\u001b[0m\u001b[1;33m\u001b[0m\u001b[1;33m\u001b[0m\u001b[0m\n\u001b[0;32m    286\u001b[0m         ]\n\u001b[1;32m--> 287\u001b[1;33m     \u001b[1;32mreturn\u001b[0m \u001b[0marrays_to_mgr\u001b[0m\u001b[1;33m(\u001b[0m\u001b[0marrays\u001b[0m\u001b[1;33m,\u001b[0m \u001b[0mdata_names\u001b[0m\u001b[1;33m,\u001b[0m \u001b[0mindex\u001b[0m\u001b[1;33m,\u001b[0m \u001b[0mcolumns\u001b[0m\u001b[1;33m,\u001b[0m \u001b[0mdtype\u001b[0m\u001b[1;33m=\u001b[0m\u001b[0mdtype\u001b[0m\u001b[1;33m)\u001b[0m\u001b[1;33m\u001b[0m\u001b[1;33m\u001b[0m\u001b[0m\n\u001b[0m\u001b[0;32m    288\u001b[0m \u001b[1;33m\u001b[0m\u001b[0m\n\u001b[0;32m    289\u001b[0m \u001b[1;33m\u001b[0m\u001b[0m\n",
      "\u001b[1;32m~\\AppData\\Roaming\\Python\\Python37\\site-packages\\pandas\\core\\internals\\construction.py\u001b[0m in \u001b[0;36marrays_to_mgr\u001b[1;34m(arrays, arr_names, index, columns, dtype, verify_integrity)\u001b[0m\n\u001b[0;32m     78\u001b[0m         \u001b[1;31m# figure out the index, if necessary\u001b[0m\u001b[1;33m\u001b[0m\u001b[1;33m\u001b[0m\u001b[1;33m\u001b[0m\u001b[0m\n\u001b[0;32m     79\u001b[0m         \u001b[1;32mif\u001b[0m \u001b[0mindex\u001b[0m \u001b[1;32mis\u001b[0m \u001b[1;32mNone\u001b[0m\u001b[1;33m:\u001b[0m\u001b[1;33m\u001b[0m\u001b[1;33m\u001b[0m\u001b[0m\n\u001b[1;32m---> 80\u001b[1;33m             \u001b[0mindex\u001b[0m \u001b[1;33m=\u001b[0m \u001b[0mextract_index\u001b[0m\u001b[1;33m(\u001b[0m\u001b[0marrays\u001b[0m\u001b[1;33m)\u001b[0m\u001b[1;33m\u001b[0m\u001b[1;33m\u001b[0m\u001b[0m\n\u001b[0m\u001b[0;32m     81\u001b[0m         \u001b[1;32melse\u001b[0m\u001b[1;33m:\u001b[0m\u001b[1;33m\u001b[0m\u001b[1;33m\u001b[0m\u001b[0m\n\u001b[0;32m     82\u001b[0m             \u001b[0mindex\u001b[0m \u001b[1;33m=\u001b[0m \u001b[0mensure_index\u001b[0m\u001b[1;33m(\u001b[0m\u001b[0mindex\u001b[0m\u001b[1;33m)\u001b[0m\u001b[1;33m\u001b[0m\u001b[1;33m\u001b[0m\u001b[0m\n",
      "\u001b[1;32m~\\AppData\\Roaming\\Python\\Python37\\site-packages\\pandas\\core\\internals\\construction.py\u001b[0m in \u001b[0;36mextract_index\u001b[1;34m(data)\u001b[0m\n\u001b[0;32m    399\u001b[0m             \u001b[0mlengths\u001b[0m \u001b[1;33m=\u001b[0m \u001b[0mlist\u001b[0m\u001b[1;33m(\u001b[0m\u001b[0mset\u001b[0m\u001b[1;33m(\u001b[0m\u001b[0mraw_lengths\u001b[0m\u001b[1;33m)\u001b[0m\u001b[1;33m)\u001b[0m\u001b[1;33m\u001b[0m\u001b[1;33m\u001b[0m\u001b[0m\n\u001b[0;32m    400\u001b[0m             \u001b[1;32mif\u001b[0m \u001b[0mlen\u001b[0m\u001b[1;33m(\u001b[0m\u001b[0mlengths\u001b[0m\u001b[1;33m)\u001b[0m \u001b[1;33m>\u001b[0m \u001b[1;36m1\u001b[0m\u001b[1;33m:\u001b[0m\u001b[1;33m\u001b[0m\u001b[1;33m\u001b[0m\u001b[0m\n\u001b[1;32m--> 401\u001b[1;33m                 \u001b[1;32mraise\u001b[0m \u001b[0mValueError\u001b[0m\u001b[1;33m(\u001b[0m\u001b[1;34m\"arrays must all be same length\"\u001b[0m\u001b[1;33m)\u001b[0m\u001b[1;33m\u001b[0m\u001b[1;33m\u001b[0m\u001b[0m\n\u001b[0m\u001b[0;32m    402\u001b[0m \u001b[1;33m\u001b[0m\u001b[0m\n\u001b[0;32m    403\u001b[0m             \u001b[1;32mif\u001b[0m \u001b[0mhave_dicts\u001b[0m\u001b[1;33m:\u001b[0m\u001b[1;33m\u001b[0m\u001b[1;33m\u001b[0m\u001b[0m\n",
      "\u001b[1;31mValueError\u001b[0m: arrays must all be same length"
     ]
    }
   ],
   "source": [
    "# Plot importance\n",
    "gbm_dvi_features = plot_importance(data=df_dvi, model=gbm_dvi)"
   ]
  },
  {
   "cell_type": "code",
   "execution_count": null,
   "metadata": {},
   "outputs": [],
   "source": [
    "### Grid Search - FEMA with DVI"
   ]
  },
  {
   "cell_type": "code",
   "execution_count": null,
   "metadata": {},
   "outputs": [],
   "source": [
    "# GridSearch - Fema with DVI\n",
    "#gbmboost_optimizer(df_dvi)"
   ]
  },
  {
   "cell_type": "code",
   "execution_count": null,
   "metadata": {},
   "outputs": [],
   "source": [
    "### Forward Sequential Feature Selector"
   ]
  },
  {
   "cell_type": "code",
   "execution_count": null,
   "metadata": {},
   "outputs": [],
   "source": [
    "# # Transform\n",
    "# df_fema = transform_fema(df)\n",
    "\n",
    "# # Split the data into train and test data\n",
    "# X = df_fema.loc[:, df_fema.columns != 'haAmount'].head(1000)\n",
    "# y = df_fema.loc[:, 'haAmount'].head(1000)\n",
    "# X_train, X_test, y_train, y_test = train_test_split(X, y, test_size = 0.2, shuffle = True, random_state=3)\n",
    "\n",
    "# print(X_train.shape, y_train.shape)\n",
    "# print(X_test.shape, y_test.shape)"
   ]
  },
  {
   "cell_type": "code",
   "execution_count": null,
   "metadata": {},
   "outputs": [],
   "source": [
    "# # Load saved model\n",
    "# gbm = pickle.load(open('gbm-fema.sav', 'rb'))\n",
    "\n",
    "# # AdaBoost fitted with feature selector\n",
    "# sfs = SequentialFeatureSelector(gbm, direction='forward', n_features_to_select=7)\n",
    "# sfs.fit(X_train, y_train)\n",
    "\n",
    "# print('Forward sequential selection: \\n{}'.format(X_train.columns[sfs.get_support()]))"
   ]
  },
  {
   "cell_type": "code",
   "execution_count": null,
   "metadata": {},
   "outputs": [],
   "source": [
    "# def forward_selector(data):\n",
    "    \n",
    "#     # Define columns\n",
    "#     cols = ['floodInsurance', 'inspected', 'rpfvl', 'destroyed', 'floodDamage',\n",
    "#             'rentalAssistanceEligible', 'repairAssistanceEligible', 'haAmount']\n",
    "    \n",
    "#     # Select columns\n",
    "#     data = data.loc[:, cols]\n",
    "#     return(data)\n",
    "\n",
    "# # Transform\n",
    "# df_fema_forward = forward_selector(df)"
   ]
  },
  {
   "cell_type": "code",
   "execution_count": null,
   "metadata": {},
   "outputs": [],
   "source": [
    "# # AdaBoost with Fema only\n",
    "# ada_forward = adaboost_regressor(df_fema_forward)\n",
    "\n",
    "# # Save the model\n",
    "# pickle.dump(ada, open('ada-forward.sav', 'wb'))"
   ]
  },
  {
   "cell_type": "code",
   "execution_count": null,
   "metadata": {},
   "outputs": [],
   "source": [
    "# # Load saved model\n",
    "# ada_forward = pickle.load(open('ada-forward.sav', 'rb'))"
   ]
  },
  {
   "cell_type": "code",
   "execution_count": null,
   "metadata": {},
   "outputs": [],
   "source": [
    "### Backward Sequential Feature Selector"
   ]
  },
  {
   "cell_type": "code",
   "execution_count": null,
   "metadata": {},
   "outputs": [],
   "source": [
    "# # Load saved model\n",
    "# ada = pickle.load(open('ada-boost.sav', 'rb'))\n",
    "\n",
    "# # AdaBoost fitted with feature selector\n",
    "# sfs = SequentialFeatureSelector(ada, direction='backward', n_features_to_select=7)\n",
    "# sfs.fit(X_train, y_train)\n",
    "\n",
    "# print('Backward sequential selection: \\n{}'.format(X_train.columns[sfs.get_support()]))"
   ]
  },
  {
   "cell_type": "code",
   "execution_count": null,
   "metadata": {},
   "outputs": [],
   "source": [
    "# def backward_selector(data):\n",
    "    \n",
    "#     # Define columns\n",
    "#     cols = ['floodInsurance', 'inspected', 'rpfvl', 'floodDamage', 'rentalAssistanceEligible',\n",
    "#             'repairAssistanceEligible', 'residenceType_Mobile Home', 'haAmount']\n",
    "    \n",
    "#     # Select columns\n",
    "#     data = data.loc[:, cols]\n",
    "#     return(data)\n",
    "\n",
    "# # Transform\n",
    "# df_fema_backward = backward_selector(df)"
   ]
  },
  {
   "cell_type": "code",
   "execution_count": null,
   "metadata": {},
   "outputs": [],
   "source": [
    "# # AdaBoost with Fema only\n",
    "# ada_backward = adaboost_regressor(df_fema_backward)\n",
    "\n",
    "# # Save the model\n",
    "# pickle.dump(ada, open('ada-backward.sav', 'wb'))"
   ]
  },
  {
   "cell_type": "code",
   "execution_count": null,
   "metadata": {},
   "outputs": [],
   "source": [
    "# # Load saved model\n",
    "# ada_backward = pickle.load(open('ada-backward.sav', 'rb'))"
   ]
  },
  {
   "cell_type": "code",
   "execution_count": null,
   "metadata": {},
   "outputs": [],
   "source": [
    "### Investigation of Errors"
   ]
  },
  {
   "cell_type": "code",
   "execution_count": null,
   "metadata": {},
   "outputs": [],
   "source": [
    "# # Split the data into train and test data\n",
    "# X = df_fema.loc[:, df_fema.columns != 'haAmount']\n",
    "# y = df_fema.loc[:, 'haAmount']\n",
    "# X_train, X_test, y_train, y_test = train_test_split(X, y, test_size = 0.2, shuffle = True, random_state=42)\n",
    "\n",
    "# # Predictions\n",
    "# y_pred = ada.predict(X_test)\n",
    "# abs_error = np.abs(y_test - y_pred)\n",
    "\n",
    "# # PCA - fit and transform to 2-dimensions\n",
    "# pca = PCA(n_components=2)\n",
    "# test_pca = pca.fit_transform(X_test)\n",
    "\n",
    "# fig, ax = plt.subplots(figsize = (10,6))\n",
    "# SC = ax.scatter(test_pca[:,0], test_pca[:,1], c=abs_error, s=30, alpha=0.5)\n",
    "# CB = plt.colorbar(SC, shrink=0.8, extend='both')\n",
    "# plt.title('Principal Components Analysis and MSE')\n",
    "# plt.xlabel('First principal component')\n",
    "# plt.ylabel('Second principal component')"
   ]
  },
  {
   "cell_type": "code",
   "execution_count": null,
   "metadata": {},
   "outputs": [],
   "source": [
    "# # Histogram of errors\n",
    "# fig, ax = plt.subplots(figsize = (7,4))\n",
    "\n",
    "# ax.hist(abs_error, bins=25)\n",
    "# ax.set_title('Distribution of Errors')\n",
    "# ax.set_ylabel('Absolute error')\n",
    "# ax.set_xlabel('Frequency')"
   ]
  },
  {
   "cell_type": "code",
   "execution_count": null,
   "metadata": {},
   "outputs": [],
   "source": [
    "# # Indices large errors > $15,000\n",
    "# index = [i for i, error in enumerate(abs_error) if error > 15000]\n",
    "# print('Number of errors:', len(index))"
   ]
  },
  {
   "cell_type": "code",
   "execution_count": null,
   "metadata": {},
   "outputs": [],
   "source": [
    "# # Indices of those to include, i.e. large errors removed\n",
    "# includes = [i for i in range(X_test.shape[0]) if i not in index]\n",
    "\n",
    "# # Trim dev to include indices only\n",
    "# X_test_trim = X_test.iloc[includes, :]\n",
    "# y_test_trim = y_test.iloc[includes]\n",
    "# print('Trimmed test data length:', X_test_trim.shape[0])"
   ]
  },
  {
   "cell_type": "code",
   "execution_count": null,
   "metadata": {},
   "outputs": [],
   "source": [
    "# # Load AdaBoost model\n",
    "# ada = pickle.load(open('ada-boost.sav', 'rb'))\n",
    "\n",
    "# # Predictions\n",
    "# y_pred_trim = ada.predict(X_test_trim)\n",
    "\n",
    "# # R^2 and root mean squared error\n",
    "# print('R^2: {:.4f}'.format(ada.score(X_test_trim, y_test_trim)))\n",
    "# print('R^2 score:  {:.4f}'.format(metrics.r2_score(y_test_trim, y_pred_trim)))\n",
    "# print('RMSE: {:.2f}'.format(np.sqrt(metrics.mean_squared_error(y_test_trim, y_pred_trim))))"
   ]
  },
  {
   "cell_type": "code",
   "execution_count": null,
   "metadata": {},
   "outputs": [],
   "source": [
    "# # R^2 and root mean squared error\n",
    "# print('Accuracy: {:.4f}'.format(lr.score(dev_data_trim, dev_labels_log_trim)))\n",
    "# root_mean_squared_error(dev_labels_log_trim, predict_dev_log_trim)\n",
    "\n",
    "# print('Potential 3% boost in accuracy if we can understand why these points have large error')"
   ]
  },
  {
   "cell_type": "code",
   "execution_count": null,
   "metadata": {},
   "outputs": [],
   "source": [
    "# large_errors = pd.DataFrame({'Actual': dev_labels.iloc[index], \n",
    "#                              'Predicted': predict_dev_value[index]})\n",
    "# large_errors"
   ]
  },
  {
   "cell_type": "code",
   "execution_count": null,
   "metadata": {},
   "outputs": [],
   "source": [
    "# # Join actual and predicted\n",
    "# combined = train.join(large_errors, how='inner')\n",
    "\n",
    "# # Export to csv\n",
    "# combined.reset_index(drop=False, inplace=True)\n",
    "# combined.to_csv(path_or_buf='large_errors.csv', sep=',', index=False)\n",
    "\n",
    "# combined"
   ]
  }
 ],
 "metadata": {
  "kernelspec": {
   "display_name": "Python 3",
   "language": "python",
   "name": "python3"
  },
  "language_info": {
   "codemirror_mode": {
    "name": "ipython",
    "version": 3
   },
   "file_extension": ".py",
   "mimetype": "text/x-python",
   "name": "python",
   "nbconvert_exporter": "python",
   "pygments_lexer": "ipython3",
   "version": "3.7.3"
  }
 },
 "nbformat": 4,
 "nbformat_minor": 2
}
