{
 "cells": [
  {
   "cell_type": "markdown",
   "metadata": {},
   "source": [
    "# Feature Engineering - FEMA Large Disasters with Demographics"
   ]
  },
  {
   "cell_type": "code",
   "execution_count": 2,
   "metadata": {},
   "outputs": [
    {
     "name": "stderr",
     "output_type": "stream",
     "text": [
      "C:\\Users\\rossm\\Anaconda3\\lib\\site-packages\\statsmodels\\tools\\_testing.py:19: FutureWarning: pandas.util.testing is deprecated. Use the functions in the public API at pandas.testing instead.\n",
      "  import pandas.util.testing as tm\n"
     ]
    }
   ],
   "source": [
    "# Basic libraries\n",
    "import geopandas as gpd\n",
    "import pandas as pd\n",
    "import numpy as np\n",
    "import warnings\n",
    "\n",
    "import seaborn as sns\n",
    "import matplotlib.pyplot as plt\n",
    "\n",
    "from sklearn.model_selection import train_test_split"
   ]
  },
  {
   "cell_type": "code",
   "execution_count": 3,
   "metadata": {},
   "outputs": [],
   "source": [
    "# Options\n",
    "warnings.filterwarnings('ignore')\n",
    "pd.set_option('display.max_rows', None)\n",
    "pd.set_option('display.max_columns', None)"
   ]
  },
  {
   "cell_type": "markdown",
   "metadata": {},
   "source": [
    "### Load FEMA Data"
   ]
  },
  {
   "cell_type": "code",
   "execution_count": 4,
   "metadata": {},
   "outputs": [],
   "source": [
    "# Load FEMA data\n",
    "df = pd.read_csv(\"../../data/open-fema/FEMA-Large-DR-4393-NC.csv\")"
   ]
  },
  {
   "cell_type": "code",
   "execution_count": 5,
   "metadata": {},
   "outputs": [
    {
     "name": "stdout",
     "output_type": "stream",
     "text": [
      "There are 132634 records in the dataframe.\n"
     ]
    }
   ],
   "source": [
    "# NC datasets\n",
    "print(f\"There are {len(df)} records in the dataframe.\")"
   ]
  },
  {
   "cell_type": "code",
   "execution_count": 32,
   "metadata": {
    "scrolled": false
   },
   "outputs": [
    {
     "data": {
      "text/plain": [
       "disasterNumber                       int64\n",
       "damagedCity                         object\n",
       "damagedStateAbbreviation            object\n",
       "damagedZipCode                       int64\n",
       "householdComposition                 int64\n",
       "grossIncome                        float64\n",
       "specialNeeds                          bool\n",
       "ownRent                             object\n",
       "residenceType                       object\n",
       "homeOwnersInsurance                   bool\n",
       "floodInsurance                        bool\n",
       "inspected                             bool\n",
       "rpfvl                              float64\n",
       "habitabilityRepairsRequired         object\n",
       "destroyed                             bool\n",
       "waterLevel                         float64\n",
       "floodDamage                           bool\n",
       "foundationDamage                      bool\n",
       "foundationDamageAmount             float64\n",
       "roofDamage                            bool\n",
       "roofDamageAmount                   float64\n",
       "tsaEligible                           bool\n",
       "tsaCheckedIn                          bool\n",
       "rentalAssistanceEligible              bool\n",
       "rentalAssistanceAmount             float64\n",
       "repairAssistanceEligible              bool\n",
       "repairAmount                       float64\n",
       "replacementAssistanceEligible         bool\n",
       "replacementAmount                  float64\n",
       "sbaEligible                           bool\n",
       "renterDamageLevel                   object\n",
       "rentalAssistanceEndDate             object\n",
       "rentalResourceCity                  object\n",
       "rentalResourceStateAbbreviation     object\n",
       "rentalResourceZipCode              float64\n",
       "primaryResidence                    object\n",
       "personalPropertyEligible              bool\n",
       "ppfvl                              float64\n",
       "censusBlockId                      float64\n",
       "censusYear                           int64\n",
       "id                                  object\n",
       "dtype: object"
      ]
     },
     "execution_count": 32,
     "metadata": {},
     "output_type": "execute_result"
    }
   ],
   "source": [
    "# Look at data types for each of the columns\n",
    "df.dtypes"
   ]
  },
  {
   "cell_type": "code",
   "execution_count": 33,
   "metadata": {},
   "outputs": [
    {
     "name": "stdout",
     "output_type": "stream",
     "text": [
      "There are 132634 records after dropping any duplicates.\n"
     ]
    }
   ],
   "source": [
    "df.drop_duplicates(inplace=True)\n",
    "print(f\"There are {len(df)} records after dropping any duplicates.\")"
   ]
  },
  {
   "cell_type": "code",
   "execution_count": 34,
   "metadata": {},
   "outputs": [
    {
     "name": "stdout",
     "output_type": "stream",
     "text": [
      "habitabilityRepairsRequired datatype: bool\n",
      "primaryResidence datatype: bool\n",
      "censusBlockId datatype: object\n"
     ]
    }
   ],
   "source": [
    "# Change incorrect datatype\n",
    "df['habitabilityRepairsRequired'] = df['habitabilityRepairsRequired'].astype('bool')\n",
    "df['primaryResidence'] = df['primaryResidence'].astype('bool')\n",
    "df['censusBlockId'] = df['censusBlockId'].astype('str').replace('\\.0', '', regex=True)\n",
    "print(f\"habitabilityRepairsRequired datatype: {df['habitabilityRepairsRequired'].dtype}\")\n",
    "print(f\"primaryResidence datatype: {df['primaryResidence'].dtype}\")\n",
    "print(f\"censusBlockId datatype: {df['censusBlockId'].dtype}\")"
   ]
  },
  {
   "cell_type": "code",
   "execution_count": 35,
   "metadata": {},
   "outputs": [
    {
     "data": {
      "text/html": [
       "<div>\n",
       "<style scoped>\n",
       "    .dataframe tbody tr th:only-of-type {\n",
       "        vertical-align: middle;\n",
       "    }\n",
       "\n",
       "    .dataframe tbody tr th {\n",
       "        vertical-align: top;\n",
       "    }\n",
       "\n",
       "    .dataframe thead th {\n",
       "        text-align: right;\n",
       "    }\n",
       "</style>\n",
       "<table border=\"1\" class=\"dataframe\">\n",
       "  <thead>\n",
       "    <tr style=\"text-align: right;\">\n",
       "      <th></th>\n",
       "      <th>censusBlockId</th>\n",
       "      <th>censusTractId</th>\n",
       "      <th>tractid</th>\n",
       "    </tr>\n",
       "  </thead>\n",
       "  <tbody>\n",
       "    <tr>\n",
       "      <th>0</th>\n",
       "      <td>370499609001004</td>\n",
       "      <td>37049960900</td>\n",
       "      <td>37049960900</td>\n",
       "    </tr>\n",
       "    <tr>\n",
       "      <th>1</th>\n",
       "      <td>370939702022004</td>\n",
       "      <td>37093970202</td>\n",
       "      <td>37093970202</td>\n",
       "    </tr>\n",
       "    <tr>\n",
       "      <th>2</th>\n",
       "      <td>371539710002065</td>\n",
       "      <td>37153971000</td>\n",
       "      <td>37153971000</td>\n",
       "    </tr>\n",
       "    <tr>\n",
       "      <th>3</th>\n",
       "      <td>370499610024029</td>\n",
       "      <td>37049961002</td>\n",
       "      <td>37049961002</td>\n",
       "    </tr>\n",
       "    <tr>\n",
       "      <th>4</th>\n",
       "      <td>370190204042003</td>\n",
       "      <td>37019020404</td>\n",
       "      <td>37019020404</td>\n",
       "    </tr>\n",
       "  </tbody>\n",
       "</table>\n",
       "</div>"
      ],
      "text/plain": [
       "     censusBlockId censusTractId      tractid\n",
       "0  370499609001004   37049960900  37049960900\n",
       "1  370939702022004   37093970202  37093970202\n",
       "2  371539710002065   37153971000  37153971000\n",
       "3  370499610024029   37049961002  37049961002\n",
       "4  370190204042003   37019020404  37019020404"
      ]
     },
     "execution_count": 35,
     "metadata": {},
     "output_type": "execute_result"
    }
   ],
   "source": [
    "# Create census tract IDs for FEMA dataset\n",
    "df['censusTractId'] = df.apply(lambda row: row.censusBlockId[0:11], axis=1)\n",
    "df['tractid'] = df['censusTractId']\n",
    "df[['censusBlockId', 'censusTractId', 'tractid']].head()\n"
   ]
  },
  {
   "cell_type": "code",
   "execution_count": 36,
   "metadata": {},
   "outputs": [
    {
     "name": "stdout",
     "output_type": "stream",
     "text": [
      "There are 1297 tracts represented in the dataset.\n",
      "Of these, 1297 are from NC.\n"
     ]
    }
   ],
   "source": [
    "# Check how many census tracts are in NC\n",
    "print(f\"There are {len(df['tractid'].unique())} tracts represented in the dataset.\")\n",
    "print(f\"Of these, {len(df.loc[df['damagedStateAbbreviation'] == 'NC', 'tractid'].unique())} are from NC.\")"
   ]
  },
  {
   "cell_type": "markdown",
   "metadata": {},
   "source": [
    "### Feature Engineering"
   ]
  },
  {
   "cell_type": "code",
   "execution_count": 37,
   "metadata": {},
   "outputs": [
    {
     "name": "stdout",
     "output_type": "stream",
     "text": [
      "Total $92,365,426.73 in HA payouts\n",
      "Total $92,365,426.73 in mainland HA payouts\n"
     ]
    }
   ],
   "source": [
    "# Define all dollar amount columns\n",
    "amountCols = ['foundationDamageAmount', 'roofDamageAmount', 'rentalAssistanceAmount', \n",
    "              'replacementAmount','repairAmount', 'rpfvl', 'ppfvl']\n",
    "\n",
    "# Set them to zero if null\n",
    "df[amountCols] = df[amountCols].fillna(0)\n",
    "\n",
    "# Calculate the aggregated haAmount\n",
    "df['haAmount'] = df['rentalAssistanceAmount'] + df['replacementAmount'] + df['repairAmount']\n",
    "\n",
    "print('Total ${:,.2f} in HA payouts'.format(df['haAmount'].sum()))\n",
    "print('Total ${:,.2f} in mainland HA payouts'.format(df.loc[df['damagedStateAbbreviation'] != 'PR', 'haAmount'].sum()))"
   ]
  },
  {
   "cell_type": "code",
   "execution_count": 38,
   "metadata": {},
   "outputs": [],
   "source": [
    "# Convert boolean columns to int\n",
    "bool_cols = ['specialNeeds', 'homeOwnersInsurance', 'floodInsurance', 'inspected', 'destroyed', \n",
    "             'habitabilityRepairsRequired', 'floodDamage', 'foundationDamage', 'roofDamage', \n",
    "             'tsaEligible', 'rentalAssistanceEligible', 'repairAssistanceEligible', \n",
    "             'replacementAssistanceEligible', 'sbaEligible', 'primaryResidence']\n",
    "\n",
    "df[bool_cols] = df[bool_cols].astype(int)"
   ]
  },
  {
   "cell_type": "code",
   "execution_count": 39,
   "metadata": {},
   "outputs": [],
   "source": [
    "# Fill the na's with zero's in waterLevel \n",
    "df['waterLevel'].fillna(0, inplace=True)"
   ]
  },
  {
   "cell_type": "code",
   "execution_count": 40,
   "metadata": {},
   "outputs": [],
   "source": [
    "# One-hot encode the categorical variables\n",
    "cat_cols = ['ownRent', 'residenceType']\n",
    "for col in cat_cols:\n",
    "    df = pd.concat([df, pd.get_dummies(df[col], prefix=col)], axis=1)\n",
    "df.drop(cat_cols, axis=1, inplace=True)"
   ]
  },
  {
   "cell_type": "code",
   "execution_count": 41,
   "metadata": {},
   "outputs": [
    {
     "name": "stdout",
     "output_type": "stream",
     "text": [
      "Test (PR) rows: 132634\n"
     ]
    }
   ],
   "source": [
    "# Test (PR) data\n",
    "testDf = df.loc[df['damagedStateAbbreviation'] == 'NC', ]\n",
    "\n",
    "# Write test to csv\n",
    "testDf.to_csv(\"../../data/open-fema/FEMA-Large-NC.csv\", index=False, encoding='utf-8')\n",
    "print('Test (PR) rows:', len(testDf))"
   ]
  },
  {
   "cell_type": "code",
   "execution_count": 42,
   "metadata": {},
   "outputs": [
    {
     "name": "stdout",
     "output_type": "stream",
     "text": [
      "Expected amount of rows after dropped: 132633\n",
      "Amount after dropped: 132633\n"
     ]
    }
   ],
   "source": [
    "# Do drop uninspected with HA amount\n",
    "print(f\"Expected amount of rows after dropped: {len(df) - len(df[(df['haAmount']>0) & (df['inspected']==False)])}\")\n",
    "uninspected = df.loc[(df['haAmount'] > 0) & (df['inspected'] == False)].index\n",
    "df.drop(uninspected, inplace=True)\n",
    "print(f\"Amount after dropped: {len(df)}\")"
   ]
  },
  {
   "cell_type": "code",
   "execution_count": 43,
   "metadata": {},
   "outputs": [
    {
     "name": "stdout",
     "output_type": "stream",
     "text": [
      "Expected amount of rows after dropped: 132417\n",
      "Amount after dropped: 132417\n"
     ]
    }
   ],
   "source": [
    "# Drop those with HA amount over max\n",
    "print(f\"Expected amount of rows after dropped: {len(df) - len(df[(df['haAmount'] > 33300)])}\")\n",
    "maxLimit_ha = df.loc[(df['haAmount'] > 33300)].index\n",
    "df.drop(maxLimit_ha, inplace=True)\n",
    "print(f\"Amount after dropped: {len(df)}\")"
   ]
  },
  {
   "cell_type": "code",
   "execution_count": 44,
   "metadata": {},
   "outputs": [
    {
     "name": "stdout",
     "output_type": "stream",
     "text": [
      "Expected amount of rows after dropped: 132415\n",
      "Amount after dropped: 132415\n"
     ]
    }
   ],
   "source": [
    "# Drop those with household composition over 15\n",
    "print(f\"Expected amount of rows after dropped: {len(df) - len(df[(df['householdComposition'] > 15)])}\")\n",
    "maxLimit_house = df.loc[(df['householdComposition'] > 15)].index\n",
    "df.drop(maxLimit_house, inplace=True)\n",
    "print(f\"Amount after dropped: {len(df)}\")"
   ]
  },
  {
   "cell_type": "code",
   "execution_count": 45,
   "metadata": {},
   "outputs": [
    {
     "name": "stdout",
     "output_type": "stream",
     "text": [
      "Expected amount of rows after dropped: 132384\n",
      "Amount after dropped: 132384\n"
     ]
    }
   ],
   "source": [
    "# Drop those with water level over 120\n",
    "print(f\"Expected amount of rows after dropped: {len(df) - len(df[(df['waterLevel'] > 120)])}\")\n",
    "maxLimit_water = df.loc[(df['waterLevel'] > 120)].index\n",
    "df.drop(maxLimit_water, inplace=True)\n",
    "print(f\"Amount after dropped: {len(df)}\")"
   ]
  },
  {
   "cell_type": "markdown",
   "metadata": {},
   "source": [
    "### Create NC Test - Outliers Removed"
   ]
  },
  {
   "cell_type": "code",
   "execution_count": 46,
   "metadata": {},
   "outputs": [
    {
     "name": "stdout",
     "output_type": "stream",
     "text": [
      "Test (PR) rows: 132384\n"
     ]
    }
   ],
   "source": [
    "# Create test without outliers\n",
    "testDf = df.loc[df['damagedStateAbbreviation'] == 'NC', ]\n",
    "\n",
    "# Write test to csv\n",
    "testDf.to_csv(\"../../data/open-fema/FEMA-Large-NC-clean.csv\", index=False, encoding='utf-8')\n",
    "print('Test (PR) rows:', len(testDf))"
   ]
  },
  {
   "cell_type": "markdown",
   "metadata": {},
   "source": [
    "### Split FL/TX into Train/Dev"
   ]
  },
  {
   "cell_type": "code",
   "execution_count": 5,
   "metadata": {},
   "outputs": [
    {
     "name": "stdout",
     "output_type": "stream",
     "text": [
      "Train (FL/TX) rows: 3534889\n"
     ]
    }
   ],
   "source": [
    "# Read in train/test\n",
    "trainDf = pd.read_csv('../../data/open-fema/FEMA-Large-Demographics-FL-TX-clean.csv')\n",
    "print('Train (FL/TX) rows:', len(trainDf))"
   ]
  },
  {
   "cell_type": "code",
   "execution_count": 6,
   "metadata": {},
   "outputs": [],
   "source": [
    "# Split the data into train and test data\n",
    "X = trainDf\n",
    "y = trainDf.loc[:, 'haAmount']\n",
    "X_train, X_test, y_train, y_test = train_test_split(X, y, test_size = 0.2, shuffle = True, random_state=42)"
   ]
  },
  {
   "cell_type": "code",
   "execution_count": 7,
   "metadata": {},
   "outputs": [
    {
     "name": "stdout",
     "output_type": "stream",
     "text": [
      "Train rows: 2827911\n"
     ]
    }
   ],
   "source": [
    "# Write train to csv\n",
    "X_train.to_csv(\"./predictions/train.csv\", index=False, encoding='utf-8')\n",
    "print('Train rows:', len(X_train))"
   ]
  },
  {
   "cell_type": "code",
   "execution_count": 8,
   "metadata": {},
   "outputs": [
    {
     "name": "stdout",
     "output_type": "stream",
     "text": [
      "Test rows: 706978\n"
     ]
    }
   ],
   "source": [
    "# Write dev to csv\n",
    "X_test.to_csv(\"./predictions/dev.csv\", index=False, encoding='utf-8')\n",
    "print('Test rows:', len(X_test))"
   ]
  },
  {
   "cell_type": "code",
   "execution_count": null,
   "metadata": {},
   "outputs": [],
   "source": []
  }
 ],
 "metadata": {
  "kernelspec": {
   "display_name": "Python 3",
   "language": "python",
   "name": "python3"
  },
  "language_info": {
   "codemirror_mode": {
    "name": "ipython",
    "version": 3
   },
   "file_extension": ".py",
   "mimetype": "text/x-python",
   "name": "python",
   "nbconvert_exporter": "python",
   "pygments_lexer": "ipython3",
   "version": "3.7.3"
  }
 },
 "nbformat": 4,
 "nbformat_minor": 2
}
