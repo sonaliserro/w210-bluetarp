{
 "cells": [
  {
   "cell_type": "code",
   "execution_count": 2,
   "metadata": {},
   "outputs": [],
   "source": [
    "# Importing libraries and packages\n",
    "import geopandas as gpd\n",
    "import pandas as pd\n",
    "import numpy as np\n",
    "import json\n",
    "\n",
    "# Visualization\n",
    "import matplotlib.pyplot as plt\n",
    "\n",
    "# Modeling\n",
    "from sklearn.ensemble import RandomForestRegressor\n",
    "\n",
    "from sklearn.model_selection import train_test_split\n",
    "from sklearn.model_selection import GridSearchCV\n",
    "\n",
    "# Metrics\n",
    "from sklearn import metrics\n",
    "\n",
    "# Save models\n",
    "import pickle"
   ]
  },
  {
   "cell_type": "code",
   "execution_count": 3,
   "metadata": {},
   "outputs": [],
   "source": [
    "# Display Options\n",
    "pd.set_option('display.max_rows', None)\n",
    "pd.set_option('display.max_columns', None)"
   ]
  },
  {
   "cell_type": "markdown",
   "metadata": {},
   "source": [
    "## Random Forest Model trained on Fema Large without Outliers"
   ]
  },
  {
   "cell_type": "markdown",
   "metadata": {},
   "source": [
    "### Load the Training and Test Datasets - FL/TX and PR"
   ]
  },
  {
   "cell_type": "code",
   "execution_count": 5,
   "metadata": {},
   "outputs": [
    {
     "name": "stderr",
     "output_type": "stream",
     "text": [
      "/Users/nitinserro/anaconda3/lib/python3.6/site-packages/IPython/core/interactiveshell.py:3072: DtypeWarning: Columns (29,30,31) have mixed types.Specify dtype option on import or set low_memory=False.\n",
      "  interactivity=interactivity, compiler=compiler, result=result)\n"
     ]
    },
    {
     "name": "stdout",
     "output_type": "stream",
     "text": [
      "There are 3187285 records in our training dataset.\n"
     ]
    }
   ],
   "source": [
    "femaTrainData = pd.read_csv('../data/open-fema/FEMA-Large-Demographics-FL-TX-clean.csv')\n",
    "print('There are {} records in our training dataset.'.format(len(femaTrainData)))"
   ]
  },
  {
   "cell_type": "code",
   "execution_count": 6,
   "metadata": {},
   "outputs": [
    {
     "data": {
      "text/plain": [
       "Index(['disasterNumber', 'damagedCity', 'damagedStateAbbreviation',\n",
       "       'damagedZipCode', 'householdComposition', 'grossIncome', 'specialNeeds',\n",
       "       'homeOwnersInsurance', 'floodInsurance', 'inspected', 'rpfvl',\n",
       "       'habitabilityRepairsRequired', 'destroyed', 'waterLevel', 'floodDamage',\n",
       "       'foundationDamage', 'foundationDamageAmount', 'roofDamage',\n",
       "       'roofDamageAmount', 'tsaEligible', 'tsaCheckedIn',\n",
       "       'rentalAssistanceEligible', 'rentalAssistanceAmount',\n",
       "       'repairAssistanceEligible', 'repairAmount',\n",
       "       'replacementAssistanceEligible', 'replacementAmount', 'sbaEligible',\n",
       "       'renterDamageLevel', 'rentalAssistanceEndDate', 'rentalResourceCity',\n",
       "       'rentalResourceStateAbbreviation', 'rentalResourceZipCode',\n",
       "       'primaryResidence', 'personalPropertyEligible', 'ppfvl',\n",
       "       'censusBlockId', 'censusYear', 'id', 'censusTractId', 'censusid',\n",
       "       'tractid', 'tractname', 'county', 'state', 'below_poverty_rate',\n",
       "       'median_earnings_total', 'unemployed_labor_rate',\n",
       "       'built_1979_or_earlier_rate', 'owner_occupied_rate', 'dvi', 'haAmount',\n",
       "       'ownRent_Owner', 'ownRent_Renter', 'ownRent_Unknown',\n",
       "       'residenceType_Apartment', 'residenceType_Assisted Living Facility',\n",
       "       'residenceType_Boat', 'residenceType_College Dorm',\n",
       "       'residenceType_Condo', 'residenceType_Correctional Facility',\n",
       "       'residenceType_House/Duplex', 'residenceType_Military Housing',\n",
       "       'residenceType_Mobile Home', 'residenceType_Other',\n",
       "       'residenceType_Townhouse', 'residenceType_Travel Trailer',\n",
       "       'residenceType_Unknown'],\n",
       "      dtype='object')"
      ]
     },
     "execution_count": 6,
     "metadata": {},
     "output_type": "execute_result"
    }
   ],
   "source": [
    "femaTrainData.columns"
   ]
  },
  {
   "cell_type": "code",
   "execution_count": 9,
   "metadata": {},
   "outputs": [
    {
     "name": "stdout",
     "output_type": "stream",
     "text": [
      "There are 1041745 records in our test dataset.\n"
     ]
    }
   ],
   "source": [
    "femaTestData = pd.read_csv('../data/open-fema/FEMA-Large-Demographics-PR-clean.csv')\n",
    "print('There are {} records in our test dataset.'.format(len(femaTestData)))"
   ]
  },
  {
   "cell_type": "code",
   "execution_count": 10,
   "metadata": {},
   "outputs": [
    {
     "data": {
      "text/plain": [
       "Index(['disasterNumber', 'damagedCity', 'damagedStateAbbreviation',\n",
       "       'damagedZipCode', 'householdComposition', 'grossIncome', 'specialNeeds',\n",
       "       'homeOwnersInsurance', 'floodInsurance', 'inspected', 'rpfvl',\n",
       "       'habitabilityRepairsRequired', 'destroyed', 'waterLevel', 'floodDamage',\n",
       "       'foundationDamage', 'foundationDamageAmount', 'roofDamage',\n",
       "       'roofDamageAmount', 'tsaEligible', 'tsaCheckedIn',\n",
       "       'rentalAssistanceEligible', 'rentalAssistanceAmount',\n",
       "       'repairAssistanceEligible', 'repairAmount',\n",
       "       'replacementAssistanceEligible', 'replacementAmount', 'sbaEligible',\n",
       "       'renterDamageLevel', 'rentalAssistanceEndDate', 'rentalResourceCity',\n",
       "       'rentalResourceStateAbbreviation', 'rentalResourceZipCode',\n",
       "       'primaryResidence', 'personalPropertyEligible', 'ppfvl',\n",
       "       'censusBlockId', 'censusYear', 'id', 'censusTractId', 'censusid',\n",
       "       'tractid', 'tractname', 'county', 'state', 'below_poverty_rate',\n",
       "       'median_earnings_total', 'unemployed_labor_rate',\n",
       "       'built_1979_or_earlier_rate', 'owner_occupied_rate', 'dvi', 'haAmount',\n",
       "       'ownRent_Owner', 'ownRent_Renter', 'ownRent_Unknown',\n",
       "       'residenceType_Apartment', 'residenceType_Assisted Living Facility',\n",
       "       'residenceType_Boat', 'residenceType_College Dorm',\n",
       "       'residenceType_Condo', 'residenceType_Correctional Facility',\n",
       "       'residenceType_House/Duplex', 'residenceType_Military Housing',\n",
       "       'residenceType_Mobile Home', 'residenceType_Other',\n",
       "       'residenceType_Townhouse', 'residenceType_Travel Trailer',\n",
       "       'residenceType_Unknown'],\n",
       "      dtype='object')"
      ]
     },
     "execution_count": 10,
     "metadata": {},
     "output_type": "execute_result"
    }
   ],
   "source": [
    "femaTestData.columns"
   ]
  },
  {
   "cell_type": "markdown",
   "metadata": {},
   "source": [
    "### Define a subset of columns\n",
    "\n",
    "IHP: https://docs.google.com/document/d/1nu0yENGAWnoiMcTufxYnH7xwdh8NfFum9ni9IYiSIdk/edit#\n",
    "\n",
    "Demographics: https://docs.google.com/document/d/1cpznnaIb5CE21I2RO8y2xRvZKS8StcP_JeXDW2mUIis/edit?ts=60319d34#heading=h.j8u0tgugtaw"
   ]
  },
  {
   "cell_type": "code",
   "execution_count": 9,
   "metadata": {},
   "outputs": [],
   "source": [
    "ihp_exclude_cols = ['disasterNumber', \n",
    "                    'damagedCity', \n",
    "                    'damagedStateAbbreviation',\n",
    "                    'damagedZipCode',\n",
    "                    'grossIncome',\n",
    "                    'foundationDamageAmount',\n",
    "                    'roofDamageAmount',\n",
    "                    'tsaCheckedIn',\n",
    "                    'rentalAssistanceAmount',\n",
    "                    'repairAmount',\n",
    "                    'replacementAmount',\n",
    "                    'renterDamageLevel', \n",
    "                    'rentalAssistanceEndDate', \n",
    "                    'rentalResourceCity',\n",
    "                    'rentalResourceStateAbbreviation', \n",
    "                    'rentalResourceZipCode',\n",
    "                    'personalPropertyEligible', \n",
    "                    'ppfvl',\n",
    "                    'censusBlockId', \n",
    "                    'censusYear', \n",
    "                    'id']\n",
    "demo_exclude_cols = ['censusTractId', \n",
    "                     'censusid',\n",
    "                     'tractid', \n",
    "                     'tractname', \n",
    "                     'county', \n",
    "                     'state',\n",
    "                     'median_earnings_total',]\n",
    "demo_dvi_col = ['dvi']\n",
    "demo_rate_cols = ['below_poverty_rate',\n",
    "                  'unemployed_labor_rate',\n",
    "                  'built_1979_or_earlier_rate', \n",
    "                  'owner_occupied_rate']"
   ]
  },
  {
   "cell_type": "markdown",
   "metadata": {},
   "source": [
    "### RandomForest\n",
    "\n",
    "https://machinelearningmastery.com/random-forest-ensemble-in-python/\n",
    "\n",
    "- The “max_samples” argument can be set to a float between 0 and 1 to control the percentage of the size of the training dataset to make the bootstrap sample used to train each decision tree.\n",
    "- max_features argument and defaults to the square root of the number of input features. \n",
    "- The number of trees can be set via the “n_estimators” argument and defaults to 100.\n",
    "- The maximum tree depth can be specified via the max_depth argument and is set to None (no maximum depth) by default."
   ]
  },
  {
   "cell_type": "code",
   "execution_count": 10,
   "metadata": {},
   "outputs": [],
   "source": [
    "def run_rf(df, frac, max_depth, max_samples, n_estimators, min_samples_leaf):\n",
    "    # Sample the dataset\n",
    "    df_train = df.sample(frac=frac) if frac < 1.0 else df    \n",
    "        \n",
    "    # Create test/train split\n",
    "    X = df_train.loc[:, df_train.columns != 'haAmount']\n",
    "    y = df_train.loc[:, 'haAmount']    \n",
    "    X_train, X_test, y_train, y_test = train_test_split(X, y, test_size = 0.2, shuffle = True, random_state = 42) \n",
    "  \n",
    "    print('Shape of Training and Test inputs')\n",
    "    print(X_train.shape, y_train.shape)\n",
    "    print(X_test.shape, y_test.shape)\n",
    "    \n",
    "    # Define the model\n",
    "    model_rf = RandomForestRegressor(max_depth = max_depth, max_samples = max_samples, n_estimators = n_estimators, \n",
    "                                     min_samples_leaf = min_samples_leaf, random_state = 42)\n",
    "    \n",
    "    # Fit the model\n",
    "    model_rf.fit(X_train, y_train)\n",
    "    \n",
    "    return (model_rf, model_rf.predict(X_test), y_test)"
   ]
  },
  {
   "cell_type": "code",
   "execution_count": 11,
   "metadata": {},
   "outputs": [],
   "source": [
    "def run_rf_grid_search(df, frac, scoring):\n",
    "    # Sample the dataset\n",
    "    df_train = df.sample(frac=frac) if frac < 1.0 else df    \n",
    "        \n",
    "    # Create test/train split\n",
    "    X = df_train.loc[:, df_train.columns != 'haAmount']\n",
    "    y = df_train.loc[:, 'haAmount']    \n",
    "    X_train, X_test, y_train, y_test = train_test_split(X, y, test_size = 0.2, shuffle = True, random_state = 42)\n",
    "    \n",
    "    print('Shape of Training and Test inputs')\n",
    "    print(X_train.shape, y_train.shape)\n",
    "    print(X_test.shape, y_test.shape)\n",
    "    \n",
    "    # RandomForestRegressor default model\n",
    "    model_rf = RandomForestRegressor(random_state = 42)\n",
    "    \n",
    "    # Create the parameter grid\n",
    "    param_grid_rf = {\n",
    "        'bootstrap': [True],\n",
    "        'max_samples': [0.8, 0.9, None],\n",
    "        'max_depth': [8, 9, 10],\n",
    "        'n_estimators': [75, 100, 125],\n",
    "        'min_samples_leaf': [1, 5, 10]\n",
    "    }\n",
    "    \n",
    "    # Instantiate the grid search model\n",
    "    grid_search_rf = GridSearchCV(estimator = model_rf, param_grid = param_grid_rf, \n",
    "                                  scoring = scoring, cv = 3, n_jobs = -1, verbose = 2)\n",
    "    \n",
    "    # Fit the grid search to the data\n",
    "    grid_search_rf.fit(X_train, y_train)\n",
    "    \n",
    "    print('Best params:\\n', grid_search_rf.best_params_)\n",
    "    \n",
    "    # Predict using best model\n",
    "    model_rf_best = grid_search_rf.best_estimator_\n",
    "    \n",
    "    return (model_rf_best, model_rf_best.predict(X_test), y_test)"
   ]
  },
  {
   "cell_type": "code",
   "execution_count": 12,
   "metadata": {},
   "outputs": [],
   "source": [
    "def evaluate(y_test, y_pred):\n",
    "    print('Mean Absolute Error:', metrics.mean_absolute_error(y_test, y_pred))\n",
    "    print('Mean Squared Error:', metrics.mean_squared_error(y_test, y_pred))\n",
    "    print('Root Mean Squared Error:', np.sqrt(metrics.mean_squared_error(y_test, y_pred)))\n",
    "    print('R-squared:', metrics.r2_score(y_test, y_pred))\n",
    "    print('\\n')\n",
    "    print('Total HA Amount actual:    ${:,.2f}'.format(y_test.sum()))\n",
    "    print('Total HA Amount predicted: ${:,.2f}'.format(y_pred.sum()))\n",
    "    print('\\n')\n",
    "    \n",
    "    # Calculate the number of observations that are off by more than 20%\n",
    "    results_df = pd.DataFrame({'actual': y_test, 'predicted': y_pred})\n",
    "    results_df['diff'] = results_df['predicted'] - results_df['actual']    \n",
    "    results_df['percent_diff'] = (abs(abs(results_df['predicted'] / (results_df['actual'])) - 1) * 100).where(results_df['actual'] > 0, 0)    \n",
    "    print('Percentage of predictions that are off by more than 20%: {:.2f}'.format( \n",
    "          len(results_df[results_df['percent_diff'] > 20])/len(results_df) * 100))   "
   ]
  },
  {
   "cell_type": "code",
   "execution_count": 13,
   "metadata": {},
   "outputs": [],
   "source": [
    "def predict(df, model):\n",
    "    X_test = df.loc[:, df.columns != 'haAmount']\n",
    "    y_test = df.loc[:, 'haAmount']    \n",
    "  \n",
    "    print('Shape of Training and Test inputs')    \n",
    "    print(X_test.shape, y_test.shape)\n",
    "    \n",
    "    return (model.predict(X_test), y_test)  "
   ]
  },
  {
   "cell_type": "markdown",
   "metadata": {},
   "source": [
    "### Create IHP-only Train and Test Datasets"
   ]
  },
  {
   "cell_type": "code",
   "execution_count": 106,
   "metadata": {},
   "outputs": [],
   "source": [
    "femaDf = femaTrainData[femaTrainData.columns[~femaTrainData.columns.isin(\n",
    "    ihp_exclude_cols + demo_exclude_cols + demo_dvi_col + demo_rate_cols)]]"
   ]
  },
  {
   "cell_type": "code",
   "execution_count": 107,
   "metadata": {},
   "outputs": [],
   "source": [
    "femaTestDf = femaTestData[femaTestData.columns[~femaTestData.columns.isin(\n",
    "    ihp_exclude_cols + demo_exclude_cols + demo_dvi_col + demo_rate_cols)]]"
   ]
  },
  {
   "cell_type": "markdown",
   "metadata": {},
   "source": [
    "### Grid Search\n",
    "Parameter Grid:\n",
    "\n",
    "    param_grid_rf = {\n",
    "        'bootstrap': [True],\n",
    "        'max_samples': [0.8, 0.9, None],\n",
    "        'max_depth': [8, 9, 10],\n",
    "        'n_estimators': [75, 100, 125],\n",
    "        'min_samples_leaf': [1, 5, 10]\n",
    "    }\n",
    "    \n",
    "Grid Search Params:\n",
    "\n",
    "    scoring='neg_mean_squared_error'\n",
    "    cv = 3    "
   ]
  },
  {
   "cell_type": "code",
   "execution_count": 19,
   "metadata": {},
   "outputs": [
    {
     "name": "stdout",
     "output_type": "stream",
     "text": [
      "Shape of Training and Test inputs\n",
      "(2549828, 34) (2549828,)\n",
      "(637457, 34) (637457,)\n",
      "Fitting 3 folds for each of 81 candidates, totalling 243 fits\n",
      "Best params:\n",
      " {'bootstrap': True, 'max_depth': 10, 'max_samples': 0.9, 'min_samples_leaf': 5, 'n_estimators': 125}\n"
     ]
    }
   ],
   "source": [
    "model_rf_best, y_pred, y_test = run_rf_grid_search(femaDf, frac = 1.0, scoring = 'neg_mean_squared_error')"
   ]
  },
  {
   "cell_type": "code",
   "execution_count": 59,
   "metadata": {},
   "outputs": [
    {
     "name": "stdout",
     "output_type": "stream",
     "text": [
      "Mean Absolute Error: 62.8185168269257\n",
      "Mean Squared Error: 333776.8924875107\n",
      "Root Mean Squared Error: 577.7342749807308\n",
      "R-squared: 0.9518735085349349\n",
      "\n",
      "\n",
      "Total HA Amount actual:    $306,323,367.07\n",
      "Total HA Amount predicted: $305,457,100.07\n",
      "\n",
      "\n",
      "Percentage of predictions that are off by more than 20%: 2.74\n"
     ]
    }
   ],
   "source": [
    "evaluate(y_test, y_pred)"
   ]
  },
  {
   "cell_type": "code",
   "execution_count": 20,
   "metadata": {},
   "outputs": [
    {
     "data": {
      "text/html": [
       "<div>\n",
       "<style scoped>\n",
       "    .dataframe tbody tr th:only-of-type {\n",
       "        vertical-align: middle;\n",
       "    }\n",
       "\n",
       "    .dataframe tbody tr th {\n",
       "        vertical-align: top;\n",
       "    }\n",
       "\n",
       "    .dataframe thead th {\n",
       "        text-align: right;\n",
       "    }\n",
       "</style>\n",
       "<table border=\"1\" class=\"dataframe\">\n",
       "  <thead>\n",
       "    <tr style=\"text-align: right;\">\n",
       "      <th></th>\n",
       "      <th>count</th>\n",
       "      <th>mean</th>\n",
       "      <th>std</th>\n",
       "      <th>min</th>\n",
       "      <th>25%</th>\n",
       "      <th>50%</th>\n",
       "      <th>75%</th>\n",
       "      <th>max</th>\n",
       "    </tr>\n",
       "  </thead>\n",
       "  <tbody>\n",
       "    <tr>\n",
       "      <th>actual</th>\n",
       "      <td>637457.0</td>\n",
       "      <td>480.539655</td>\n",
       "      <td>2633.518498</td>\n",
       "      <td>0.0</td>\n",
       "      <td>0.0</td>\n",
       "      <td>0.0</td>\n",
       "      <td>0.0</td>\n",
       "      <td>33300.000000</td>\n",
       "    </tr>\n",
       "    <tr>\n",
       "      <th>predicted</th>\n",
       "      <td>637457.0</td>\n",
       "      <td>479.180713</td>\n",
       "      <td>2561.189489</td>\n",
       "      <td>0.0</td>\n",
       "      <td>0.0</td>\n",
       "      <td>0.0</td>\n",
       "      <td>0.0</td>\n",
       "      <td>32649.353177</td>\n",
       "    </tr>\n",
       "    <tr>\n",
       "      <th>errors</th>\n",
       "      <td>637457.0</td>\n",
       "      <td>-1.358942</td>\n",
       "      <td>577.733130</td>\n",
       "      <td>-33300.0</td>\n",
       "      <td>0.0</td>\n",
       "      <td>0.0</td>\n",
       "      <td>0.0</td>\n",
       "      <td>30262.173749</td>\n",
       "    </tr>\n",
       "  </tbody>\n",
       "</table>\n",
       "</div>"
      ],
      "text/plain": [
       "              count        mean          std      min  25%  50%  75%  \\\n",
       "actual     637457.0  480.539655  2633.518498      0.0  0.0  0.0  0.0   \n",
       "predicted  637457.0  479.180713  2561.189489      0.0  0.0  0.0  0.0   \n",
       "errors     637457.0   -1.358942   577.733130 -33300.0  0.0  0.0  0.0   \n",
       "\n",
       "                    max  \n",
       "actual     33300.000000  \n",
       "predicted  32649.353177  \n",
       "errors     30262.173749  "
      ]
     },
     "execution_count": 20,
     "metadata": {},
     "output_type": "execute_result"
    }
   ],
   "source": [
    "# Look at the distribution of predictions/actuals/errors\n",
    "results_df = pd.DataFrame({'actual': y_test, 'predicted': y_pred})\n",
    "results_df['errors'] = results_df['predicted'] - results_df['actual']\n",
    "results_df.describe().transpose()"
   ]
  },
  {
   "cell_type": "code",
   "execution_count": 36,
   "metadata": {},
   "outputs": [],
   "source": [
    "# Save the model\n",
    "pickle.dump(model_rf_best, open('./models/random_forest.sav', 'wb'))"
   ]
  },
  {
   "cell_type": "code",
   "execution_count": 15,
   "metadata": {},
   "outputs": [
    {
     "data": {
      "text/plain": [
       "{'bootstrap': True,\n",
       " 'ccp_alpha': 0.0,\n",
       " 'criterion': 'mse',\n",
       " 'max_depth': 10,\n",
       " 'max_features': 'auto',\n",
       " 'max_leaf_nodes': None,\n",
       " 'max_samples': 0.9,\n",
       " 'min_impurity_decrease': 0.0,\n",
       " 'min_impurity_split': None,\n",
       " 'min_samples_leaf': 5,\n",
       " 'min_samples_split': 2,\n",
       " 'min_weight_fraction_leaf': 0.0,\n",
       " 'n_estimators': 125,\n",
       " 'n_jobs': None,\n",
       " 'oob_score': False,\n",
       " 'random_state': 42,\n",
       " 'verbose': 0,\n",
       " 'warm_start': False}"
      ]
     },
     "execution_count": 15,
     "metadata": {},
     "output_type": "execute_result"
    }
   ],
   "source": [
    "# Load saved model\n",
    "model_rf_sav = pickle.load(open('./models/random_forest.sav', 'rb'))\n",
    "model_rf_sav.get_params()"
   ]
  },
  {
   "cell_type": "markdown",
   "metadata": {},
   "source": [
    "### Grid Search\n",
    "Parameter Grid:\n",
    "\n",
    "    param_grid_rf = {\n",
    "        'bootstrap': [True],\n",
    "        'max_samples': [0.8, 0.9, None],\n",
    "        'max_depth': [8, 9, 10],\n",
    "        'n_estimators': [75, 100, 125],\n",
    "        'min_samples_leaf': [1, 5, 10]\n",
    "    }\n",
    "    \n",
    "Grid Search Params:\n",
    "\n",
    "    scoring='neg_mean_absolute_error'\n",
    "    cv = 3  "
   ]
  },
  {
   "cell_type": "code",
   "execution_count": 109,
   "metadata": {},
   "outputs": [
    {
     "name": "stdout",
     "output_type": "stream",
     "text": [
      "Shape of Training and Test inputs\n",
      "(2549828, 34) (2549828,)\n",
      "(637457, 34) (637457,)\n",
      "Fitting 3 folds for each of 81 candidates, totalling 243 fits\n",
      "Best params:\n",
      " {'bootstrap': True, 'max_depth': 10, 'max_samples': 0.9, 'min_samples_leaf': 5, 'n_estimators': 125}\n"
     ]
    }
   ],
   "source": [
    "model_rf_best_mae, y_pred, y_test = run_rf_grid_search(femaDf, frac = 1.0, scoring = 'neg_mean_absolute_error')"
   ]
  },
  {
   "cell_type": "code",
   "execution_count": 110,
   "metadata": {},
   "outputs": [
    {
     "name": "stdout",
     "output_type": "stream",
     "text": [
      "Mean Absolute Error: 62.8185168269257\n",
      "Mean Squared Error: 333776.8924875107\n",
      "Root Mean Squared Error: 577.7342749807308\n",
      "R-squared: 0.9518735085349349\n",
      "\n",
      "\n",
      "Total HA Amount actual:    $306,323,367.07\n",
      "Total HA Amount predicted: $305,457,100.07\n",
      "\n",
      "\n",
      "Percentage of predictions that are off by more than 20%: 2.74\n"
     ]
    }
   ],
   "source": [
    "evaluate(y_test, y_pred)"
   ]
  },
  {
   "cell_type": "code",
   "execution_count": 111,
   "metadata": {},
   "outputs": [
    {
     "data": {
      "text/html": [
       "<div>\n",
       "<style scoped>\n",
       "    .dataframe tbody tr th:only-of-type {\n",
       "        vertical-align: middle;\n",
       "    }\n",
       "\n",
       "    .dataframe tbody tr th {\n",
       "        vertical-align: top;\n",
       "    }\n",
       "\n",
       "    .dataframe thead th {\n",
       "        text-align: right;\n",
       "    }\n",
       "</style>\n",
       "<table border=\"1\" class=\"dataframe\">\n",
       "  <thead>\n",
       "    <tr style=\"text-align: right;\">\n",
       "      <th></th>\n",
       "      <th>count</th>\n",
       "      <th>mean</th>\n",
       "      <th>std</th>\n",
       "      <th>min</th>\n",
       "      <th>25%</th>\n",
       "      <th>50%</th>\n",
       "      <th>75%</th>\n",
       "      <th>max</th>\n",
       "    </tr>\n",
       "  </thead>\n",
       "  <tbody>\n",
       "    <tr>\n",
       "      <th>actual</th>\n",
       "      <td>637457.0</td>\n",
       "      <td>480.5396553336153</td>\n",
       "      <td>2633.518498364936</td>\n",
       "      <td>0.0</td>\n",
       "      <td>0.0</td>\n",
       "      <td>0.0</td>\n",
       "      <td>0.0</td>\n",
       "      <td>33300.0</td>\n",
       "    </tr>\n",
       "    <tr>\n",
       "      <th>predicted</th>\n",
       "      <td>637457.0</td>\n",
       "      <td>479.18071346972505</td>\n",
       "      <td>2561.189488723821</td>\n",
       "      <td>0.0</td>\n",
       "      <td>0.0</td>\n",
       "      <td>0.0</td>\n",
       "      <td>0.0</td>\n",
       "      <td>32649.35317740866</td>\n",
       "    </tr>\n",
       "    <tr>\n",
       "      <th>errors</th>\n",
       "      <td>637457.0</td>\n",
       "      <td>-1.3589418639326545</td>\n",
       "      <td>577.7331298846236</td>\n",
       "      <td>-33300.0</td>\n",
       "      <td>0.0</td>\n",
       "      <td>0.0</td>\n",
       "      <td>0.0</td>\n",
       "      <td>30262.173749418565</td>\n",
       "    </tr>\n",
       "  </tbody>\n",
       "</table>\n",
       "</div>"
      ],
      "text/plain": [
       "             count                mean               std      min  25%  50%  \\\n",
       "actual    637457.0   480.5396553336153 2633.518498364936      0.0  0.0  0.0   \n",
       "predicted 637457.0  479.18071346972505 2561.189488723821      0.0  0.0  0.0   \n",
       "errors    637457.0 -1.3589418639326545 577.7331298846236 -33300.0  0.0  0.0   \n",
       "\n",
       "           75%                max  \n",
       "actual     0.0            33300.0  \n",
       "predicted  0.0  32649.35317740866  \n",
       "errors     0.0 30262.173749418565  "
      ]
     },
     "execution_count": 111,
     "metadata": {},
     "output_type": "execute_result"
    }
   ],
   "source": [
    "# Look at the distribution of predictions/actuals/errors\n",
    "results_df = pd.DataFrame({'actual': y_test, 'predicted': y_pred})\n",
    "results_df['errors'] = results_df['predicted'] - results_df['actual']\n",
    "results_df.describe().transpose()"
   ]
  },
  {
   "cell_type": "markdown",
   "metadata": {},
   "source": [
    "### RandomForest Model1 - Hyperparameters based on prior grid search\n",
    "    max_depth = 10, max_samples = 0.8, n_estimators = 75, \n",
    "    min_samples_leaf = 10, random_state = 42"
   ]
  },
  {
   "cell_type": "code",
   "execution_count": null,
   "metadata": {},
   "outputs": [],
   "source": [
    "model_rf1, y_pred, y_test = run_rf(femaDf, frac = 1.0, max_depth = 10, max_samples = 0.8, \n",
    "                                  n_estimators = 75, min_samples_leaf = 10)"
   ]
  },
  {
   "cell_type": "code",
   "execution_count": 49,
   "metadata": {},
   "outputs": [
    {
     "name": "stdout",
     "output_type": "stream",
     "text": [
      "Mean Absolute Error: 62.89334403477637\n",
      "Mean Squared Error: 335313.7561781083\n",
      "Root Mean Squared Error: 579.0628257608222\n",
      "R-squared: 0.9516519118368013\n",
      "\n",
      "\n",
      "Total HA Amount actual:    $306,323,367.07\n",
      "Total HA Amount predicted: $305,455,969.57\n",
      "\n",
      "\n",
      "Percentage of predictions that are off by more than 20%: 2.73\n"
     ]
    }
   ],
   "source": [
    "evaluate(y_test, y_pred)"
   ]
  },
  {
   "cell_type": "code",
   "execution_count": 50,
   "metadata": {},
   "outputs": [
    {
     "data": {
      "text/html": [
       "<div>\n",
       "<style scoped>\n",
       "    .dataframe tbody tr th:only-of-type {\n",
       "        vertical-align: middle;\n",
       "    }\n",
       "\n",
       "    .dataframe tbody tr th {\n",
       "        vertical-align: top;\n",
       "    }\n",
       "\n",
       "    .dataframe thead th {\n",
       "        text-align: right;\n",
       "    }\n",
       "</style>\n",
       "<table border=\"1\" class=\"dataframe\">\n",
       "  <thead>\n",
       "    <tr style=\"text-align: right;\">\n",
       "      <th></th>\n",
       "      <th>count</th>\n",
       "      <th>mean</th>\n",
       "      <th>std</th>\n",
       "      <th>min</th>\n",
       "      <th>25%</th>\n",
       "      <th>50%</th>\n",
       "      <th>75%</th>\n",
       "      <th>max</th>\n",
       "    </tr>\n",
       "  </thead>\n",
       "  <tbody>\n",
       "    <tr>\n",
       "      <th>actual</th>\n",
       "      <td>637457.0</td>\n",
       "      <td>480.539655</td>\n",
       "      <td>2633.518498</td>\n",
       "      <td>0.0</td>\n",
       "      <td>0.0</td>\n",
       "      <td>0.0</td>\n",
       "      <td>0.0</td>\n",
       "      <td>33300.000000</td>\n",
       "    </tr>\n",
       "    <tr>\n",
       "      <th>predicted</th>\n",
       "      <td>637457.0</td>\n",
       "      <td>479.178940</td>\n",
       "      <td>2560.828884</td>\n",
       "      <td>0.0</td>\n",
       "      <td>0.0</td>\n",
       "      <td>0.0</td>\n",
       "      <td>0.0</td>\n",
       "      <td>32628.580871</td>\n",
       "    </tr>\n",
       "    <tr>\n",
       "      <th>errors</th>\n",
       "      <td>637457.0</td>\n",
       "      <td>-1.360715</td>\n",
       "      <td>579.061681</td>\n",
       "      <td>-33300.0</td>\n",
       "      <td>0.0</td>\n",
       "      <td>0.0</td>\n",
       "      <td>0.0</td>\n",
       "      <td>30344.002017</td>\n",
       "    </tr>\n",
       "  </tbody>\n",
       "</table>\n",
       "</div>"
      ],
      "text/plain": [
       "              count        mean          std      min  25%  50%  75%  \\\n",
       "actual     637457.0  480.539655  2633.518498      0.0  0.0  0.0  0.0   \n",
       "predicted  637457.0  479.178940  2560.828884      0.0  0.0  0.0  0.0   \n",
       "errors     637457.0   -1.360715   579.061681 -33300.0  0.0  0.0  0.0   \n",
       "\n",
       "                    max  \n",
       "actual     33300.000000  \n",
       "predicted  32628.580871  \n",
       "errors     30344.002017  "
      ]
     },
     "execution_count": 50,
     "metadata": {},
     "output_type": "execute_result"
    }
   ],
   "source": [
    "results_df = pd.DataFrame({'actual': y_test, 'predicted': y_pred})\n",
    "results_df['errors'] = results_df['predicted'] - results_df['actual']\n",
    "results_df.describe().transpose()"
   ]
  },
  {
   "cell_type": "code",
   "execution_count": 51,
   "metadata": {},
   "outputs": [
    {
     "data": {
      "text/plain": [
       "{'bootstrap': True,\n",
       " 'ccp_alpha': 0.0,\n",
       " 'criterion': 'mse',\n",
       " 'max_depth': 10,\n",
       " 'max_features': 'auto',\n",
       " 'max_leaf_nodes': None,\n",
       " 'max_samples': 0.8,\n",
       " 'min_impurity_decrease': 0.0,\n",
       " 'min_impurity_split': None,\n",
       " 'min_samples_leaf': 10,\n",
       " 'min_samples_split': 2,\n",
       " 'min_weight_fraction_leaf': 0.0,\n",
       " 'n_estimators': 75,\n",
       " 'n_jobs': None,\n",
       " 'oob_score': False,\n",
       " 'random_state': 42,\n",
       " 'verbose': 0,\n",
       " 'warm_start': False}"
      ]
     },
     "execution_count": 51,
     "metadata": {},
     "output_type": "execute_result"
    }
   ],
   "source": [
    "model_rf1.get_params()"
   ]
  },
  {
   "cell_type": "markdown",
   "metadata": {},
   "source": [
    "### RandomForest Model2 - Hyperparameters based on current grid search\n",
    "    max_depth = 10, max_samples = 0.9, n_estimators = 125, \n",
    "    min_samples_leaf = 5, random_state = 42"
   ]
  },
  {
   "cell_type": "code",
   "execution_count": 17,
   "metadata": {},
   "outputs": [
    {
     "name": "stdout",
     "output_type": "stream",
     "text": [
      "Shape of Training and Test inputs\n",
      "(2549828, 34) (2549828,)\n",
      "(637457, 34) (637457,)\n"
     ]
    }
   ],
   "source": [
    "model_rf2, y_pred, y_test = run_rf(femaDf, frac = 1.0, max_depth = 10, max_samples = 0.9, \n",
    "                                  n_estimators = 125, min_samples_leaf = 5)"
   ]
  },
  {
   "cell_type": "code",
   "execution_count": 18,
   "metadata": {},
   "outputs": [
    {
     "name": "stdout",
     "output_type": "stream",
     "text": [
      "Mean Absolute Error: 62.8185168269257\n",
      "Mean Squared Error: 333776.8924875107\n",
      "Root Mean Squared Error: 577.7342749807308\n",
      "R-squared: 0.9518735085349349\n",
      "\n",
      "\n",
      "Total HA Amount actual:    $306,323,367.07\n",
      "Total HA Amount predicted: $305,457,100.07\n",
      "\n",
      "\n",
      "Percentage of predictions that are off by more than 20%: 2.74\n"
     ]
    }
   ],
   "source": [
    "evaluate(y_test, y_pred)"
   ]
  },
  {
   "cell_type": "code",
   "execution_count": 19,
   "metadata": {},
   "outputs": [
    {
     "data": {
      "text/html": [
       "<div>\n",
       "<style scoped>\n",
       "    .dataframe tbody tr th:only-of-type {\n",
       "        vertical-align: middle;\n",
       "    }\n",
       "\n",
       "    .dataframe tbody tr th {\n",
       "        vertical-align: top;\n",
       "    }\n",
       "\n",
       "    .dataframe thead th {\n",
       "        text-align: right;\n",
       "    }\n",
       "</style>\n",
       "<table border=\"1\" class=\"dataframe\">\n",
       "  <thead>\n",
       "    <tr style=\"text-align: right;\">\n",
       "      <th></th>\n",
       "      <th>count</th>\n",
       "      <th>mean</th>\n",
       "      <th>std</th>\n",
       "      <th>min</th>\n",
       "      <th>25%</th>\n",
       "      <th>50%</th>\n",
       "      <th>75%</th>\n",
       "      <th>max</th>\n",
       "    </tr>\n",
       "  </thead>\n",
       "  <tbody>\n",
       "    <tr>\n",
       "      <th>actual</th>\n",
       "      <td>637457.0</td>\n",
       "      <td>480.539655</td>\n",
       "      <td>2633.518498</td>\n",
       "      <td>0.0</td>\n",
       "      <td>0.0</td>\n",
       "      <td>0.0</td>\n",
       "      <td>0.0</td>\n",
       "      <td>33300.000000</td>\n",
       "    </tr>\n",
       "    <tr>\n",
       "      <th>predicted</th>\n",
       "      <td>637457.0</td>\n",
       "      <td>479.180713</td>\n",
       "      <td>2561.189489</td>\n",
       "      <td>0.0</td>\n",
       "      <td>0.0</td>\n",
       "      <td>0.0</td>\n",
       "      <td>0.0</td>\n",
       "      <td>32649.353177</td>\n",
       "    </tr>\n",
       "    <tr>\n",
       "      <th>errors</th>\n",
       "      <td>637457.0</td>\n",
       "      <td>-1.358942</td>\n",
       "      <td>577.733130</td>\n",
       "      <td>-33300.0</td>\n",
       "      <td>0.0</td>\n",
       "      <td>0.0</td>\n",
       "      <td>0.0</td>\n",
       "      <td>30262.173749</td>\n",
       "    </tr>\n",
       "  </tbody>\n",
       "</table>\n",
       "</div>"
      ],
      "text/plain": [
       "              count        mean          std      min  25%  50%  75%  \\\n",
       "actual     637457.0  480.539655  2633.518498      0.0  0.0  0.0  0.0   \n",
       "predicted  637457.0  479.180713  2561.189489      0.0  0.0  0.0  0.0   \n",
       "errors     637457.0   -1.358942   577.733130 -33300.0  0.0  0.0  0.0   \n",
       "\n",
       "                    max  \n",
       "actual     33300.000000  \n",
       "predicted  32649.353177  \n",
       "errors     30262.173749  "
      ]
     },
     "execution_count": 19,
     "metadata": {},
     "output_type": "execute_result"
    }
   ],
   "source": [
    "results_df = pd.DataFrame({'actual': y_test, 'predicted': y_pred})\n",
    "results_df['errors'] = results_df['predicted'] - results_df['actual']\n",
    "results_df.describe().transpose()"
   ]
  },
  {
   "cell_type": "code",
   "execution_count": 20,
   "metadata": {},
   "outputs": [
    {
     "data": {
      "text/plain": [
       "{'bootstrap': True,\n",
       " 'ccp_alpha': 0.0,\n",
       " 'criterion': 'mse',\n",
       " 'max_depth': 10,\n",
       " 'max_features': 'auto',\n",
       " 'max_leaf_nodes': None,\n",
       " 'max_samples': 0.9,\n",
       " 'min_impurity_decrease': 0.0,\n",
       " 'min_impurity_split': None,\n",
       " 'min_samples_leaf': 5,\n",
       " 'min_samples_split': 2,\n",
       " 'min_weight_fraction_leaf': 0.0,\n",
       " 'n_estimators': 125,\n",
       " 'n_jobs': None,\n",
       " 'oob_score': False,\n",
       " 'random_state': 42,\n",
       " 'verbose': 0,\n",
       " 'warm_start': False}"
      ]
     },
     "execution_count": 20,
     "metadata": {},
     "output_type": "execute_result"
    }
   ],
   "source": [
    "model_rf2.get_params()"
   ]
  },
  {
   "cell_type": "markdown",
   "metadata": {},
   "source": [
    "### Predict on Test (PR) using RandomForest Model1"
   ]
  },
  {
   "cell_type": "code",
   "execution_count": 60,
   "metadata": {},
   "outputs": [
    {
     "name": "stdout",
     "output_type": "stream",
     "text": [
      "Shape of Training and Test inputs\n",
      "(1041745, 34) (1041745,)\n"
     ]
    }
   ],
   "source": [
    "y_pred, y_test = predict(femaTestDf, model_rf1)"
   ]
  },
  {
   "cell_type": "code",
   "execution_count": 61,
   "metadata": {},
   "outputs": [
    {
     "name": "stdout",
     "output_type": "stream",
     "text": [
      "Mean Absolute Error: 148.39029073886576\n",
      "Mean Squared Error: 340624.6058108677\n",
      "Root Mean Squared Error: 583.6305387921949\n",
      "R-squared: 0.9498066132658147\n",
      "\n",
      "\n",
      "Total HA Amount actual:    $635,239,074.74\n",
      "Total HA Amount predicted: $747,983,257.74\n",
      "\n",
      "\n",
      "Percentage of predictions that are off by more than 20%: 9.09\n"
     ]
    }
   ],
   "source": [
    "evaluate(y_test, y_pred)"
   ]
  },
  {
   "cell_type": "code",
   "execution_count": 62,
   "metadata": {},
   "outputs": [
    {
     "data": {
      "text/html": [
       "<div>\n",
       "<style scoped>\n",
       "    .dataframe tbody tr th:only-of-type {\n",
       "        vertical-align: middle;\n",
       "    }\n",
       "\n",
       "    .dataframe tbody tr th {\n",
       "        vertical-align: top;\n",
       "    }\n",
       "\n",
       "    .dataframe thead th {\n",
       "        text-align: right;\n",
       "    }\n",
       "</style>\n",
       "<table border=\"1\" class=\"dataframe\">\n",
       "  <thead>\n",
       "    <tr style=\"text-align: right;\">\n",
       "      <th></th>\n",
       "      <th>count</th>\n",
       "      <th>mean</th>\n",
       "      <th>std</th>\n",
       "      <th>min</th>\n",
       "      <th>25%</th>\n",
       "      <th>50%</th>\n",
       "      <th>75%</th>\n",
       "      <th>max</th>\n",
       "    </tr>\n",
       "  </thead>\n",
       "  <tbody>\n",
       "    <tr>\n",
       "      <th>actual</th>\n",
       "      <td>1041745.0</td>\n",
       "      <td>609.783656</td>\n",
       "      <td>2605.043423</td>\n",
       "      <td>0.0</td>\n",
       "      <td>0.0</td>\n",
       "      <td>0.0</td>\n",
       "      <td>0.0</td>\n",
       "      <td>33300.000000</td>\n",
       "    </tr>\n",
       "    <tr>\n",
       "      <th>predicted</th>\n",
       "      <td>1041745.0</td>\n",
       "      <td>718.009933</td>\n",
       "      <td>2746.260793</td>\n",
       "      <td>0.0</td>\n",
       "      <td>0.0</td>\n",
       "      <td>0.0</td>\n",
       "      <td>0.0</td>\n",
       "      <td>32764.975792</td>\n",
       "    </tr>\n",
       "    <tr>\n",
       "      <th>errors</th>\n",
       "      <td>1041745.0</td>\n",
       "      <td>108.226277</td>\n",
       "      <td>573.508496</td>\n",
       "      <td>-33300.0</td>\n",
       "      <td>0.0</td>\n",
       "      <td>0.0</td>\n",
       "      <td>0.0</td>\n",
       "      <td>30383.500813</td>\n",
       "    </tr>\n",
       "  </tbody>\n",
       "</table>\n",
       "</div>"
      ],
      "text/plain": [
       "               count        mean          std      min  25%  50%  75%  \\\n",
       "actual     1041745.0  609.783656  2605.043423      0.0  0.0  0.0  0.0   \n",
       "predicted  1041745.0  718.009933  2746.260793      0.0  0.0  0.0  0.0   \n",
       "errors     1041745.0  108.226277   573.508496 -33300.0  0.0  0.0  0.0   \n",
       "\n",
       "                    max  \n",
       "actual     33300.000000  \n",
       "predicted  32764.975792  \n",
       "errors     30383.500813  "
      ]
     },
     "execution_count": 62,
     "metadata": {},
     "output_type": "execute_result"
    }
   ],
   "source": [
    "results_df = pd.DataFrame({'actual': y_test, 'predicted': y_pred})\n",
    "results_df['errors'] = results_df['predicted'] - results_df['actual']\n",
    "results_df.describe().transpose()"
   ]
  },
  {
   "cell_type": "markdown",
   "metadata": {},
   "source": [
    "### Predict on Test (PR) using RandomForest Model2"
   ]
  },
  {
   "cell_type": "code",
   "execution_count": 21,
   "metadata": {},
   "outputs": [
    {
     "name": "stdout",
     "output_type": "stream",
     "text": [
      "Shape of Training and Test inputs\n",
      "(1041745, 34) (1041745,)\n"
     ]
    }
   ],
   "source": [
    "y_pred, y_test = predict(femaTestDf, model_rf2)"
   ]
  },
  {
   "cell_type": "code",
   "execution_count": 42,
   "metadata": {},
   "outputs": [
    {
     "name": "stdout",
     "output_type": "stream",
     "text": [
      "Mean Absolute Error: 148.33306720584585\n",
      "Mean Squared Error: 341074.8684423491\n",
      "Root Mean Squared Error: 584.0161542648876\n",
      "R-squared: 0.9497402639592516\n",
      "\n",
      "\n",
      "Total HA Amount actual:    $635,239,074.74\n",
      "Total HA Amount predicted: $748,574,488.17\n",
      "\n",
      "\n",
      "Percentage of predictions that are off by more than 20%: 9.16\n"
     ]
    }
   ],
   "source": [
    "evaluate(y_test, y_pred)"
   ]
  },
  {
   "cell_type": "code",
   "execution_count": 43,
   "metadata": {},
   "outputs": [
    {
     "data": {
      "text/html": [
       "<div>\n",
       "<style scoped>\n",
       "    .dataframe tbody tr th:only-of-type {\n",
       "        vertical-align: middle;\n",
       "    }\n",
       "\n",
       "    .dataframe tbody tr th {\n",
       "        vertical-align: top;\n",
       "    }\n",
       "\n",
       "    .dataframe thead th {\n",
       "        text-align: right;\n",
       "    }\n",
       "</style>\n",
       "<table border=\"1\" class=\"dataframe\">\n",
       "  <thead>\n",
       "    <tr style=\"text-align: right;\">\n",
       "      <th></th>\n",
       "      <th>count</th>\n",
       "      <th>mean</th>\n",
       "      <th>std</th>\n",
       "      <th>min</th>\n",
       "      <th>25%</th>\n",
       "      <th>50%</th>\n",
       "      <th>75%</th>\n",
       "      <th>max</th>\n",
       "    </tr>\n",
       "  </thead>\n",
       "  <tbody>\n",
       "    <tr>\n",
       "      <th>actual</th>\n",
       "      <td>1041745.0</td>\n",
       "      <td>609.783656</td>\n",
       "      <td>2605.043423</td>\n",
       "      <td>0.0</td>\n",
       "      <td>0.0</td>\n",
       "      <td>0.0</td>\n",
       "      <td>0.0</td>\n",
       "      <td>33300.000000</td>\n",
       "    </tr>\n",
       "    <tr>\n",
       "      <th>predicted</th>\n",
       "      <td>1041745.0</td>\n",
       "      <td>718.577472</td>\n",
       "      <td>2751.919321</td>\n",
       "      <td>0.0</td>\n",
       "      <td>0.0</td>\n",
       "      <td>0.0</td>\n",
       "      <td>0.0</td>\n",
       "      <td>32834.874317</td>\n",
       "    </tr>\n",
       "    <tr>\n",
       "      <th>errors</th>\n",
       "      <td>1041745.0</td>\n",
       "      <td>108.793816</td>\n",
       "      <td>573.793595</td>\n",
       "      <td>-33300.0</td>\n",
       "      <td>0.0</td>\n",
       "      <td>0.0</td>\n",
       "      <td>0.0</td>\n",
       "      <td>30016.005418</td>\n",
       "    </tr>\n",
       "  </tbody>\n",
       "</table>\n",
       "</div>"
      ],
      "text/plain": [
       "               count        mean          std      min  25%  50%  75%  \\\n",
       "actual     1041745.0  609.783656  2605.043423      0.0  0.0  0.0  0.0   \n",
       "predicted  1041745.0  718.577472  2751.919321      0.0  0.0  0.0  0.0   \n",
       "errors     1041745.0  108.793816   573.793595 -33300.0  0.0  0.0  0.0   \n",
       "\n",
       "                    max  \n",
       "actual     33300.000000  \n",
       "predicted  32834.874317  \n",
       "errors     30016.005418  "
      ]
     },
     "execution_count": 43,
     "metadata": {},
     "output_type": "execute_result"
    }
   ],
   "source": [
    "results_df = pd.DataFrame({'actual': y_test, 'predicted': y_pred})\n",
    "results_df['errors'] = results_df['predicted'] - results_df['actual']\n",
    "results_df.describe().transpose()"
   ]
  },
  {
   "cell_type": "markdown",
   "metadata": {},
   "source": [
    "### Generate Prediction Files using RandomForest Model2 predictions"
   ]
  },
  {
   "cell_type": "code",
   "execution_count": 45,
   "metadata": {},
   "outputs": [],
   "source": [
    "# Append predictions to femaTestData\n",
    "femaTestData['haAmount_predicted'] = y_pred"
   ]
  },
  {
   "cell_type": "code",
   "execution_count": 54,
   "metadata": {},
   "outputs": [
    {
     "data": {
      "text/plain": [
       "Index(['disasterNumber', 'damagedCity', 'damagedStateAbbreviation',\n",
       "       'damagedZipCode', 'householdComposition', 'grossIncome', 'specialNeeds',\n",
       "       'homeOwnersInsurance', 'floodInsurance', 'inspected', 'rpfvl',\n",
       "       'habitabilityRepairsRequired', 'destroyed', 'waterLevel', 'floodDamage',\n",
       "       'foundationDamage', 'foundationDamageAmount', 'roofDamage',\n",
       "       'roofDamageAmount', 'tsaEligible', 'tsaCheckedIn',\n",
       "       'rentalAssistanceEligible', 'rentalAssistanceAmount',\n",
       "       'repairAssistanceEligible', 'repairAmount',\n",
       "       'replacementAssistanceEligible', 'replacementAmount', 'sbaEligible',\n",
       "       'renterDamageLevel', 'rentalAssistanceEndDate', 'rentalResourceCity',\n",
       "       'rentalResourceStateAbbreviation', 'rentalResourceZipCode',\n",
       "       'primaryResidence', 'personalPropertyEligible', 'ppfvl',\n",
       "       'censusBlockId', 'censusYear', 'id', 'censusTractId', 'censusid',\n",
       "       'tractid', 'tractname', 'county', 'state', 'below_poverty_rate',\n",
       "       'median_earnings_total', 'unemployed_labor_rate',\n",
       "       'built_1979_or_earlier_rate', 'owner_occupied_rate', 'dvi', 'haAmount',\n",
       "       'ownRent_Owner', 'ownRent_Renter', 'ownRent_Unknown',\n",
       "       'residenceType_Apartment', 'residenceType_Assisted Living Facility',\n",
       "       'residenceType_Boat', 'residenceType_College Dorm',\n",
       "       'residenceType_Condo', 'residenceType_Correctional Facility',\n",
       "       'residenceType_House/Duplex', 'residenceType_Military Housing',\n",
       "       'residenceType_Mobile Home', 'residenceType_Other',\n",
       "       'residenceType_Townhouse', 'residenceType_Travel Trailer',\n",
       "       'residenceType_Unknown', 'haAmount_predicted'],\n",
       "      dtype='object')"
      ]
     },
     "execution_count": 54,
     "metadata": {},
     "output_type": "execute_result"
    }
   ],
   "source": [
    "femaTestData.columns"
   ]
  },
  {
   "cell_type": "code",
   "execution_count": 55,
   "metadata": {},
   "outputs": [
    {
     "data": {
      "text/plain": [
       "Index(['disasterNumber', 'damagedCity', 'damagedStateAbbreviation',\n",
       "       'damagedZipCode', 'householdComposition', 'grossIncome', 'specialNeeds',\n",
       "       'homeOwnersInsurance', 'floodInsurance', 'inspected', 'rpfvl',\n",
       "       'habitabilityRepairsRequired', 'destroyed', 'waterLevel', 'floodDamage',\n",
       "       'foundationDamage', 'foundationDamageAmount', 'roofDamage',\n",
       "       'roofDamageAmount', 'tsaEligible', 'tsaCheckedIn',\n",
       "       'rentalAssistanceEligible', 'rentalAssistanceAmount',\n",
       "       'repairAssistanceEligible', 'repairAmount',\n",
       "       'replacementAssistanceEligible', 'replacementAmount', 'sbaEligible',\n",
       "       'renterDamageLevel', 'rentalAssistanceEndDate', 'rentalResourceCity',\n",
       "       'rentalResourceStateAbbreviation', 'rentalResourceZipCode',\n",
       "       'primaryResidence', 'personalPropertyEligible', 'ppfvl',\n",
       "       'censusBlockId', 'censusYear', 'id', 'censusTractId', 'censusid',\n",
       "       'tractid', 'tractname', 'county', 'state', 'median_earnings_total',\n",
       "       'haAmount', 'ownRent_Owner', 'ownRent_Renter', 'ownRent_Unknown',\n",
       "       'residenceType_Apartment', 'residenceType_Assisted Living Facility',\n",
       "       'residenceType_Boat', 'residenceType_College Dorm',\n",
       "       'residenceType_Condo', 'residenceType_Correctional Facility',\n",
       "       'residenceType_House/Duplex', 'residenceType_Military Housing',\n",
       "       'residenceType_Mobile Home', 'residenceType_Other',\n",
       "       'residenceType_Townhouse', 'residenceType_Travel Trailer',\n",
       "       'residenceType_Unknown', 'haAmount_predicted'],\n",
       "      dtype='object')"
      ]
     },
     "execution_count": 55,
     "metadata": {},
     "output_type": "execute_result"
    }
   ],
   "source": [
    "# Drop demographics from FEMA file\n",
    "femaTestData2 = femaTestData.drop(['below_poverty_rate', 'unemployed_labor_rate',\n",
    "                                   'built_1979_or_earlier_rate', 'owner_occupied_rate', 'dvi'], axis=1)\n",
    "                            \n",
    "femaTestData2.columns"
   ]
  },
  {
   "cell_type": "markdown",
   "metadata": {},
   "source": [
    "### Combine Demographics with PR Predictions (GisJoin)"
   ]
  },
  {
   "cell_type": "code",
   "execution_count": 56,
   "metadata": {},
   "outputs": [],
   "source": [
    "# Load demographics data\n",
    "demoDf = pd.read_csv(\"../data/census-tract/census-tract-demographics.csv\")"
   ]
  },
  {
   "cell_type": "code",
   "execution_count": 57,
   "metadata": {},
   "outputs": [
    {
     "data": {
      "text/html": [
       "<div>\n",
       "<style scoped>\n",
       "    .dataframe tbody tr th:only-of-type {\n",
       "        vertical-align: middle;\n",
       "    }\n",
       "\n",
       "    .dataframe tbody tr th {\n",
       "        vertical-align: top;\n",
       "    }\n",
       "\n",
       "    .dataframe thead th {\n",
       "        text-align: right;\n",
       "    }\n",
       "</style>\n",
       "<table border=\"1\" class=\"dataframe\">\n",
       "  <thead>\n",
       "    <tr style=\"text-align: right;\">\n",
       "      <th></th>\n",
       "      <th>tractid</th>\n",
       "      <th>gisjoin</th>\n",
       "    </tr>\n",
       "  </thead>\n",
       "  <tbody>\n",
       "    <tr>\n",
       "      <th>0</th>\n",
       "      <td>12001000200</td>\n",
       "      <td>G1200010000200</td>\n",
       "    </tr>\n",
       "    <tr>\n",
       "      <th>1</th>\n",
       "      <td>12001000301</td>\n",
       "      <td>G1200010000301</td>\n",
       "    </tr>\n",
       "    <tr>\n",
       "      <th>2</th>\n",
       "      <td>12001000302</td>\n",
       "      <td>G1200010000302</td>\n",
       "    </tr>\n",
       "  </tbody>\n",
       "</table>\n",
       "</div>"
      ],
      "text/plain": [
       "       tractid         gisjoin\n",
       "0  12001000200  G1200010000200\n",
       "1  12001000301  G1200010000301\n",
       "2  12001000302  G1200010000302"
      ]
     },
     "execution_count": 57,
     "metadata": {},
     "output_type": "execute_result"
    }
   ],
   "source": [
    "# Select subset of variables\n",
    "demoDf = demoDf[['tractid', 'gisjoin']]\n",
    "\n",
    "demoDf.head(3)"
   ]
  },
  {
   "cell_type": "code",
   "execution_count": 68,
   "metadata": {},
   "outputs": [],
   "source": [
    "# Merge predictions with demographics - need GISJOIN for Tableau visualizations\n",
    "femaTestData = pd.merge(femaTestData, demoDf, left_on='censusTractId', right_on='tractid')\n",
    "\n",
    "# Remove common join column\n",
    "femaTestData = femaTestData.drop(['tractid_y'], axis=1)"
   ]
  },
  {
   "cell_type": "markdown",
   "metadata": {},
   "source": [
    "### Create Prediction Files"
   ]
  },
  {
   "cell_type": "code",
   "execution_count": 69,
   "metadata": {},
   "outputs": [
    {
     "name": "stdout",
     "output_type": "stream",
     "text": [
      "1041745\n"
     ]
    }
   ],
   "source": [
    "# Write predictions\n",
    "femaTestData.to_csv(\"./predictions/FEMA-Large-PR-predictions.csv\", index=False, encoding='utf-8')\n",
    "print(len(femaTestData))"
   ]
  },
  {
   "cell_type": "code",
   "execution_count": 70,
   "metadata": {},
   "outputs": [],
   "source": [
    "# Write predictions - zipped\n",
    "femaTestData.to_csv(\"./predictions/FEMA-Large-PR-predictions.csv.gz\", index=False, encoding='utf-8', compression='gzip')"
   ]
  },
  {
   "cell_type": "code",
   "execution_count": 71,
   "metadata": {},
   "outputs": [],
   "source": [
    "# Rollup aggregations to censusTractId\n",
    "femaTestData_CensusTract = femaTestData.groupby(['censusTractId', 'gisjoin']).agg({\n",
    "                                           'id': ['count'], \n",
    "                                           'grossIncome': ['mean'],\n",
    "                                           'householdComposition': ['mean'],                                           \n",
    "                                           'specialNeeds': ['sum'], \n",
    "                                           'homeOwnersInsurance': ['sum'],\n",
    "                                           'floodInsurance': ['sum'],\n",
    "                                           'inspected': ['sum'],\n",
    "                                           'rpfvl': ['sum'],\n",
    "                                           'habitabilityRepairsRequired': ['sum'],\n",
    "                                           'destroyed': ['sum'],\n",
    "                                           'waterLevel': ['mean'],\n",
    "                                           'floodDamage': ['sum'],\n",
    "                                           'foundationDamage': ['sum'], \n",
    "                                           'foundationDamageAmount': ['sum'], \n",
    "                                           'roofDamage': ['sum'],\n",
    "                                           'roofDamageAmount': ['sum'], \n",
    "                                           'tsaEligible': ['sum'], \n",
    "                                           'tsaCheckedIn': ['sum'],\n",
    "                                           'rentalAssistanceEligible': ['sum'], \n",
    "                                           'rentalAssistanceAmount': ['sum'], \n",
    "                                           'repairAssistanceEligible': ['sum'],\n",
    "                                           'repairAmount': ['sum'],\n",
    "                                           'replacementAssistanceEligible': ['sum'], \n",
    "                                           'replacementAmount': ['sum'], \n",
    "                                           'sbaEligible': ['sum'],\n",
    "                                           'primaryResidence': ['sum'], \n",
    "                                           'personalPropertyEligible': ['sum'], \n",
    "                                           'ppfvl': ['sum'],\n",
    "                                           'haAmount': ['sum'],\n",
    "                                           'haAmount_predicted': ['sum']\n",
    "                                          }).round(2)"
   ]
  },
  {
   "cell_type": "code",
   "execution_count": 72,
   "metadata": {},
   "outputs": [
    {
     "data": {
      "text/html": [
       "<div>\n",
       "<style scoped>\n",
       "    .dataframe tbody tr th:only-of-type {\n",
       "        vertical-align: middle;\n",
       "    }\n",
       "\n",
       "    .dataframe tbody tr th {\n",
       "        vertical-align: top;\n",
       "    }\n",
       "\n",
       "    .dataframe thead tr th {\n",
       "        text-align: left;\n",
       "    }\n",
       "\n",
       "    .dataframe thead tr:last-of-type th {\n",
       "        text-align: right;\n",
       "    }\n",
       "</style>\n",
       "<table border=\"1\" class=\"dataframe\">\n",
       "  <thead>\n",
       "    <tr>\n",
       "      <th></th>\n",
       "      <th></th>\n",
       "      <th>id</th>\n",
       "      <th>grossIncome</th>\n",
       "      <th>householdComposition</th>\n",
       "      <th>specialNeeds</th>\n",
       "      <th>homeOwnersInsurance</th>\n",
       "      <th>floodInsurance</th>\n",
       "      <th>inspected</th>\n",
       "      <th>rpfvl</th>\n",
       "      <th>habitabilityRepairsRequired</th>\n",
       "      <th>destroyed</th>\n",
       "      <th>waterLevel</th>\n",
       "      <th>floodDamage</th>\n",
       "      <th>foundationDamage</th>\n",
       "      <th>foundationDamageAmount</th>\n",
       "      <th>roofDamage</th>\n",
       "      <th>roofDamageAmount</th>\n",
       "      <th>tsaEligible</th>\n",
       "      <th>tsaCheckedIn</th>\n",
       "      <th>rentalAssistanceEligible</th>\n",
       "      <th>rentalAssistanceAmount</th>\n",
       "      <th>repairAssistanceEligible</th>\n",
       "      <th>repairAmount</th>\n",
       "      <th>replacementAssistanceEligible</th>\n",
       "      <th>replacementAmount</th>\n",
       "      <th>sbaEligible</th>\n",
       "      <th>primaryResidence</th>\n",
       "      <th>personalPropertyEligible</th>\n",
       "      <th>ppfvl</th>\n",
       "      <th>haAmount</th>\n",
       "      <th>haAmount_predicted</th>\n",
       "    </tr>\n",
       "    <tr>\n",
       "      <th></th>\n",
       "      <th></th>\n",
       "      <th>count</th>\n",
       "      <th>mean</th>\n",
       "      <th>mean</th>\n",
       "      <th>sum</th>\n",
       "      <th>sum</th>\n",
       "      <th>sum</th>\n",
       "      <th>sum</th>\n",
       "      <th>sum</th>\n",
       "      <th>sum</th>\n",
       "      <th>sum</th>\n",
       "      <th>mean</th>\n",
       "      <th>sum</th>\n",
       "      <th>sum</th>\n",
       "      <th>sum</th>\n",
       "      <th>sum</th>\n",
       "      <th>sum</th>\n",
       "      <th>sum</th>\n",
       "      <th>sum</th>\n",
       "      <th>sum</th>\n",
       "      <th>sum</th>\n",
       "      <th>sum</th>\n",
       "      <th>sum</th>\n",
       "      <th>sum</th>\n",
       "      <th>sum</th>\n",
       "      <th>sum</th>\n",
       "      <th>sum</th>\n",
       "      <th>sum</th>\n",
       "      <th>sum</th>\n",
       "      <th>sum</th>\n",
       "      <th>sum</th>\n",
       "    </tr>\n",
       "    <tr>\n",
       "      <th>censusTractId</th>\n",
       "      <th>gisjoin</th>\n",
       "      <th></th>\n",
       "      <th></th>\n",
       "      <th></th>\n",
       "      <th></th>\n",
       "      <th></th>\n",
       "      <th></th>\n",
       "      <th></th>\n",
       "      <th></th>\n",
       "      <th></th>\n",
       "      <th></th>\n",
       "      <th></th>\n",
       "      <th></th>\n",
       "      <th></th>\n",
       "      <th></th>\n",
       "      <th></th>\n",
       "      <th></th>\n",
       "      <th></th>\n",
       "      <th></th>\n",
       "      <th></th>\n",
       "      <th></th>\n",
       "      <th></th>\n",
       "      <th></th>\n",
       "      <th></th>\n",
       "      <th></th>\n",
       "      <th></th>\n",
       "      <th></th>\n",
       "      <th></th>\n",
       "      <th></th>\n",
       "      <th></th>\n",
       "      <th></th>\n",
       "    </tr>\n",
       "  </thead>\n",
       "  <tbody>\n",
       "    <tr>\n",
       "      <th>12099007201</th>\n",
       "      <th>G1200990007201</th>\n",
       "      <td>1</td>\n",
       "      <td>2000.0</td>\n",
       "      <td>4.0</td>\n",
       "      <td>0</td>\n",
       "      <td>0</td>\n",
       "      <td>0</td>\n",
       "      <td>1</td>\n",
       "      <td>21523.41</td>\n",
       "      <td>1</td>\n",
       "      <td>0</td>\n",
       "      <td>0.0</td>\n",
       "      <td>0</td>\n",
       "      <td>0</td>\n",
       "      <td>0.0</td>\n",
       "      <td>1</td>\n",
       "      <td>1920.0</td>\n",
       "      <td>1</td>\n",
       "      <td>1</td>\n",
       "      <td>1</td>\n",
       "      <td>1080.0</td>\n",
       "      <td>1</td>\n",
       "      <td>21523.41</td>\n",
       "      <td>0</td>\n",
       "      <td>0.0</td>\n",
       "      <td>0</td>\n",
       "      <td>1</td>\n",
       "      <td>1</td>\n",
       "      <td>14819.02</td>\n",
       "      <td>22603.41</td>\n",
       "      <td>24479.32</td>\n",
       "    </tr>\n",
       "    <tr>\n",
       "      <th>12103026601</th>\n",
       "      <th>G1201030026601</th>\n",
       "      <td>1</td>\n",
       "      <td>69800.0</td>\n",
       "      <td>1.0</td>\n",
       "      <td>0</td>\n",
       "      <td>0</td>\n",
       "      <td>0</td>\n",
       "      <td>1</td>\n",
       "      <td>0.0</td>\n",
       "      <td>1</td>\n",
       "      <td>0</td>\n",
       "      <td>0.0</td>\n",
       "      <td>0</td>\n",
       "      <td>0</td>\n",
       "      <td>0.0</td>\n",
       "      <td>0</td>\n",
       "      <td>0.0</td>\n",
       "      <td>0</td>\n",
       "      <td>0</td>\n",
       "      <td>0</td>\n",
       "      <td>0.0</td>\n",
       "      <td>0</td>\n",
       "      <td>0.0</td>\n",
       "      <td>0</td>\n",
       "      <td>0.0</td>\n",
       "      <td>0</td>\n",
       "      <td>1</td>\n",
       "      <td>0</td>\n",
       "      <td>0.0</td>\n",
       "      <td>0.0</td>\n",
       "      <td>0.0</td>\n",
       "    </tr>\n",
       "    <tr>\n",
       "      <th>12105012503</th>\n",
       "      <th>G1201050012503</th>\n",
       "      <td>1</td>\n",
       "      <td>20000.0</td>\n",
       "      <td>1.0</td>\n",
       "      <td>0</td>\n",
       "      <td>0</td>\n",
       "      <td>0</td>\n",
       "      <td>1</td>\n",
       "      <td>0.0</td>\n",
       "      <td>0</td>\n",
       "      <td>0</td>\n",
       "      <td>0.0</td>\n",
       "      <td>0</td>\n",
       "      <td>0</td>\n",
       "      <td>0.0</td>\n",
       "      <td>0</td>\n",
       "      <td>0.0</td>\n",
       "      <td>1</td>\n",
       "      <td>0</td>\n",
       "      <td>0</td>\n",
       "      <td>0.0</td>\n",
       "      <td>0</td>\n",
       "      <td>0.0</td>\n",
       "      <td>0</td>\n",
       "      <td>0.0</td>\n",
       "      <td>0</td>\n",
       "      <td>0</td>\n",
       "      <td>0</td>\n",
       "      <td>0.0</td>\n",
       "      <td>0.0</td>\n",
       "      <td>0.0</td>\n",
       "    </tr>\n",
       "    <tr>\n",
       "      <th>72001956300</th>\n",
       "      <th>G7200010956300</th>\n",
       "      <td>3034</td>\n",
       "      <td>23879.69</td>\n",
       "      <td>2.34</td>\n",
       "      <td>73</td>\n",
       "      <td>124</td>\n",
       "      <td>14</td>\n",
       "      <td>2202</td>\n",
       "      <td>6297242.05</td>\n",
       "      <td>2089</td>\n",
       "      <td>27</td>\n",
       "      <td>0.12</td>\n",
       "      <td>44</td>\n",
       "      <td>52</td>\n",
       "      <td>86689.77</td>\n",
       "      <td>741</td>\n",
       "      <td>876777.02</td>\n",
       "      <td>2771</td>\n",
       "      <td>28</td>\n",
       "      <td>531</td>\n",
       "      <td>441056.0</td>\n",
       "      <td>689</td>\n",
       "      <td>2788698.19</td>\n",
       "      <td>18</td>\n",
       "      <td>545495.04</td>\n",
       "      <td>101</td>\n",
       "      <td>2924</td>\n",
       "      <td>878</td>\n",
       "      <td>2604425.11</td>\n",
       "      <td>3775249.23</td>\n",
       "      <td>4393409.96</td>\n",
       "    </tr>\n",
       "    <tr>\n",
       "      <th>72001956400</th>\n",
       "      <th>G7200010956400</th>\n",
       "      <td>35</td>\n",
       "      <td>36590.36</td>\n",
       "      <td>2.14</td>\n",
       "      <td>0</td>\n",
       "      <td>0</td>\n",
       "      <td>1</td>\n",
       "      <td>27</td>\n",
       "      <td>44463.88</td>\n",
       "      <td>22</td>\n",
       "      <td>0</td>\n",
       "      <td>0.4</td>\n",
       "      <td>2</td>\n",
       "      <td>2</td>\n",
       "      <td>5011.97</td>\n",
       "      <td>10</td>\n",
       "      <td>11940.6</td>\n",
       "      <td>32</td>\n",
       "      <td>0</td>\n",
       "      <td>7</td>\n",
       "      <td>5592.0</td>\n",
       "      <td>11</td>\n",
       "      <td>39423.41</td>\n",
       "      <td>0</td>\n",
       "      <td>0.0</td>\n",
       "      <td>0</td>\n",
       "      <td>32</td>\n",
       "      <td>18</td>\n",
       "      <td>37541.08</td>\n",
       "      <td>45015.41</td>\n",
       "      <td>55982.52</td>\n",
       "    </tr>\n",
       "    <tr>\n",
       "      <th>72001956500</th>\n",
       "      <th>G7200010956500</th>\n",
       "      <td>122</td>\n",
       "      <td>13109.69</td>\n",
       "      <td>2.37</td>\n",
       "      <td>4</td>\n",
       "      <td>2</td>\n",
       "      <td>1</td>\n",
       "      <td>87</td>\n",
       "      <td>264345.62</td>\n",
       "      <td>88</td>\n",
       "      <td>1</td>\n",
       "      <td>0.87</td>\n",
       "      <td>4</td>\n",
       "      <td>1</td>\n",
       "      <td>1117.03</td>\n",
       "      <td>36</td>\n",
       "      <td>38054.12</td>\n",
       "      <td>104</td>\n",
       "      <td>1</td>\n",
       "      <td>29</td>\n",
       "      <td>26251.0</td>\n",
       "      <td>36</td>\n",
       "      <td>118017.55</td>\n",
       "      <td>1</td>\n",
       "      <td>21964.16</td>\n",
       "      <td>3</td>\n",
       "      <td>115</td>\n",
       "      <td>41</td>\n",
       "      <td>122966.6</td>\n",
       "      <td>166232.71</td>\n",
       "      <td>202030.18</td>\n",
       "    </tr>\n",
       "    <tr>\n",
       "      <th>72001956600</th>\n",
       "      <th>G7200010956600</th>\n",
       "      <td>1040</td>\n",
       "      <td>39354.27</td>\n",
       "      <td>2.21</td>\n",
       "      <td>17</td>\n",
       "      <td>54</td>\n",
       "      <td>7</td>\n",
       "      <td>716</td>\n",
       "      <td>1329886.54</td>\n",
       "      <td>695</td>\n",
       "      <td>5</td>\n",
       "      <td>0.16</td>\n",
       "      <td>16</td>\n",
       "      <td>15</td>\n",
       "      <td>49252.91</td>\n",
       "      <td>211</td>\n",
       "      <td>215598.25</td>\n",
       "      <td>926</td>\n",
       "      <td>8</td>\n",
       "      <td>146</td>\n",
       "      <td>138175.0</td>\n",
       "      <td>182</td>\n",
       "      <td>660180.1</td>\n",
       "      <td>3</td>\n",
       "      <td>91487.55</td>\n",
       "      <td>26</td>\n",
       "      <td>1009</td>\n",
       "      <td>258</td>\n",
       "      <td>625858.67</td>\n",
       "      <td>889842.65</td>\n",
       "      <td>1044062.92</td>\n",
       "    </tr>\n",
       "    <tr>\n",
       "      <th>72001956700</th>\n",
       "      <th>G7200010956700</th>\n",
       "      <td>506</td>\n",
       "      <td>15960.97</td>\n",
       "      <td>2.14</td>\n",
       "      <td>9</td>\n",
       "      <td>29</td>\n",
       "      <td>8</td>\n",
       "      <td>374</td>\n",
       "      <td>704028.45</td>\n",
       "      <td>304</td>\n",
       "      <td>2</td>\n",
       "      <td>0.13</td>\n",
       "      <td>12</td>\n",
       "      <td>11</td>\n",
       "      <td>4612.48</td>\n",
       "      <td>136</td>\n",
       "      <td>123651.62</td>\n",
       "      <td>414</td>\n",
       "      <td>3</td>\n",
       "      <td>101</td>\n",
       "      <td>105317.0</td>\n",
       "      <td>121</td>\n",
       "      <td>401896.18</td>\n",
       "      <td>2</td>\n",
       "      <td>64988.0</td>\n",
       "      <td>17</td>\n",
       "      <td>490</td>\n",
       "      <td>163</td>\n",
       "      <td>320987.41</td>\n",
       "      <td>572201.18</td>\n",
       "      <td>634597.24</td>\n",
       "    </tr>\n",
       "    <tr>\n",
       "      <th>72001956800</th>\n",
       "      <th>G7200010956800</th>\n",
       "      <td>955</td>\n",
       "      <td>22377.89</td>\n",
       "      <td>2.5</td>\n",
       "      <td>22</td>\n",
       "      <td>51</td>\n",
       "      <td>8</td>\n",
       "      <td>734</td>\n",
       "      <td>2183525.6</td>\n",
       "      <td>643</td>\n",
       "      <td>8</td>\n",
       "      <td>0.2</td>\n",
       "      <td>17</td>\n",
       "      <td>18</td>\n",
       "      <td>7815.43</td>\n",
       "      <td>280</td>\n",
       "      <td>350929.77</td>\n",
       "      <td>864</td>\n",
       "      <td>8</td>\n",
       "      <td>208</td>\n",
       "      <td>189456.0</td>\n",
       "      <td>271</td>\n",
       "      <td>1127337.69</td>\n",
       "      <td>6</td>\n",
       "      <td>188202.56</td>\n",
       "      <td>52</td>\n",
       "      <td>920</td>\n",
       "      <td>312</td>\n",
       "      <td>951804.55</td>\n",
       "      <td>1504996.25</td>\n",
       "      <td>1749909.58</td>\n",
       "    </tr>\n",
       "    <tr>\n",
       "      <th>72003430100</th>\n",
       "      <th>G7200030430100</th>\n",
       "      <td>385</td>\n",
       "      <td>45395.84</td>\n",
       "      <td>2.27</td>\n",
       "      <td>12</td>\n",
       "      <td>31</td>\n",
       "      <td>9</td>\n",
       "      <td>242</td>\n",
       "      <td>428094.69</td>\n",
       "      <td>302</td>\n",
       "      <td>1</td>\n",
       "      <td>3.22</td>\n",
       "      <td>41</td>\n",
       "      <td>3</td>\n",
       "      <td>111.39</td>\n",
       "      <td>41</td>\n",
       "      <td>42803.37</td>\n",
       "      <td>349</td>\n",
       "      <td>4</td>\n",
       "      <td>51</td>\n",
       "      <td>48212.0</td>\n",
       "      <td>66</td>\n",
       "      <td>227772.94</td>\n",
       "      <td>0</td>\n",
       "      <td>0.0</td>\n",
       "      <td>14</td>\n",
       "      <td>376</td>\n",
       "      <td>77</td>\n",
       "      <td>373226.73</td>\n",
       "      <td>275984.94</td>\n",
       "      <td>351118.18</td>\n",
       "    </tr>\n",
       "  </tbody>\n",
       "</table>\n",
       "</div>"
      ],
      "text/plain": [
       "                                id grossIncome householdComposition  \\\n",
       "                             count        mean                 mean   \n",
       "censusTractId gisjoin                                                 \n",
       "12099007201   G1200990007201     1      2000.0                  4.0   \n",
       "12103026601   G1201030026601     1     69800.0                  1.0   \n",
       "12105012503   G1201050012503     1     20000.0                  1.0   \n",
       "72001956300   G7200010956300  3034    23879.69                 2.34   \n",
       "72001956400   G7200010956400    35    36590.36                 2.14   \n",
       "72001956500   G7200010956500   122    13109.69                 2.37   \n",
       "72001956600   G7200010956600  1040    39354.27                 2.21   \n",
       "72001956700   G7200010956700   506    15960.97                 2.14   \n",
       "72001956800   G7200010956800   955    22377.89                  2.5   \n",
       "72003430100   G7200030430100   385    45395.84                 2.27   \n",
       "\n",
       "                             specialNeeds homeOwnersInsurance floodInsurance  \\\n",
       "                                      sum                 sum            sum   \n",
       "censusTractId gisjoin                                                          \n",
       "12099007201   G1200990007201            0                   0              0   \n",
       "12103026601   G1201030026601            0                   0              0   \n",
       "12105012503   G1201050012503            0                   0              0   \n",
       "72001956300   G7200010956300           73                 124             14   \n",
       "72001956400   G7200010956400            0                   0              1   \n",
       "72001956500   G7200010956500            4                   2              1   \n",
       "72001956600   G7200010956600           17                  54              7   \n",
       "72001956700   G7200010956700            9                  29              8   \n",
       "72001956800   G7200010956800           22                  51              8   \n",
       "72003430100   G7200030430100           12                  31              9   \n",
       "\n",
       "                             inspected      rpfvl habitabilityRepairsRequired  \\\n",
       "                                   sum        sum                         sum   \n",
       "censusTractId gisjoin                                                           \n",
       "12099007201   G1200990007201         1   21523.41                           1   \n",
       "12103026601   G1201030026601         1        0.0                           1   \n",
       "12105012503   G1201050012503         1        0.0                           0   \n",
       "72001956300   G7200010956300      2202 6297242.05                        2089   \n",
       "72001956400   G7200010956400        27   44463.88                          22   \n",
       "72001956500   G7200010956500        87  264345.62                          88   \n",
       "72001956600   G7200010956600       716 1329886.54                         695   \n",
       "72001956700   G7200010956700       374  704028.45                         304   \n",
       "72001956800   G7200010956800       734  2183525.6                         643   \n",
       "72003430100   G7200030430100       242  428094.69                         302   \n",
       "\n",
       "                             destroyed waterLevel floodDamage  \\\n",
       "                                   sum       mean         sum   \n",
       "censusTractId gisjoin                                           \n",
       "12099007201   G1200990007201         0        0.0           0   \n",
       "12103026601   G1201030026601         0        0.0           0   \n",
       "12105012503   G1201050012503         0        0.0           0   \n",
       "72001956300   G7200010956300        27       0.12          44   \n",
       "72001956400   G7200010956400         0        0.4           2   \n",
       "72001956500   G7200010956500         1       0.87           4   \n",
       "72001956600   G7200010956600         5       0.16          16   \n",
       "72001956700   G7200010956700         2       0.13          12   \n",
       "72001956800   G7200010956800         8        0.2          17   \n",
       "72003430100   G7200030430100         1       3.22          41   \n",
       "\n",
       "                             foundationDamage foundationDamageAmount  \\\n",
       "                                          sum                    sum   \n",
       "censusTractId gisjoin                                                  \n",
       "12099007201   G1200990007201                0                    0.0   \n",
       "12103026601   G1201030026601                0                    0.0   \n",
       "12105012503   G1201050012503                0                    0.0   \n",
       "72001956300   G7200010956300               52               86689.77   \n",
       "72001956400   G7200010956400                2                5011.97   \n",
       "72001956500   G7200010956500                1                1117.03   \n",
       "72001956600   G7200010956600               15               49252.91   \n",
       "72001956700   G7200010956700               11                4612.48   \n",
       "72001956800   G7200010956800               18                7815.43   \n",
       "72003430100   G7200030430100                3                 111.39   \n",
       "\n",
       "                             roofDamage roofDamageAmount tsaEligible  \\\n",
       "                                    sum              sum         sum   \n",
       "censusTractId gisjoin                                                  \n",
       "12099007201   G1200990007201          1           1920.0           1   \n",
       "12103026601   G1201030026601          0              0.0           0   \n",
       "12105012503   G1201050012503          0              0.0           1   \n",
       "72001956300   G7200010956300        741        876777.02        2771   \n",
       "72001956400   G7200010956400         10          11940.6          32   \n",
       "72001956500   G7200010956500         36         38054.12         104   \n",
       "72001956600   G7200010956600        211        215598.25         926   \n",
       "72001956700   G7200010956700        136        123651.62         414   \n",
       "72001956800   G7200010956800        280        350929.77         864   \n",
       "72003430100   G7200030430100         41         42803.37         349   \n",
       "\n",
       "                             tsaCheckedIn rentalAssistanceEligible  \\\n",
       "                                      sum                      sum   \n",
       "censusTractId gisjoin                                                \n",
       "12099007201   G1200990007201            1                        1   \n",
       "12103026601   G1201030026601            0                        0   \n",
       "12105012503   G1201050012503            0                        0   \n",
       "72001956300   G7200010956300           28                      531   \n",
       "72001956400   G7200010956400            0                        7   \n",
       "72001956500   G7200010956500            1                       29   \n",
       "72001956600   G7200010956600            8                      146   \n",
       "72001956700   G7200010956700            3                      101   \n",
       "72001956800   G7200010956800            8                      208   \n",
       "72003430100   G7200030430100            4                       51   \n",
       "\n",
       "                             rentalAssistanceAmount repairAssistanceEligible  \\\n",
       "                                                sum                      sum   \n",
       "censusTractId gisjoin                                                          \n",
       "12099007201   G1200990007201                 1080.0                        1   \n",
       "12103026601   G1201030026601                    0.0                        0   \n",
       "12105012503   G1201050012503                    0.0                        0   \n",
       "72001956300   G7200010956300               441056.0                      689   \n",
       "72001956400   G7200010956400                 5592.0                       11   \n",
       "72001956500   G7200010956500                26251.0                       36   \n",
       "72001956600   G7200010956600               138175.0                      182   \n",
       "72001956700   G7200010956700               105317.0                      121   \n",
       "72001956800   G7200010956800               189456.0                      271   \n",
       "72003430100   G7200030430100                48212.0                       66   \n",
       "\n",
       "                             repairAmount replacementAssistanceEligible  \\\n",
       "                                      sum                           sum   \n",
       "censusTractId gisjoin                                                     \n",
       "12099007201   G1200990007201     21523.41                             0   \n",
       "12103026601   G1201030026601          0.0                             0   \n",
       "12105012503   G1201050012503          0.0                             0   \n",
       "72001956300   G7200010956300   2788698.19                            18   \n",
       "72001956400   G7200010956400     39423.41                             0   \n",
       "72001956500   G7200010956500    118017.55                             1   \n",
       "72001956600   G7200010956600     660180.1                             3   \n",
       "72001956700   G7200010956700    401896.18                             2   \n",
       "72001956800   G7200010956800   1127337.69                             6   \n",
       "72003430100   G7200030430100    227772.94                             0   \n",
       "\n",
       "                             replacementAmount sbaEligible primaryResidence  \\\n",
       "                                           sum         sum              sum   \n",
       "censusTractId gisjoin                                                         \n",
       "12099007201   G1200990007201               0.0           0                1   \n",
       "12103026601   G1201030026601               0.0           0                1   \n",
       "12105012503   G1201050012503               0.0           0                0   \n",
       "72001956300   G7200010956300         545495.04         101             2924   \n",
       "72001956400   G7200010956400               0.0           0               32   \n",
       "72001956500   G7200010956500          21964.16           3              115   \n",
       "72001956600   G7200010956600          91487.55          26             1009   \n",
       "72001956700   G7200010956700           64988.0          17              490   \n",
       "72001956800   G7200010956800         188202.56          52              920   \n",
       "72003430100   G7200030430100               0.0          14              376   \n",
       "\n",
       "                             personalPropertyEligible      ppfvl   haAmount  \\\n",
       "                                                  sum        sum        sum   \n",
       "censusTractId gisjoin                                                         \n",
       "12099007201   G1200990007201                        1   14819.02   22603.41   \n",
       "12103026601   G1201030026601                        0        0.0        0.0   \n",
       "12105012503   G1201050012503                        0        0.0        0.0   \n",
       "72001956300   G7200010956300                      878 2604425.11 3775249.23   \n",
       "72001956400   G7200010956400                       18   37541.08   45015.41   \n",
       "72001956500   G7200010956500                       41   122966.6  166232.71   \n",
       "72001956600   G7200010956600                      258  625858.67  889842.65   \n",
       "72001956700   G7200010956700                      163  320987.41  572201.18   \n",
       "72001956800   G7200010956800                      312  951804.55 1504996.25   \n",
       "72003430100   G7200030430100                       77  373226.73  275984.94   \n",
       "\n",
       "                             haAmount_predicted  \n",
       "                                            sum  \n",
       "censusTractId gisjoin                            \n",
       "12099007201   G1200990007201           24479.32  \n",
       "12103026601   G1201030026601                0.0  \n",
       "12105012503   G1201050012503                0.0  \n",
       "72001956300   G7200010956300         4393409.96  \n",
       "72001956400   G7200010956400           55982.52  \n",
       "72001956500   G7200010956500          202030.18  \n",
       "72001956600   G7200010956600         1044062.92  \n",
       "72001956700   G7200010956700          634597.24  \n",
       "72001956800   G7200010956800         1749909.58  \n",
       "72003430100   G7200030430100          351118.18  "
      ]
     },
     "execution_count": 72,
     "metadata": {},
     "output_type": "execute_result"
    }
   ],
   "source": [
    "pd.set_option('display.float_format', str)\n",
    "femaTestData_CensusTract.head(10)"
   ]
  },
  {
   "cell_type": "code",
   "execution_count": 73,
   "metadata": {},
   "outputs": [],
   "source": [
    "# Write aggregated predictions\n",
    "femaTestData_CensusTract.to_csv(\"./predictions/FEMA-Large-PR-predictions-censusTract.csv\", index=True, encoding='utf-8')"
   ]
  },
  {
   "cell_type": "markdown",
   "metadata": {},
   "source": [
    "## Random Forest Model trained on Fema Large with Outliers"
   ]
  },
  {
   "cell_type": "markdown",
   "metadata": {},
   "source": [
    "### Load the Training and Test Datasets - FL/TX and PR"
   ]
  },
  {
   "cell_type": "code",
   "execution_count": 5,
   "metadata": {},
   "outputs": [
    {
     "name": "stdout",
     "output_type": "stream",
     "text": [
      "There are 3535319 records in our training dataset.\n"
     ]
    }
   ],
   "source": [
    "femaFullTrainData = pd.read_csv('../data/open-fema/FEMA-Large-Demographics-FL-TX.csv')\n",
    "print('There are {} records in our training dataset.'.format(len(femaFullTrainData)))"
   ]
  },
  {
   "cell_type": "code",
   "execution_count": 6,
   "metadata": {},
   "outputs": [
    {
     "data": {
      "text/plain": [
       "Index(['disasterNumber', 'damagedCity', 'damagedStateAbbreviation',\n",
       "       'damagedZipCode', 'householdComposition', 'grossIncome', 'specialNeeds',\n",
       "       'homeOwnersInsurance', 'floodInsurance', 'inspected', 'rpfvl',\n",
       "       'habitabilityRepairsRequired', 'destroyed', 'waterLevel', 'floodDamage',\n",
       "       'foundationDamage', 'foundationDamageAmount', 'roofDamage',\n",
       "       'roofDamageAmount', 'tsaEligible', 'tsaCheckedIn',\n",
       "       'rentalAssistanceEligible', 'rentalAssistanceAmount',\n",
       "       'repairAssistanceEligible', 'repairAmount',\n",
       "       'replacementAssistanceEligible', 'replacementAmount', 'sbaEligible',\n",
       "       'renterDamageLevel', 'rentalAssistanceEndDate', 'rentalResourceCity',\n",
       "       'rentalResourceStateAbbreviation', 'rentalResourceZipCode',\n",
       "       'primaryResidence', 'personalPropertyEligible', 'ppfvl',\n",
       "       'censusBlockId', 'censusYear', 'id', 'censusTractId', 'censusid',\n",
       "       'tractid', 'tractname', 'county', 'state', 'below_poverty_rate',\n",
       "       'median_earnings_total', 'unemployed_labor_rate',\n",
       "       'built_1979_or_earlier_rate', 'owner_occupied_rate', 'dvi', 'haAmount',\n",
       "       'ownRent_Owner', 'ownRent_Renter', 'ownRent_Unknown',\n",
       "       'residenceType_Apartment', 'residenceType_Assisted Living Facility',\n",
       "       'residenceType_Boat', 'residenceType_College Dorm',\n",
       "       'residenceType_Condo', 'residenceType_Correctional Facility',\n",
       "       'residenceType_House/Duplex', 'residenceType_Military Housing',\n",
       "       'residenceType_Mobile Home', 'residenceType_Other',\n",
       "       'residenceType_Townhouse', 'residenceType_Travel Trailer',\n",
       "       'residenceType_Unknown'],\n",
       "      dtype='object')"
      ]
     },
     "execution_count": 6,
     "metadata": {},
     "output_type": "execute_result"
    }
   ],
   "source": [
    "femaFullTrainData.columns"
   ]
  },
  {
   "cell_type": "code",
   "execution_count": 22,
   "metadata": {},
   "outputs": [
    {
     "name": "stderr",
     "output_type": "stream",
     "text": [
      "/Users/nitinserro/anaconda3/lib/python3.6/site-packages/IPython/core/interactiveshell.py:3072: DtypeWarning: Columns (29,30,31) have mixed types.Specify dtype option on import or set low_memory=False.\n",
      "  interactivity=interactivity, compiler=compiler, result=result)\n"
     ]
    },
    {
     "name": "stdout",
     "output_type": "stream",
     "text": [
      "There are 1067075 records in our test dataset.\n"
     ]
    }
   ],
   "source": [
    "femaFullTestData = pd.read_csv('../data/open-fema/FEMA-Large-Demographics-PR.csv')\n",
    "print('There are {} records in our test dataset.'.format(len(femaFullTestData)))"
   ]
  },
  {
   "cell_type": "code",
   "execution_count": 23,
   "metadata": {},
   "outputs": [
    {
     "data": {
      "text/plain": [
       "Index(['disasterNumber', 'damagedCity', 'damagedStateAbbreviation',\n",
       "       'damagedZipCode', 'householdComposition', 'grossIncome', 'specialNeeds',\n",
       "       'homeOwnersInsurance', 'floodInsurance', 'inspected', 'rpfvl',\n",
       "       'habitabilityRepairsRequired', 'destroyed', 'waterLevel', 'floodDamage',\n",
       "       'foundationDamage', 'foundationDamageAmount', 'roofDamage',\n",
       "       'roofDamageAmount', 'tsaEligible', 'tsaCheckedIn',\n",
       "       'rentalAssistanceEligible', 'rentalAssistanceAmount',\n",
       "       'repairAssistanceEligible', 'repairAmount',\n",
       "       'replacementAssistanceEligible', 'replacementAmount', 'sbaEligible',\n",
       "       'renterDamageLevel', 'rentalAssistanceEndDate', 'rentalResourceCity',\n",
       "       'rentalResourceStateAbbreviation', 'rentalResourceZipCode',\n",
       "       'primaryResidence', 'personalPropertyEligible', 'ppfvl',\n",
       "       'censusBlockId', 'censusYear', 'id', 'censusTractId', 'censusid',\n",
       "       'tractid', 'tractname', 'county', 'state', 'below_poverty_rate',\n",
       "       'median_earnings_total', 'unemployed_labor_rate',\n",
       "       'built_1979_or_earlier_rate', 'owner_occupied_rate', 'dvi', 'haAmount',\n",
       "       'ownRent_Owner', 'ownRent_Renter', 'ownRent_Unknown',\n",
       "       'residenceType_Apartment', 'residenceType_Assisted Living Facility',\n",
       "       'residenceType_Boat', 'residenceType_College Dorm',\n",
       "       'residenceType_Condo', 'residenceType_Correctional Facility',\n",
       "       'residenceType_House/Duplex', 'residenceType_Military Housing',\n",
       "       'residenceType_Mobile Home', 'residenceType_Other',\n",
       "       'residenceType_Townhouse', 'residenceType_Travel Trailer',\n",
       "       'residenceType_Unknown'],\n",
       "      dtype='object')"
      ]
     },
     "execution_count": 23,
     "metadata": {},
     "output_type": "execute_result"
    }
   ],
   "source": [
    "femaFullTestData.columns"
   ]
  },
  {
   "cell_type": "markdown",
   "metadata": {},
   "source": [
    "### Create IHP-only Train and Test Datasets"
   ]
  },
  {
   "cell_type": "code",
   "execution_count": 14,
   "metadata": {},
   "outputs": [],
   "source": [
    "femaFullTrainDf = femaFullTrainData[femaFullTrainData.columns[~femaFullTrainData.columns.isin(\n",
    "    ihp_exclude_cols + demo_exclude_cols + demo_dvi_col + demo_rate_cols)]]"
   ]
  },
  {
   "cell_type": "code",
   "execution_count": 24,
   "metadata": {},
   "outputs": [],
   "source": [
    "femaFullTestDf = femaFullTestData[femaFullTestData.columns[~femaFullTestData.columns.isin(\n",
    "    ihp_exclude_cols + demo_exclude_cols + demo_dvi_col + demo_rate_cols)]]"
   ]
  },
  {
   "cell_type": "markdown",
   "metadata": {},
   "source": [
    "### Grid Search\n",
    "    Parameter Grid:\n",
    "\n",
    "    param_grid_rf = {\n",
    "        'bootstrap': [True],\n",
    "        'max_samples': [0.8, 0.9, None],\n",
    "        'max_depth': [8, 9, 10],\n",
    "        'n_estimators': [75, 100, 125],\n",
    "        'min_samples_leaf': [1, 5, 10]\n",
    "    }\n",
    "    Grid Search Params:\n",
    "\n",
    "    scoring='neg_mean_squared_error'\n",
    "    cv = 3 "
   ]
  },
  {
   "cell_type": "code",
   "execution_count": 19,
   "metadata": {},
   "outputs": [
    {
     "name": "stdout",
     "output_type": "stream",
     "text": [
      "Shape of Training and Test inputs\n",
      "(2828255, 34) (2828255,)\n",
      "(707064, 34) (707064,)\n",
      "Fitting 3 folds for each of 81 candidates, totalling 243 fits\n",
      "Best params:\n",
      " {'bootstrap': True, 'max_depth': 10, 'max_samples': 0.9, 'min_samples_leaf': 5, 'n_estimators': 125}\n"
     ]
    }
   ],
   "source": [
    "model_rf_full_best, y_pred, y_test = run_rf_grid_search(femaFullTrainDf, frac = 1.0, scoring = 'neg_mean_squared_error')"
   ]
  },
  {
   "cell_type": "code",
   "execution_count": 20,
   "metadata": {},
   "outputs": [
    {
     "name": "stdout",
     "output_type": "stream",
     "text": [
      "Mean Absolute Error: 72.7897017595783\n",
      "Mean Squared Error: 292746.5688606674\n",
      "Root Mean Squared Error: 541.0605962927511\n",
      "R-squared: 0.9542814819392489\n",
      "\n",
      "\n",
      "Total HA Amount actual:    $387,597,186.13\n",
      "Total HA Amount predicted: $387,213,676.22\n",
      "\n",
      "\n",
      "Percentage of predictions that are off by more than 20%: 4.77\n"
     ]
    }
   ],
   "source": [
    "evaluate(y_test, y_pred)"
   ]
  },
  {
   "cell_type": "code",
   "execution_count": 21,
   "metadata": {},
   "outputs": [
    {
     "data": {
      "text/html": [
       "<div>\n",
       "<style scoped>\n",
       "    .dataframe tbody tr th:only-of-type {\n",
       "        vertical-align: middle;\n",
       "    }\n",
       "\n",
       "    .dataframe tbody tr th {\n",
       "        vertical-align: top;\n",
       "    }\n",
       "\n",
       "    .dataframe thead th {\n",
       "        text-align: right;\n",
       "    }\n",
       "</style>\n",
       "<table border=\"1\" class=\"dataframe\">\n",
       "  <thead>\n",
       "    <tr style=\"text-align: right;\">\n",
       "      <th></th>\n",
       "      <th>count</th>\n",
       "      <th>mean</th>\n",
       "      <th>std</th>\n",
       "      <th>min</th>\n",
       "      <th>25%</th>\n",
       "      <th>50%</th>\n",
       "      <th>75%</th>\n",
       "      <th>max</th>\n",
       "    </tr>\n",
       "  </thead>\n",
       "  <tbody>\n",
       "    <tr>\n",
       "      <th>actual</th>\n",
       "      <td>707064.0</td>\n",
       "      <td>548.178363</td>\n",
       "      <td>2530.463875</td>\n",
       "      <td>0.000000</td>\n",
       "      <td>0.0</td>\n",
       "      <td>0.0</td>\n",
       "      <td>0.0</td>\n",
       "      <td>34788.830000</td>\n",
       "    </tr>\n",
       "    <tr>\n",
       "      <th>predicted</th>\n",
       "      <td>707064.0</td>\n",
       "      <td>547.635965</td>\n",
       "      <td>2465.395835</td>\n",
       "      <td>0.000000</td>\n",
       "      <td>0.0</td>\n",
       "      <td>0.0</td>\n",
       "      <td>0.0</td>\n",
       "      <td>33045.696610</td>\n",
       "    </tr>\n",
       "    <tr>\n",
       "      <th>errors</th>\n",
       "      <td>707064.0</td>\n",
       "      <td>-0.542398</td>\n",
       "      <td>541.060707</td>\n",
       "      <td>-30265.376578</td>\n",
       "      <td>0.0</td>\n",
       "      <td>0.0</td>\n",
       "      <td>0.0</td>\n",
       "      <td>30102.962259</td>\n",
       "    </tr>\n",
       "  </tbody>\n",
       "</table>\n",
       "</div>"
      ],
      "text/plain": [
       "              count        mean          std           min  25%  50%  75%  \\\n",
       "actual     707064.0  548.178363  2530.463875      0.000000  0.0  0.0  0.0   \n",
       "predicted  707064.0  547.635965  2465.395835      0.000000  0.0  0.0  0.0   \n",
       "errors     707064.0   -0.542398   541.060707 -30265.376578  0.0  0.0  0.0   \n",
       "\n",
       "                    max  \n",
       "actual     34788.830000  \n",
       "predicted  33045.696610  \n",
       "errors     30102.962259  "
      ]
     },
     "execution_count": 21,
     "metadata": {},
     "output_type": "execute_result"
    }
   ],
   "source": [
    "# Look at the distribution of predictions/actuals/errors\n",
    "results_df = pd.DataFrame({'actual': y_test, 'predicted': y_pred})\n",
    "results_df['errors'] = results_df['predicted'] - results_df['actual']\n",
    "results_df.describe().transpose()"
   ]
  },
  {
   "cell_type": "markdown",
   "metadata": {},
   "source": [
    "### Predict on PR Full Test data"
   ]
  },
  {
   "cell_type": "code",
   "execution_count": 26,
   "metadata": {},
   "outputs": [
    {
     "name": "stdout",
     "output_type": "stream",
     "text": [
      "Shape of Training and Test inputs\n",
      "(1067075, 34) (1067075,)\n"
     ]
    }
   ],
   "source": [
    "y_pred, y_test = predict(femaFullTestDf, model_rf_full_best)"
   ]
  },
  {
   "cell_type": "code",
   "execution_count": 27,
   "metadata": {},
   "outputs": [
    {
     "name": "stdout",
     "output_type": "stream",
     "text": [
      "Mean Absolute Error: 159.46991700098732\n",
      "Mean Squared Error: 347641.02627830085\n",
      "Root Mean Squared Error: 589.6109109220256\n",
      "R-squared: 0.9476730525338654\n",
      "\n",
      "\n",
      "Total HA Amount actual:    $649,009,278.07\n",
      "Total HA Amount predicted: $778,337,781.40\n",
      "\n",
      "\n",
      "Percentage of predictions that are off by more than 20%: 11.10\n"
     ]
    }
   ],
   "source": [
    "evaluate(y_test, y_pred)"
   ]
  },
  {
   "cell_type": "code",
   "execution_count": 28,
   "metadata": {},
   "outputs": [
    {
     "data": {
      "text/html": [
       "<div>\n",
       "<style scoped>\n",
       "    .dataframe tbody tr th:only-of-type {\n",
       "        vertical-align: middle;\n",
       "    }\n",
       "\n",
       "    .dataframe tbody tr th {\n",
       "        vertical-align: top;\n",
       "    }\n",
       "\n",
       "    .dataframe thead th {\n",
       "        text-align: right;\n",
       "    }\n",
       "</style>\n",
       "<table border=\"1\" class=\"dataframe\">\n",
       "  <thead>\n",
       "    <tr style=\"text-align: right;\">\n",
       "      <th></th>\n",
       "      <th>count</th>\n",
       "      <th>mean</th>\n",
       "      <th>std</th>\n",
       "      <th>min</th>\n",
       "      <th>25%</th>\n",
       "      <th>50%</th>\n",
       "      <th>75%</th>\n",
       "      <th>max</th>\n",
       "    </tr>\n",
       "  </thead>\n",
       "  <tbody>\n",
       "    <tr>\n",
       "      <th>actual</th>\n",
       "      <td>1067075.0</td>\n",
       "      <td>608.213367</td>\n",
       "      <td>2577.525763</td>\n",
       "      <td>0.000000</td>\n",
       "      <td>0.0</td>\n",
       "      <td>0.0</td>\n",
       "      <td>0.0</td>\n",
       "      <td>66600.000000</td>\n",
       "    </tr>\n",
       "    <tr>\n",
       "      <th>predicted</th>\n",
       "      <td>1067075.0</td>\n",
       "      <td>729.412442</td>\n",
       "      <td>2726.728367</td>\n",
       "      <td>0.000000</td>\n",
       "      <td>0.0</td>\n",
       "      <td>0.0</td>\n",
       "      <td>0.0</td>\n",
       "      <td>33059.200534</td>\n",
       "    </tr>\n",
       "    <tr>\n",
       "      <th>errors</th>\n",
       "      <td>1067075.0</td>\n",
       "      <td>121.199075</td>\n",
       "      <td>577.020036</td>\n",
       "      <td>-35777.615721</td>\n",
       "      <td>0.0</td>\n",
       "      <td>0.0</td>\n",
       "      <td>0.0</td>\n",
       "      <td>30286.007326</td>\n",
       "    </tr>\n",
       "  </tbody>\n",
       "</table>\n",
       "</div>"
      ],
      "text/plain": [
       "               count        mean          std           min  25%  50%  75%  \\\n",
       "actual     1067075.0  608.213367  2577.525763      0.000000  0.0  0.0  0.0   \n",
       "predicted  1067075.0  729.412442  2726.728367      0.000000  0.0  0.0  0.0   \n",
       "errors     1067075.0  121.199075   577.020036 -35777.615721  0.0  0.0  0.0   \n",
       "\n",
       "                    max  \n",
       "actual     66600.000000  \n",
       "predicted  33059.200534  \n",
       "errors     30286.007326  "
      ]
     },
     "execution_count": 28,
     "metadata": {},
     "output_type": "execute_result"
    }
   ],
   "source": [
    "results_df = pd.DataFrame({'actual': y_test, 'predicted': y_pred})\n",
    "results_df['errors'] = results_df['predicted'] - results_df['actual']\n",
    "results_df.describe().transpose()"
   ]
  },
  {
   "cell_type": "code",
   "execution_count": null,
   "metadata": {},
   "outputs": [],
   "source": []
  }
 ],
 "metadata": {
  "kernelspec": {
   "display_name": "Python 3",
   "language": "python",
   "name": "python3"
  },
  "language_info": {
   "codemirror_mode": {
    "name": "ipython",
    "version": 3
   },
   "file_extension": ".py",
   "mimetype": "text/x-python",
   "name": "python",
   "nbconvert_exporter": "python",
   "pygments_lexer": "ipython3",
   "version": "3.6.10"
  }
 },
 "nbformat": 4,
 "nbformat_minor": 4
}
